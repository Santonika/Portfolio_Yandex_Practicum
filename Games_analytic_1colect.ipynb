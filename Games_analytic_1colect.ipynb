{
 "cells": [
  {
   "cell_type": "markdown",
   "id": "9210d963",
   "metadata": {},
   "source": [
    "# Marketing Analysis of Video Games Across Different Generations"
   ]
  },
  {
   "cell_type": "markdown",
   "id": "8a190c09",
   "metadata": {},
   "source": [
    "## General Project Information"
   ]
  },
  {
   "cell_type": "markdown",
   "id": "919bcac2",
   "metadata": {},
   "source": [
    "\"StreamChic\" online store sells computer games worldwide. Historical data on game sales, user and expert ratings, genres, and platforms (e.g., Xbox or PlayStation) are available from open sources. The goal of the analysis is to identify patterns that determine the success of a game. This will allow us to bet on potentially popular products and plan advertising campaigns. \n",
    "The provided data covers the period from 1980 to 2016.\n",
    "\n",
    "Action plan:\n",
    "\n",
    "    1) Preliminary Data Exploration.\n",
    "    2) Determining Market Leaders for the Entire Period of Video Game Existence.\n",
    "    3) Market Leaders for the Last 3 Years.\n",
    "    4) The Impact of Rating on Sales.\n",
    "    5) User Portrait for Each Region.\n",
    "    6) Influence of ESRB Rating.\n",
    "    7) Hypothesis Testing.\n",
    "    8) Conclusions.\n",
    "\n",
    "\n"
   ]
  },
  {
   "cell_type": "markdown",
   "id": "5d81dacf",
   "metadata": {},
   "source": [
    "## Step 1. Studying data and general information"
   ]
  },
  {
   "cell_type": "code",
   "execution_count": 44,
   "id": "3835d0f2",
   "metadata": {},
   "outputs": [],
   "source": [
    "# Connecting all necessary libraries\n",
    "import pandas as pd\n",
    "from scipy import stats as st\n",
    "import numpy as np\n",
    "import matplotlib.pyplot as plt\n",
    "import seaborn as sns"
   ]
  },
  {
   "cell_type": "code",
   "execution_count": 45,
   "id": "31d1d32e",
   "metadata": {},
   "outputs": [],
   "source": [
    "data = pd.read_csv('/datasets/games.csv')"
   ]
  },
  {
   "cell_type": "code",
   "execution_count": 46,
   "id": "7372687d",
   "metadata": {
    "scrolled": true
   },
   "outputs": [
    {
     "data": {
      "text/html": [
       "<div>\n",
       "<style scoped>\n",
       "    .dataframe tbody tr th:only-of-type {\n",
       "        vertical-align: middle;\n",
       "    }\n",
       "\n",
       "    .dataframe tbody tr th {\n",
       "        vertical-align: top;\n",
       "    }\n",
       "\n",
       "    .dataframe thead th {\n",
       "        text-align: right;\n",
       "    }\n",
       "</style>\n",
       "<table border=\"1\" class=\"dataframe\">\n",
       "  <thead>\n",
       "    <tr style=\"text-align: right;\">\n",
       "      <th></th>\n",
       "      <th>Name</th>\n",
       "      <th>Platform</th>\n",
       "      <th>Year_of_Release</th>\n",
       "      <th>Genre</th>\n",
       "      <th>NA_sales</th>\n",
       "      <th>EU_sales</th>\n",
       "      <th>JP_sales</th>\n",
       "      <th>Other_sales</th>\n",
       "      <th>Critic_Score</th>\n",
       "      <th>User_Score</th>\n",
       "      <th>Rating</th>\n",
       "    </tr>\n",
       "  </thead>\n",
       "  <tbody>\n",
       "    <tr>\n",
       "      <th>0</th>\n",
       "      <td>Wii Sports</td>\n",
       "      <td>Wii</td>\n",
       "      <td>2006.0</td>\n",
       "      <td>Sports</td>\n",
       "      <td>41.36</td>\n",
       "      <td>28.96</td>\n",
       "      <td>3.77</td>\n",
       "      <td>8.45</td>\n",
       "      <td>76.0</td>\n",
       "      <td>8</td>\n",
       "      <td>E</td>\n",
       "    </tr>\n",
       "    <tr>\n",
       "      <th>1</th>\n",
       "      <td>Super Mario Bros.</td>\n",
       "      <td>NES</td>\n",
       "      <td>1985.0</td>\n",
       "      <td>Platform</td>\n",
       "      <td>29.08</td>\n",
       "      <td>3.58</td>\n",
       "      <td>6.81</td>\n",
       "      <td>0.77</td>\n",
       "      <td>NaN</td>\n",
       "      <td>NaN</td>\n",
       "      <td>NaN</td>\n",
       "    </tr>\n",
       "    <tr>\n",
       "      <th>2</th>\n",
       "      <td>Mario Kart Wii</td>\n",
       "      <td>Wii</td>\n",
       "      <td>2008.0</td>\n",
       "      <td>Racing</td>\n",
       "      <td>15.68</td>\n",
       "      <td>12.76</td>\n",
       "      <td>3.79</td>\n",
       "      <td>3.29</td>\n",
       "      <td>82.0</td>\n",
       "      <td>8.3</td>\n",
       "      <td>E</td>\n",
       "    </tr>\n",
       "    <tr>\n",
       "      <th>3</th>\n",
       "      <td>Wii Sports Resort</td>\n",
       "      <td>Wii</td>\n",
       "      <td>2009.0</td>\n",
       "      <td>Sports</td>\n",
       "      <td>15.61</td>\n",
       "      <td>10.93</td>\n",
       "      <td>3.28</td>\n",
       "      <td>2.95</td>\n",
       "      <td>80.0</td>\n",
       "      <td>8</td>\n",
       "      <td>E</td>\n",
       "    </tr>\n",
       "    <tr>\n",
       "      <th>4</th>\n",
       "      <td>Pokemon Red/Pokemon Blue</td>\n",
       "      <td>GB</td>\n",
       "      <td>1996.0</td>\n",
       "      <td>Role-Playing</td>\n",
       "      <td>11.27</td>\n",
       "      <td>8.89</td>\n",
       "      <td>10.22</td>\n",
       "      <td>1.00</td>\n",
       "      <td>NaN</td>\n",
       "      <td>NaN</td>\n",
       "      <td>NaN</td>\n",
       "    </tr>\n",
       "  </tbody>\n",
       "</table>\n",
       "</div>"
      ],
      "text/plain": [
       "                       Name Platform  Year_of_Release         Genre  NA_sales  \\\n",
       "0                Wii Sports      Wii           2006.0        Sports     41.36   \n",
       "1         Super Mario Bros.      NES           1985.0      Platform     29.08   \n",
       "2            Mario Kart Wii      Wii           2008.0        Racing     15.68   \n",
       "3         Wii Sports Resort      Wii           2009.0        Sports     15.61   \n",
       "4  Pokemon Red/Pokemon Blue       GB           1996.0  Role-Playing     11.27   \n",
       "\n",
       "   EU_sales  JP_sales  Other_sales  Critic_Score User_Score Rating  \n",
       "0     28.96      3.77         8.45          76.0          8      E  \n",
       "1      3.58      6.81         0.77           NaN        NaN    NaN  \n",
       "2     12.76      3.79         3.29          82.0        8.3      E  \n",
       "3     10.93      3.28         2.95          80.0          8      E  \n",
       "4      8.89     10.22         1.00           NaN        NaN    NaN  "
      ]
     },
     "metadata": {},
     "output_type": "display_data"
    }
   ],
   "source": [
    "display(data.head())"
   ]
  },
  {
   "cell_type": "code",
   "execution_count": 47,
   "id": "e28a5b5b",
   "metadata": {
    "scrolled": false
   },
   "outputs": [
    {
     "name": "stdout",
     "output_type": "stream",
     "text": [
      "<class 'pandas.core.frame.DataFrame'>\n",
      "RangeIndex: 16715 entries, 0 to 16714\n",
      "Data columns (total 11 columns):\n",
      " #   Column           Non-Null Count  Dtype  \n",
      "---  ------           --------------  -----  \n",
      " 0   Name             16713 non-null  object \n",
      " 1   Platform         16715 non-null  object \n",
      " 2   Year_of_Release  16446 non-null  float64\n",
      " 3   Genre            16713 non-null  object \n",
      " 4   NA_sales         16715 non-null  float64\n",
      " 5   EU_sales         16715 non-null  float64\n",
      " 6   JP_sales         16715 non-null  float64\n",
      " 7   Other_sales      16715 non-null  float64\n",
      " 8   Critic_Score     8137 non-null   float64\n",
      " 9   User_Score       10014 non-null  object \n",
      " 10  Rating           9949 non-null   object \n",
      "dtypes: float64(6), object(5)\n",
      "memory usage: 1.4+ MB\n"
     ]
    }
   ],
   "source": [
    "data.info()"
   ]
  },
  {
   "cell_type": "markdown",
   "id": "e9e6d263",
   "metadata": {},
   "source": [
    "Many columns have missing values and incorrect data formats; we will address this in the next section."
   ]
  },
  {
   "cell_type": "markdown",
   "id": "d14fa3f0",
   "metadata": {},
   "source": [
    "## Step 2. Data Preparation"
   ]
  },
  {
   "cell_type": "code",
   "execution_count": 48,
   "id": "907596ab",
   "metadata": {},
   "outputs": [
    {
     "name": "stdout",
     "output_type": "stream",
     "text": [
      "Index(['Name', 'Platform', 'Year_of_Release', 'Genre', 'NA_sales', 'EU_sales',\n",
      "       'JP_sales', 'Other_sales', 'Critic_Score', 'User_Score', 'Rating'],\n",
      "      dtype='object')\n"
     ]
    }
   ],
   "source": [
    "print(data.columns)\n",
    "# printing column name  "
   ]
  },
  {
   "cell_type": "code",
   "execution_count": 49,
   "id": "04cbd95d",
   "metadata": {},
   "outputs": [],
   "source": [
    "data.columns = data.columns.str.lower()\n",
    "# converting all uppercase letters to lowercase\n",
    "#print(data.columns)\n",
    "# result checking"
   ]
  },
  {
   "cell_type": "markdown",
   "id": "68d26f67",
   "metadata": {},
   "source": [
    "### Handing missing values"
   ]
  },
  {
   "cell_type": "markdown",
   "id": "81e864d7",
   "metadata": {},
   "source": [
    "\"Among user scores, the abbreviation 'tbd' is present, which stands for 'to be determined.'\n",
    "It seems there was insufficient information to fill in this cell.\n",
    "Let's replace 'tbd' with 'nan'.\""
   ]
  },
  {
   "cell_type": "code",
   "execution_count": 50,
   "id": "f1ae555c",
   "metadata": {
    "scrolled": true
   },
   "outputs": [],
   "source": [
    "#data['user_score'].unique()\n",
    "\n",
    "#print(data['user_score'].value_counts())\n",
    "# проверяем количество tbd в 'user_score'\n",
    "data.loc[data['user_score']=='tbd', 'user_score'] = np.nan\n",
    "#data['user_score'].unique()\n",
    "\n",
    "# убираем tbd"
   ]
  },
  {
   "cell_type": "markdown",
   "id": "37908146",
   "metadata": {},
   "source": [
    "### Changing data types"
   ]
  },
  {
   "cell_type": "code",
   "execution_count": 51,
   "id": "6a8f1ba2",
   "metadata": {
    "scrolled": false
   },
   "outputs": [],
   "source": [
    "data['critic_score'] = data['critic_score'].astype(float)\n",
    "data['user_score'] = data['user_score'].astype(float)"
   ]
  },
  {
   "cell_type": "markdown",
   "id": "4611aa92",
   "metadata": {},
   "source": [
    "The 'user_score' and 'critic_score' columns contain numerical values but have the 'object' data type; let's change it to 'float."
   ]
  },
  {
   "cell_type": "code",
   "execution_count": 52,
   "id": "0682e5ef",
   "metadata": {
    "scrolled": true
   },
   "outputs": [
    {
     "name": "stdout",
     "output_type": "stream",
     "text": [
      "name                  2\n",
      "platform              0\n",
      "year_of_release     269\n",
      "genre                 2\n",
      "na_sales              0\n",
      "eu_sales              0\n",
      "jp_sales              0\n",
      "other_sales           0\n",
      "critic_score       8578\n",
      "user_score         9125\n",
      "rating             6766\n",
      "dtype: int64\n"
     ]
    }
   ],
   "source": [
    "print(data.isna().sum())"
   ]
  },
  {
   "cell_type": "markdown",
   "id": "43975e11",
   "metadata": {},
   "source": [
    "Missing values and extraneous data are hindering the data type conversion. Therefore, let's start by filling in the gaps and removing artifacts."
   ]
  },
  {
   "cell_type": "markdown",
   "id": "58d69c0b",
   "metadata": {},
   "source": [
    "There are missing values in 6 columns: In the 'name' and 'genre' columns, there are only 2 missing values each; we will remove those rows. \n",
    "In the 'year_of_release' column, there are more missing values, but they would be disruptive to our analysis; we will also remove them.\n",
    "\n",
    "We will leave the missing values in 'rating,' 'critic_score,' and 'user_score' columns as they are for now. \n",
    "In these columns, the missing values likely occurred because the game might not have been rated, or there could have been an error during data extraction."
   ]
  },
  {
   "cell_type": "code",
   "execution_count": 53,
   "id": "e5431a71",
   "metadata": {},
   "outputs": [
    {
     "name": "stdout",
     "output_type": "stream",
     "text": [
      "0\n"
     ]
    }
   ],
   "source": [
    "print(data.duplicated().sum())# Checking for duplicate entries; no duplicates found."
   ]
  },
  {
   "cell_type": "code",
   "execution_count": 54,
   "id": "19bb782c",
   "metadata": {},
   "outputs": [],
   "source": [
    "# Adding a column with sales data for all regions.\n",
    "data['all_sales'] = data[['other_sales','eu_sales','jp_sales','na_sales']].sum(axis=1)"
   ]
  },
  {
   "cell_type": "markdown",
   "id": "5fccc391",
   "metadata": {},
   "source": [
    "    Result of data preprocessing:\n",
    "1. Unnecessary rows have been removed.\n",
    "2. Values in the 'user_score' column have been replaced with 'tbd'.\n",
    "3. An additional column 'total_sum' has been created.\n",
    "4. Data types of the 'user_score' and 'critic_score' columns have been changed.\""
   ]
  },
  {
   "cell_type": "markdown",
   "id": "90ae5991",
   "metadata": {},
   "source": [
    "## Step 3.  Exploratory Data Analysis (EDA)"
   ]
  },
  {
   "cell_type": "code",
   "execution_count": 55,
   "id": "de154f28",
   "metadata": {},
   "outputs": [
    {
     "data": {
      "text/plain": [
       "PS2     2161\n",
       "DS      2151\n",
       "PS3     1331\n",
       "Wii     1320\n",
       "X360    1262\n",
       "Name: platform, dtype: int64"
      ]
     },
     "execution_count": 55,
     "metadata": {},
     "output_type": "execute_result"
    }
   ],
   "source": [
    "data['platform'].value_counts().head(5)\n",
    "# List of the most popular platforms for the entire period."
   ]
  },
  {
   "cell_type": "code",
   "execution_count": 56,
   "id": "dee804cd",
   "metadata": {
    "scrolled": true
   },
   "outputs": [
    {
     "data": {
      "text/plain": [
       "Text(0, 0.5, 'Number of releases')"
      ]
     },
     "execution_count": 56,
     "metadata": {},
     "output_type": "execute_result"
    },
    {
     "data": {
      "image/png": "[encoded data removed]",
      "text/plain": [
       "<Figure size 1080x360 with 1 Axes>"
      ]
     },
     "metadata": {
      "needs_background": "light"
     },
     "output_type": "display_data"
    }
   ],
   "source": [
    "data['year_of_release'].hist(bins=(40), range=(1978,2017), figsize=(15,5))\\\n",
    "                .set_title('Number of releases per yea', size =(20))\n",
    "plt.xlabel('Release year')\n",
    "plt.ylabel('Number of releases')\n",
    "# посмотрим, как менялась число релизов игр с годами"
   ]
  },
  {
   "cell_type": "markdown",
   "id": "90e52a4c",
   "metadata": {},
   "source": [
    "The distribution appears to be normal.\n",
    "It is evident that the video game industry started to develop significantly after the year 1995. \n",
    "The peak of game releases is observed around the year 2008."
   ]
  },
  {
   "cell_type": "code",
   "execution_count": 57,
   "id": "de9700e5",
   "metadata": {
    "scrolled": false
   },
   "outputs": [
    {
     "data": {
      "text/plain": [
       "<Figure size 1440x360 with 0 Axes>"
      ]
     },
     "execution_count": 57,
     "metadata": {},
     "output_type": "execute_result"
    },
    {
     "data": {
      "image/png": "[encoded data removed]",
      "text/plain": [
       "<Figure size 432x288 with 1 Axes>"
      ]
     },
     "metadata": {
      "needs_background": "light"
     },
     "output_type": "display_data"
    },
    {
     "data": {
      "text/plain": [
       "<Figure size 1440x360 with 0 Axes>"
      ]
     },
     "metadata": {},
     "output_type": "display_data"
    }
   ],
   "source": [
    "# Sales performance across different platforms\n",
    "\n",
    "platforms = data.pivot_table(index='platform', values='all_sales', aggfunc='sum')\\\n",
    "    .sort_values(by='all_sales', ascending=False)\n",
    "platforms.plot(kind='bar')\n",
    "plt.xlabel('Рlatform')\n",
    "plt.ylabel('Sales')\n",
    "plt.title('Sales on different platforms',size=20)\n",
    "plt.figure(figsize=(20, 5))\n"
   ]
  },
  {
   "cell_type": "markdown",
   "id": "9ca0925d",
   "metadata": {},
   "source": [
    "Market leaders for the entire period: 'PS2','X360','PS3','Wii','DS', PS"
   ]
  },
  {
   "cell_type": "markdown",
   "id": "1cbddd7d",
   "metadata": {},
   "source": [
    "### The most popular platforms over the entire period of video game existence."
   ]
  },
  {
   "cell_type": "code",
   "execution_count": 58,
   "id": "c5a93418",
   "metadata": {},
   "outputs": [
    {
     "data": {
      "image/png": "[encoded data removed]",
      "text/plain": [
       "<Figure size 432x288 with 1 Axes>"
      ]
     },
     "metadata": {
      "needs_background": "light"
     },
     "output_type": "display_data"
    }
   ],
   "source": [
    "games_names = ['PS2','X360','PS3','Wii','PS']\n",
    "for e in games_names:\n",
    "    platform = data[data['platform'] == e]\n",
    "    plt.hist(platform['year_of_release'],range=(1993,2017), bins=25, alpha=0.5, label= e)\n",
    "    \n",
    "plt.xlabel('Year of release')\n",
    "plt.ylabel('Game release count')\n",
    "plt.title('Histograms of Platforms per years')\n",
    "label = ['PS2','X360','PS3','Wii','PS']\n",
    "plt.legend(label)\n",
    "plt.figsize = (20,10)"
   ]
  },
  {
   "cell_type": "code",
   "execution_count": 59,
   "id": "8499e534",
   "metadata": {
    "scrolled": false
   },
   "outputs": [],
   "source": [
    "platform_filter = data.query(('year_of_release>2000.0 and (platform ==\"PS2\" or platform ==\"X360\" \\\n",
    "                    or platform ==\"PS3\" or platform ==\"Wii\"\\\n",
    "                    or platform ==\"PS\" or platform ==\"DS\")'))\n",
    "# The data before the year 2000 has been excluded to avoid overloading the chart, \n",
    "# as the industry was just emerging, and they may not be representative."
   ]
  },
  {
   "cell_type": "code",
   "execution_count": 60,
   "id": "d39a2cb0",
   "metadata": {
    "scrolled": false
   },
   "outputs": [
    {
     "data": {
      "text/plain": [
       "Text(0, 0.5, 'Sales volumes')"
      ]
     },
     "execution_count": 60,
     "metadata": {},
     "output_type": "execute_result"
    },
    {
     "data": {
      "image/png": "[encoded data removed]",
      "text/plain": [
       "<Figure size 1440x360 with 1 Axes>"
      ]
     },
     "metadata": {
      "needs_background": "light"
     },
     "output_type": "display_data"
    }
   ],
   "source": [
    "plt.figure(figsize=(20, 5))\n",
    "sns.barplot(\n",
    "    x= \"year_of_release\", \n",
    "    y= \"all_sales\", \n",
    "    hue= \"platform\", \n",
    "    data = platform_filter\n",
    ")\n",
    "plt.title(\"Sales volumes of games in different years on various platforms\", size=17)\n",
    "plt.xlabel('Release year', size=12)\n",
    "plt.ylabel('Sales volumes', size=12)"
   ]
  },
  {
   "cell_type": "markdown",
   "id": "9e247b46",
   "metadata": {},
   "source": [
    "The video game industry is highly dynamic, with platforms gaining popularity and becoming obsolete\n",
    "in approximately 10 years. As a result, the platforms that were leaders throughout the entire period are nearly obsolete by 2016."
   ]
  },
  {
   "cell_type": "code",
   "execution_count": 61,
   "id": "6d3dbb7b",
   "metadata": {
    "scrolled": false
   },
   "outputs": [
    {
     "name": "stdout",
     "output_type": "stream",
     "text": [
      "  platform             min             max   fin\n",
      "           year_of_release year_of_release      \n",
      "0     2600          1980.0          1989.0  10.0\n",
      "1      3DO          1994.0          1995.0   2.0\n",
      "2      3DS          2011.0          2016.0   6.0\n",
      "3       DC          1998.0          2008.0  11.0\n",
      "4       DS          1985.0          2013.0  29.0\n",
      "The median lifespan of a platform 7.0 лет\n"
     ]
    }
   ],
   "source": [
    "years_duration= data.pivot_table(index='platform', values='year_of_release', aggfunc=['min','max'])\n",
    "years_duration.reset_index(inplace=True)\n",
    "\n",
    "years_duration['fin'] = years_duration[('max', 'year_of_release')]-\\\n",
    "     years_duration[(     'min', 'year_of_release')] + 1\n",
    "print(years_duration.head())\n",
    "print('The median lifespan of a platform',years_duration['fin'].median(), 'лет')\n"
   ]
  },
  {
   "cell_type": "markdown",
   "id": "96eac15d",
   "metadata": {},
   "source": [
    "### Leading platforms"
   ]
  },
  {
   "cell_type": "markdown",
   "id": "e8415ca5",
   "metadata": {},
   "source": [
    "It's important to understand which platforms were most popular closer to 2016 and filter out outdated ones. Therefore, we will remove all releases before 2013. \n",
    "Around this year, the trend in game releases started to decline, allowing us to focus on the development of platforms popular in 2016."
   ]
  },
  {
   "cell_type": "code",
   "execution_count": 62,
   "id": "ef5f886b",
   "metadata": {},
   "outputs": [],
   "source": [
    "data_2013= data[data['year_of_release'] > 2013]"
   ]
  },
  {
   "cell_type": "code",
   "execution_count": 63,
   "id": "afba5ebf",
   "metadata": {
    "scrolled": true
   },
   "outputs": [
    {
     "data": {
      "text/plain": [
       "Text(0.5, 1.0, 'The number of games released on different platforms')"
      ]
     },
     "execution_count": 63,
     "metadata": {},
     "output_type": "execute_result"
    },
    {
     "data": {
      "image/png": "[encoded data removed]",
      "text/plain": [
       "<Figure size 432x288 with 1 Axes>"
      ]
     },
     "metadata": {
      "needs_background": "light"
     },
     "output_type": "display_data"
    }
   ],
   "source": [
    "platforms = data_2013.pivot_table(index='platform', values='genre', aggfunc='count')\\\n",
    "    .sort_values(by='genre', ascending=False)\n",
    "platforms.plot(kind='bar')\n",
    "plt.title('The number of games released on different platforms')"
   ]
  },
  {
   "cell_type": "markdown",
   "id": "fda04d5f",
   "metadata": {},
   "source": [
    "After 2013, the landscape changed. \n",
    "Some platforms lost their market share, for example, PS2. Others remained at the forefront, such as PS3 and X360. Additionally, new stars emerged, like 3DS."
   ]
  },
  {
   "cell_type": "code",
   "execution_count": 64,
   "id": "23f40dae",
   "metadata": {},
   "outputs": [
    {
     "data": {
      "image/png": "[encoded data removed]",
      "text/plain": [
       "<Figure size 432x288 with 1 Axes>"
      ]
     },
     "metadata": {
      "needs_background": "light"
     },
     "output_type": "display_data"
    },
    {
     "data": {
      "image/png": "[encoded data removed]",
      "text/plain": [
       "<Figure size 432x288 with 1 Axes>"
      ]
     },
     "metadata": {
      "needs_background": "light"
     },
     "output_type": "display_data"
    },
    {
     "data": {
      "image/png": "[encoded data removed]",
      "text/plain": [
       "<Figure size 432x288 with 1 Axes>"
      ]
     },
     "metadata": {
      "needs_background": "light"
     },
     "output_type": "display_data"
    },
    {
     "data": {
      "image/png": "[encoded data removed]",
      "text/plain": [
       "<Figure size 432x288 with 1 Axes>"
      ]
     },
     "metadata": {
      "needs_background": "light"
     },
     "output_type": "display_data"
    }
   ],
   "source": [
    "for name in ['PSV', 'PS4', 'XOne', 'PS3']:\n",
    "    \n",
    "    # Filtering data by platform, grouping by years, and calculating total sales\n",
    "    df = data_2013[data_2013['platform'] == name].groupby('year_of_release')['all_sales'].sum().reset_index()\n",
    "    \n",
    "    sns.barplot(data=df, x='year_of_release', y='all_sales')  # Creating a graph based on the obtained table\n",
    "    \n",
    "    plt.xlabel('Year')\n",
    "    plt.ylabel('Total sales')\n",
    "    plt.title(f'Platform sales distribution {name}')\n",
    "    \n",
    "    plt.show()"
   ]
  },
  {
   "cell_type": "markdown",
   "id": "5b4c5e58",
   "metadata": {},
   "source": [
    "The PS4 platform shows a clear growth trend"
   ]
  },
  {
   "cell_type": "code",
   "execution_count": 65,
   "id": "ef7b8567",
   "metadata": {
    "scrolled": false
   },
   "outputs": [
    {
     "data": {
      "image/png": "[encoded data removed]",
      "text/plain": [
       "<Figure size 1224x792 with 1 Axes>"
      ]
     },
     "metadata": {
      "needs_background": "light"
     },
     "output_type": "display_data"
    }
   ],
   "source": [
    "plt.figure(figsize=(17, 11))\n",
    "sns.boxplot(data=data_2013, y='platform', x='all_sales')\n",
    "plt.xlim(-0.1, 5)\n",
    "\n",
    "plt.title('Sales volumes of games on different platforms', size=17)\n",
    "plt.xlabel('Sales volume', size=12)\n",
    "plt.ylabel('Platform name', size=12)\n",
    "\n",
    "plt.show()"
   ]
  },
  {
   "cell_type": "markdown",
   "id": "b66eb25b",
   "metadata": {},
   "source": [
    "The box plots indicate that the majority of games do not generate significant revenue. However, there are standout games that contribute the majority of the platform's earnings.\n",
    "Platforms without such standout titles lag behind, and the median sales across platforms do not differ significantly."
   ]
  },
  {
   "cell_type": "markdown",
   "id": "17ee2777",
   "metadata": {},
   "source": [
    "## Step 4. The Impact of Rating on Sales"
   ]
  },
  {
   "cell_type": "markdown",
   "id": "a75ec43c",
   "metadata": {},
   "source": [
    "### The Impact of User Score on Sales"
   ]
  },
  {
   "cell_type": "markdown",
   "id": "31a0dbf5",
   "metadata": {},
   "source": [
    "Let's examine the impact of user scores on the profitability of the four most popular platforms."
   ]
  },
  {
   "cell_type": "code",
   "execution_count": 66,
   "id": "0c749f72",
   "metadata": {},
   "outputs": [
    {
     "name": "stdout",
     "output_type": "stream",
     "text": [
      "PS4 Correlation = -0.04013158947269736\n",
      "3DS Correlation = 0.21519327185270273\n",
      "XOne Correlation = -0.07038392806475809\n",
      "WiiU Correlation = 0.40792645792170773\n"
     ]
    },
    {
     "data": {
      "image/png": "[encoded data removed]",
      "text/plain": [
       "<Figure size 432x288 with 1 Axes>"
      ]
     },
     "metadata": {
      "needs_background": "light"
     },
     "output_type": "display_data"
    },
    {
     "data": {
      "image/png": "[encoded data removed]",
      "text/plain": [
       "<Figure size 432x288 with 1 Axes>"
      ]
     },
     "metadata": {
      "needs_background": "light"
     },
     "output_type": "display_data"
    },
    {
     "data": {
      "image/png": "[encoded data removed]",
      "text/plain": [
       "<Figure size 432x288 with 1 Axes>"
      ]
     },
     "metadata": {
      "needs_background": "light"
     },
     "output_type": "display_data"
    },
    {
     "data": {
      "image/png": "[encoded data removed]",
      "text/plain": [
       "<Figure size 432x288 with 1 Axes>"
      ]
     },
     "metadata": {
      "needs_background": "light"
     },
     "output_type": "display_data"
    }
   ],
   "source": [
    "# Visualization of the Relationship Between User Ratings and Company Sales\n",
    "platform_score = data_2013.query(('platform ==\"3DS\" or platform ==\"XOne\" \\\n",
    "                                     or platform ==\"WiiU\" or platform == \"PS4\"'))\n",
    "for platform in platform_score['platform'].unique():\n",
    "    plot = platform_score[platform_score['platform'] == platform]\n",
    "    print(platform,'Correlation =', plot['user_score'].corr(plot['all_sales']))\n",
    "    plot.plot(x='user_score', y='all_sales',kind='scatter', color='#AC7088')\n",
    "    plt.title(platform, size=17)\n",
    "    plt.xlabel('User Ratings', size=13)\n",
    "    plt.ylabel('Sales, million copies', size=13)"
   ]
  },
  {
   "cell_type": "markdown",
   "id": "be9a9ff4",
   "metadata": {},
   "source": [
    "For three out of the four platforms considered, there is almost no correlation between user score and median sales. However, from the graph, it can be observed that if the score is low, sales are likely to be low, and if the score is high, it does not necessarily guarantee high sales."
   ]
  },
  {
   "cell_type": "markdown",
   "id": "79aeeae8",
   "metadata": {},
   "source": [
    "### The Impact of Critic Score on Sales"
   ]
  },
  {
   "cell_type": "code",
   "execution_count": 67,
   "id": "0b01948c",
   "metadata": {},
   "outputs": [
    {
     "name": "stdout",
     "output_type": "stream",
     "text": [
      "PS4 Сorrelation = 0.402661410681041\n",
      "3DS Сorrelation = 0.314117492869051\n",
      "XOne Сorrelation = 0.42867694370333226\n",
      "WiiU Сorrelation = 0.37020141248088395\n"
     ]
    },
    {
     "data": {
      "image/png": "[encoded data removed]",
      "text/plain": [
       "<Figure size 432x288 with 1 Axes>"
      ]
     },
     "metadata": {
      "needs_background": "light"
     },
     "output_type": "display_data"
    },
    {
     "data": {
      "image/png": "[encoded data removed]",
      "text/plain": [
       "<Figure size 432x288 with 1 Axes>"
      ]
     },
     "metadata": {
      "needs_background": "light"
     },
     "output_type": "display_data"
    },
    {
     "data": {
      "image/png": "[encoded data removed]",
      "text/plain": [
       "<Figure size 432x288 with 1 Axes>"
      ]
     },
     "metadata": {
      "needs_background": "light"
     },
     "output_type": "display_data"
    },
    {
     "data": {
      "image/png": "[encoded data removed]",
      "text/plain": [
       "<Figure size 432x288 with 1 Axes>"
      ]
     },
     "metadata": {
      "needs_background": "light"
     },
     "output_type": "display_data"
    }
   ],
   "source": [
    "platform_score = data_2013.query(('platform ==\"3DS\" or platform ==\"XOne\" \\\n",
    "                                     or platform ==\"WiiU\" or platform == \"PS4\"'))\n",
    "for platform in platform_score['platform'].unique():\n",
    "    plot = platform_score[platform_score['platform'] == platform]\n",
    "    print(platform,'Сorrelation =', plot['critic_score'].corr(plot['all_sales']))\n",
    "    plot.plot(x='critic_score', y='all_sales',kind='scatter')\n",
    "    plt.title(platform, size=17)\n",
    "    plt.xlabel('Critics ratings', size=13)\n",
    "    plt.ylabel('Sales, million copies', size=13)\n",
    "\n"
   ]
  },
  {
   "cell_type": "markdown",
   "id": "1deeb3cf",
   "metadata": {},
   "source": [
    "Visually, based on the graph and correlation, it can be observed that there is a relationship between sales and critic scores, but it is not strong. We draw the same conclusion: if the score is low, sales are likely to be low; however, if the score is high, it does not necessarily guarantee high sales."
   ]
  },
  {
   "cell_type": "markdown",
   "id": "9cf0f84f",
   "metadata": {},
   "source": [
    "## Step 5. Distribution of games by genres"
   ]
  },
  {
   "cell_type": "markdown",
   "id": "4f33dc87",
   "metadata": {},
   "source": [
    "To visualize the median sales for games in different genres using a box plot."
   ]
  },
  {
   "cell_type": "code",
   "execution_count": 69,
   "id": "6e698a72",
   "metadata": {
    "scrolled": true
   },
   "outputs": [
    {
     "data": {
      "image/png": "[encoded data removed]",
      "text/plain": [
       "<Figure size 936x360 with 1 Axes>"
      ]
     },
     "metadata": {
      "needs_background": "light"
     },
     "output_type": "display_data"
    }
   ],
   "source": [
    "genre_name = data_2013.pivot_table(index='genre', values ='all_sales', aggfunc='median')\\\n",
    "                         .sort_values(by='all_sales', ascending=False)\n",
    "genre_name.reset_index(inplace=True)\n",
    "#print(genre_name.head())\n",
    "data_2013.sort_values\n",
    "plt.figure(figsize=(13, 5))\n",
    "sns.boxplot(data=data_2013, y='all_sales', x='genre')\n",
    "plt.xlim(-0.5, 12.0)\n",
    "plt.ylim(-1 , 5)\n",
    "plt.title('Sales volumes of games in various genres', size=17)\n",
    "plt.xlabel('Genre title', size=12)\n",
    "plt.ylabel('Sales volume', size=12)\n",
    "\n",
    "plt.show()"
   ]
  },
  {
   "cell_type": "markdown",
   "id": "2afea418",
   "metadata": {},
   "source": [
    "The most profitable genres, including 'Shooter,' 'Action,' 'Role-Playing,' 'Sports,' 'Fighting,' and 'Racing,' collectively contribute to 75% of the total revenue.\n",
    "\n",
    "In the 'Shooter' and 'Sports' genres, there is a relatively high median, indicating more consistent performance for average games in these genres.\n",
    "\n",
    "The genres 'Puzzle' and 'Strategy' have the lowest sales."
   ]
  },
  {
   "cell_type": "markdown",
   "id": "1a6f24be",
   "metadata": {},
   "source": [
    "## Step 6. User Portrait for Each Region."
   ]
  },
  {
   "cell_type": "markdown",
   "id": "5140bfc2",
   "metadata": {},
   "source": [
    "Let's create functions that will build bar charts illustrating the sales volume for each platform in different regions."
   ]
  },
  {
   "cell_type": "code",
   "execution_count": 70,
   "id": "8e62d8c2",
   "metadata": {},
   "outputs": [],
   "source": [
    "def region_sales(region):\n",
    "    genre_name = data_2013.pivot_table(index='platform', values = region, aggfunc='sum')\\\n",
    "                        .sort_values(by= region, ascending=False).head(5)\n",
    "    genre_name.plot(kind='bar',figsize=(10, 5), legend = False)\n",
    "    plt.title(f'Region {region} on different platforms')\n",
    "    plt.xlabel('Platforms title', size=12)\n",
    "    plt.ylabel('Sales volume', size=12)"
   ]
  },
  {
   "cell_type": "markdown",
   "id": "2d48e6b5",
   "metadata": {},
   "source": [
    "Let's create functions that will generate bar charts illustrating the sales volume for each genre in different regions."
   ]
  },
  {
   "cell_type": "code",
   "execution_count": 71,
   "id": "e8cab2d1",
   "metadata": {},
   "outputs": [],
   "source": [
    "def genrе(region):\n",
    "    genre_name = data_2013.pivot_table(index='genre', values = region, aggfunc='sum')\\\n",
    "                        .sort_values(by= region, ascending=False).head(5)\n",
    "    genre_name.plot(kind='bar',figsize=(10, 4), color='#AC7088', legend = False)\n",
    "    plt.title(f'Region {region}, games of different genres.\"')\n",
    "    plt.xlabel('Genrе title', size=12)\n",
    "    plt.ylabel('Sales volume', size=12)"
   ]
  },
  {
   "cell_type": "markdown",
   "id": "d53bdaae",
   "metadata": {},
   "source": [
    "### User Portrait for  Region NA"
   ]
  },
  {
   "cell_type": "code",
   "execution_count": 72,
   "id": "74a4368d",
   "metadata": {
    "scrolled": true
   },
   "outputs": [
    {
     "data": {
      "image/png": "[encoded data removed]",
      "text/plain": [
       "<Figure size 720x360 with 1 Axes>"
      ]
     },
     "metadata": {
      "needs_background": "light"
     },
     "output_type": "display_data"
    }
   ],
   "source": [
    "region_sales('na_sales')\n"
   ]
  },
  {
   "cell_type": "code",
   "execution_count": 73,
   "id": "7f029fec",
   "metadata": {
    "scrolled": true
   },
   "outputs": [
    {
     "data": {
      "image/png": "[encoded data removed]",
      "text/plain": [
       "<Figure size 720x288 with 1 Axes>"
      ]
     },
     "metadata": {
      "needs_background": "light"
     },
     "output_type": "display_data"
    }
   ],
   "source": [
    "genrе('na_sales') "
   ]
  },
  {
   "cell_type": "markdown",
   "id": "19129a6c",
   "metadata": {},
   "source": [
    "**USA**\n",
    "- Platforms with the largest market share: X360, Xone, WiiU.\n",
    "- Genres with the largest market share: Shooter, Action, Sport.\n"
   ]
  },
  {
   "cell_type": "markdown",
   "id": "abb3d9b6",
   "metadata": {},
   "source": [
    "### User Portrait for  Region EU"
   ]
  },
  {
   "cell_type": "code",
   "execution_count": 74,
   "id": "f584b67d",
   "metadata": {
    "scrolled": true
   },
   "outputs": [
    {
     "data": {
      "image/png": "[encoded data removed]",
      "text/plain": [
       "<Figure size 720x360 with 1 Axes>"
      ]
     },
     "metadata": {
      "needs_background": "light"
     },
     "output_type": "display_data"
    }
   ],
   "source": [
    "region_sales('eu_sales')"
   ]
  },
  {
   "cell_type": "code",
   "execution_count": 75,
   "id": "2082573f",
   "metadata": {
    "scrolled": false
   },
   "outputs": [
    {
     "data": {
      "image/png": "[encoded data removed]",
      "text/plain": [
       "<Figure size 720x288 with 1 Axes>"
      ]
     },
     "metadata": {
      "needs_background": "light"
     },
     "output_type": "display_data"
    }
   ],
   "source": [
    "genrе('eu_sales') "
   ]
  },
  {
   "cell_type": "markdown",
   "id": "40b7224e",
   "metadata": {},
   "source": [
    "**Europe**\n",
    "- Platforms with the largest market share: PS4, Xone, PS3 with a significant lead, as well as PS4, Xone.\n",
    "- Genres with the largest market share: Action, Shooter, Sport"
   ]
  },
  {
   "cell_type": "markdown",
   "id": "12fd0ffb",
   "metadata": {},
   "source": [
    "### User Portrait for  Region  JP"
   ]
  },
  {
   "cell_type": "code",
   "execution_count": 77,
   "id": "b96e7a57",
   "metadata": {},
   "outputs": [
    {
     "data": {
      "image/png": "[encoded data removed]",
      "text/plain": [
       "<Figure size 720x360 with 1 Axes>"
      ]
     },
     "metadata": {
      "needs_background": "light"
     },
     "output_type": "display_data"
    }
   ],
   "source": [
    "region_sales('jp_sales')"
   ]
  },
  {
   "cell_type": "code",
   "execution_count": 78,
   "id": "fc7ae9da",
   "metadata": {},
   "outputs": [
    {
     "data": {
      "image/png": "[encoded data removed]",
      "text/plain": [
       "<Figure size 720x288 with 1 Axes>"
      ]
     },
     "metadata": {
      "needs_background": "light"
     },
     "output_type": "display_data"
    }
   ],
   "source": [
    "genrе('jp_sales') "
   ]
  },
  {
   "cell_type": "markdown",
   "id": "02800815",
   "metadata": {},
   "source": [
    "**Japan**\n",
    "- Platforms with the largest market share: 3DS, PS4, PVS.\n",
    "- Genres with the largest market share: Role-Playing, Action, Fighting.\n"
   ]
  },
  {
   "cell_type": "markdown",
   "id": "9984dc5b",
   "metadata": {},
   "source": [
    "**Conclusions:**\n",
    "\n",
    "The regions of America and Europe are similar in terms of popular genres and platforms.\n",
    "\n",
    "Japanese region differs significantly from the USA and Europe in both genre preferences and platforms.\n",
    "\n",
    "Action is one of the most popular genres in all regions."
   ]
  },
  {
   "cell_type": "markdown",
   "id": "1dfc65be",
   "metadata": {},
   "source": [
    "## Step 7. Influence of ESRB Rating"
   ]
  },
  {
   "cell_type": "code",
   "execution_count": 79,
   "id": "f19a40bd",
   "metadata": {},
   "outputs": [
    {
     "data": {
      "text/plain": [
       "array([nan, 'M', 'E', 'T', 'E10+'], dtype=object)"
      ]
     },
     "execution_count": 79,
     "metadata": {},
     "output_type": "execute_result"
    }
   ],
   "source": [
    "# The Entertainment Software Rating Board (ESRB)\n",
    "data_2013['rating'].unique()"
   ]
  },
  {
   "cell_type": "markdown",
   "id": "37837df4",
   "metadata": {},
   "source": [
    "The Entertainment Software Rating Board (ESRB) is a self-regulatory organization that assigns age and content ratings to video games and apps in North America. The ESRB provides information about the content of games to help consumers make informed choices about the appropriateness of the content for themselves and their children. \n",
    "\n",
    "The ratings include categories such as \"Everyone (E),\" \"Teen (T),\" \"Everyone 10 and older (E10+)\" and \"Mature (M),\" among others, to indicate the target age group and content suitability."
   ]
  },
  {
   "cell_type": "code",
   "execution_count": 80,
   "id": "bcc820ac",
   "metadata": {
    "scrolled": false
   },
   "outputs": [
    {
     "data": {
      "text/plain": [
       "Text(0.5, 1.0, 'Sales by ESRB Rating Across Regions')"
      ]
     },
     "execution_count": 80,
     "metadata": {},
     "output_type": "execute_result"
    },
    {
     "data": {
      "image/png": "[encoded data removed]",
      "text/plain": [
       "<Figure size 432x288 with 1 Axes>"
      ]
     },
     "metadata": {
      "needs_background": "light"
     },
     "output_type": "display_data"
    }
   ],
   "source": [
    "data_2013['rating'].fillna('unknown')\n",
    "data_2013.pivot_table(index='rating',\n",
    "                      values=['na_sales','eu_sales','jp_sales'],\n",
    "                      aggfunc='sum').plot(kind='bar')\n",
    "plt.xlabel('Rating')\n",
    "plt.ylabel('Sales volume')\n",
    "plt.title('Sales by ESRB Rating Across Regions',size=20)"
   ]
  },
  {
   "cell_type": "markdown",
   "id": "75ade5a1",
   "metadata": {},
   "source": [
    "In Japan, sales of games in different age categories do not vary significantly in terms of volume, although there is a general trend that games targeting audiences aged 10 and older sell less compared to other categories.\n",
    "\n",
    "In Europe and the USA, games in the 17+ category sell significantly better than games in lower age categories. Games for which age restrictions are not known sell very well, especially in Japan; perhaps it was challenging to gather data on age restrictions in that region."
   ]
  },
  {
   "cell_type": "markdown",
   "id": "e6ab8f0c",
   "metadata": {},
   "source": [
    "## Step 8. Hypothesis testing"
   ]
  },
  {
   "cell_type": "markdown",
   "id": "d00dcce1",
   "metadata": {},
   "source": [
    "Hypotheses:\n",
    "\n",
    "\\(H_0\\): The average user scores for the Xbox One and PC platforms are the same.\n",
    "\n",
    "\\(H_1\\): The average user scores for the Xbox One and PC platforms are not the same.\n",
    "\n",
    "This is a two-sided alternative hypothesis. The samples are independent."
   ]
  },
  {
   "cell_type": "code",
   "execution_count": 81,
   "id": "8480d0e3",
   "metadata": {
    "scrolled": true
   },
   "outputs": [
    {
     "name": "stdout",
     "output_type": "stream",
     "text": [
      "p-value: 0.13220921855005272\n",
      "We failed to reject the null hypothesis\n"
     ]
    }
   ],
   "source": [
    "# Remove all missing values from the dataframe to calculate the p-value\n",
    "platform_XOne_nonan = data_2013[data_2013['platform'] == 'XOne'].dropna()\n",
    "platform_PC_nonan = data_2013[data_2013['platform'] == 'PC'].dropna()\n",
    "\n",
    "\n",
    "alpha = 0.05 # significance level\n",
    "# If the p-value turns out to be less than it - we will reject the hypothesis\n",
    "\n",
    "results = st.ttest_ind(platform_XOne_nonan['user_score'], platform_PC_nonan['user_score'])\n",
    "\n",
    "print('p-value:', results.pvalue)\n",
    "\n",
    "if results.pvalue < alpha:\n",
    "    print('We reject the null hypothesis')\n",
    "else:\n",
    "    print('We failed to reject the null hypothesis') "
   ]
  },
  {
   "cell_type": "markdown",
   "id": "29dfc8a0",
   "metadata": {},
   "source": [
    "Conclusion: \n",
    "\n",
    "We cannot reject the null hypothesis; with a high degree of confidence, the average user ratings for the XOne and PC platforms do not have statistically significant differences."
   ]
  },
  {
   "cell_type": "code",
   "execution_count": 82,
   "id": "5cc505aa",
   "metadata": {},
   "outputs": [],
   "source": [
    "genre_action = data_2013[data_2013['genre'] == 'Action'].dropna()\n",
    "genre_sports = data_2013[data_2013['genre'] == 'Sports'].dropna()\n"
   ]
  },
  {
   "cell_type": "markdown",
   "id": "9010894e",
   "metadata": {},
   "source": [
    "Hypotheses:\n",
    "\n",
    "\\(H_0\\): The average user ratings for the Action and Sport genres are the same.\n",
    "\n",
    "\\(H_1\\): The average user ratings for the Action and Sport genres are different.\n",
    "\n",
    "The samples are independent.\n"
   ]
  },
  {
   "cell_type": "code",
   "execution_count": 83,
   "id": "37f8d6e3",
   "metadata": {
    "scrolled": false
   },
   "outputs": [
    {
     "name": "stdout",
     "output_type": "stream",
     "text": [
      "p-value: 3.474253245303909e-08\n",
      "We reject the null hypothesis\n"
     ]
    }
   ],
   "source": [
    "alpha = 0.05 # significance level\n",
    "# If the p-value turns out to be less than it - we will reject the hypothesis\n",
    "\n",
    "\n",
    "results = st.ttest_ind(genre_action['user_score'], genre_sports['user_score'], equal_var= False)\n",
    "# I think different genres will have different variability.\n",
    "print('p-value:', results.pvalue)\n",
    "\n",
    "if results.pvalue < alpha:\n",
    "    print('We reject the null hypothesis')\n",
    "else:\n",
    "    print('We failed to reject the null hypothesis')"
   ]
  },
  {
   "cell_type": "markdown",
   "id": "052af6a0",
   "metadata": {},
   "source": [
    "Conclusion: \n",
    "\n",
    "We cannot accept the null hypothesis; with a high degree of probability, the average user ratings for the Action and Sport genres are different. The samples are independent."
   ]
  },
  {
   "cell_type": "markdown",
   "id": "ec3cb083",
   "metadata": {},
   "source": [
    "## Step 9. Conclusions "
   ]
  },
  {
   "cell_type": "markdown",
   "id": "0db5b8e7",
   "metadata": {},
   "source": [
    "**Project Conclusions**\n",
    "\n",
    "The project's goal was to identify patterns that determine the success of a video game.\n",
    "\n",
    "**Steps 1-2**\n",
    "\n",
    "Data preprocessing was conducted, some rows with missing values were removed, and data types were changed in some columns. A column with total sales was added.\n",
    "\n",
    "**Step 3**\n",
    "\n",
    "Since 1995, the number of game releases has been increasing, with a peak from 2000 to 2008. After 2008, there was a decrease, possibly related to the 2008 financial crisis. Overall market leaders were 'PS2', 'X360', 'PS3', 'Wii', and 'PS'. The median lifespan of a platform is 7.0 years.\n",
    "\n",
    "**Step 4**\n",
    "\n",
    "The relevant period for sales forecast in 2017 was determined as 2014-2016. Releases before 2014 were excluded. Platforms like PS2 lost market share, while newcomers like PS4, PSV, Xone emerged. PS4 has been a consistent leader since 2013.\n",
    "\n",
    "Most games do not generate significant revenue, but star games contribute significantly to a platform's profits. Platforms without star games lag significantly in terms of revenue.\n",
    "\n",
    "**Step 5**\n",
    "\n",
    "**Impact of Reviews on Sales:**\n",
    "- Correlation with user scores is observed.\n",
    "- Correlation with critic scores is present but not high.\n",
    "- Generally, if the scores are low, sales are likely to be low. However, high scores do not guarantee high sales; this applies to both users and critics.\n",
    "\n",
    "**Genre Distribution:**\n",
    "- Most profitable genres: 'Shooter,' 'Action,' 'Role-Playing,' 'Sports.'\n",
    "- Together, they contribute to 75% of total revenue.\n",
    "- Lowest sales for 'Puzzle' and 'Strategy' genres.\n",
    "\n",
    "**Step 6**\n",
    "***Regional Analytics***\n",
    "\n",
    "**USA:**\n",
    "- Leading platforms: X360, Xone, WiiU.\n",
    "- Leading genres: Shooter, Action, Sport.\n",
    "\n",
    "**Europe:**\n",
    "- Leading platforms: PS4, Xone, PS3, with a significant lead. Also, PS4, Xone.\n",
    "- Leading genres: Action, Shooter, Sport.\n",
    "\n",
    "**Japan:**\n",
    "- Leading platforms: 3DS, PS4, PVS.\n",
    "- Leading genres: Role-Playing, Action, Fighting.\n",
    "\n",
    "**Overall:**\n",
    "- 'Action' is one of the most popular genres in all regions.\n",
    "\n",
    "**ESRB Rating Impact:**\n",
    "In Japan, sales across different categories do not differ significantly in volume, though a trend shows that games rated for audiences 10+ sell worse than other categories. In Europe and the USA, games rated 17+ sell significantly better than games with lower age categories.\n",
    "\n",
    "**Hypothesis Testing**\n",
    "\n",
    "The significance level for both hypotheses was set at 0.05.\n",
    "\n",
    "1. **Hypothesis: Average user ratings for Xbox One and PC are the same.**\n",
    "   - p-value: 0.13\n",
    "   - Conclusion: We cannot reject the null hypothesis; with a high degree of probability, average user ratings for XOne and PC do not have statistically significant differences.\n",
    "\n",
    "2. **Hypothesis: Average user ratings for Action and Sport genres are different.**\n",
    "   - p-value: 3.47e-08\n",
    "   - Conclusion: We cannot accept the null hypothesis; with a high degree of probability, average user ratings for Action and Sport genres are different.\n",
    "\n",
    "**Recommendations for Launching a Profitable Game:**\n",
    "1. Choose the 'Action' or 'Shooter' genre.\n",
    "2. Launch on 'PS4' in Europe or 'X360' in the USA.\n",
    "3. Focus on building positive relationships with critics.\n",
    "4. Target the American and European markets.\n",
    "5. Analyze the criteria that make a game a star.\n",
    "\n",
    "**Thank you for your attention!**"
   ]
  },
  {
   "cell_type": "code",
   "execution_count": null,
   "id": "97a95a25",
   "metadata": {},
   "outputs": [],
   "source": []
  }
 ],
 "metadata": {
  "ExecuteTimeLog": [
   {
    "duration": 47,
    "start_time": "2023-02-13T09:52:32.521Z"
   },
   {
    "duration": 402,
    "start_time": "2023-02-13T09:52:37.807Z"
   },
   {
    "duration": 190,
    "start_time": "2023-02-13T09:52:38.341Z"
   },
   {
    "duration": 14,
    "start_time": "2023-02-13T10:01:13.331Z"
   },
   {
    "duration": 21,
    "start_time": "2023-02-13T10:01:56.625Z"
   },
   {
    "duration": 1176,
    "start_time": "2023-02-13T10:06:14.683Z"
   },
   {
    "duration": 3,
    "start_time": "2023-02-13T10:07:05.561Z"
   },
   {
    "duration": 39,
    "start_time": "2023-02-13T10:14:05.468Z"
   },
   {
    "duration": 7,
    "start_time": "2023-02-13T10:14:21.491Z"
   },
   {
    "duration": 84,
    "start_time": "2023-02-13T10:14:58.675Z"
   },
   {
    "duration": 3,
    "start_time": "2023-02-13T10:15:02.241Z"
   },
   {
    "duration": 3,
    "start_time": "2023-02-13T10:15:07.780Z"
   },
   {
    "duration": 68,
    "start_time": "2023-02-13T10:18:21.924Z"
   },
   {
    "duration": 9,
    "start_time": "2023-02-13T10:18:37.359Z"
   },
   {
    "duration": 6,
    "start_time": "2023-02-13T10:18:46.908Z"
   },
   {
    "duration": 4,
    "start_time": "2023-02-13T10:21:35.416Z"
   },
   {
    "duration": 4,
    "start_time": "2023-02-13T10:21:59.208Z"
   },
   {
    "duration": 1233,
    "start_time": "2023-02-13T10:47:14.027Z"
   },
   {
    "duration": 1426,
    "start_time": "2023-02-13T10:47:46.728Z"
   },
   {
    "duration": 1110,
    "start_time": "2023-02-13T10:48:20.481Z"
   },
   {
    "duration": 4,
    "start_time": "2023-02-13T10:48:30.582Z"
   },
   {
    "duration": 12,
    "start_time": "2023-02-13T10:48:43.698Z"
   },
   {
    "duration": 13,
    "start_time": "2023-02-13T10:48:46.705Z"
   },
   {
    "duration": 69,
    "start_time": "2023-02-13T10:57:35.667Z"
   },
   {
    "duration": 2,
    "start_time": "2023-02-13T10:58:26.888Z"
   },
   {
    "duration": 16,
    "start_time": "2023-02-13T11:07:48.859Z"
   },
   {
    "duration": 11,
    "start_time": "2023-02-13T11:09:21.170Z"
   },
   {
    "duration": 8,
    "start_time": "2023-02-13T11:34:45.511Z"
   },
   {
    "duration": 13,
    "start_time": "2023-02-13T11:35:06.145Z"
   },
   {
    "duration": 8,
    "start_time": "2023-02-13T11:50:05.887Z"
   },
   {
    "duration": 14,
    "start_time": "2023-02-13T11:52:51.600Z"
   },
   {
    "duration": 127,
    "start_time": "2023-02-13T11:57:25.409Z"
   },
   {
    "duration": 14,
    "start_time": "2023-02-13T11:57:36.941Z"
   },
   {
    "duration": 3,
    "start_time": "2023-02-13T11:57:52.544Z"
   },
   {
    "duration": 13,
    "start_time": "2023-02-13T11:58:17.501Z"
   },
   {
    "duration": 12,
    "start_time": "2023-02-13T12:01:54.642Z"
   },
   {
    "duration": 12,
    "start_time": "2023-02-13T12:02:03.282Z"
   },
   {
    "duration": 17,
    "start_time": "2023-02-13T12:02:37.582Z"
   },
   {
    "duration": 14,
    "start_time": "2023-02-13T12:07:20.508Z"
   },
   {
    "duration": 262,
    "start_time": "2023-02-13T12:07:30.992Z"
   },
   {
    "duration": 13,
    "start_time": "2023-02-13T12:07:38.291Z"
   },
   {
    "duration": 16,
    "start_time": "2023-02-13T12:08:44.908Z"
   },
   {
    "duration": 16,
    "start_time": "2023-02-13T12:36:42.387Z"
   },
   {
    "duration": 4,
    "start_time": "2023-02-13T12:36:58.183Z"
   },
   {
    "duration": 825,
    "start_time": "2023-02-13T12:37:13.757Z"
   },
   {
    "duration": 950,
    "start_time": "2023-02-13T12:37:23.467Z"
   },
   {
    "duration": 8,
    "start_time": "2023-02-13T12:38:10.006Z"
   },
   {
    "duration": 7,
    "start_time": "2023-02-13T12:40:41.690Z"
   },
   {
    "duration": 7,
    "start_time": "2023-02-13T12:41:18.663Z"
   },
   {
    "duration": 7,
    "start_time": "2023-02-13T12:43:41.883Z"
   },
   {
    "duration": 7,
    "start_time": "2023-02-13T12:44:15.908Z"
   },
   {
    "duration": 371,
    "start_time": "2023-02-13T12:44:23.126Z"
   },
   {
    "duration": 54,
    "start_time": "2023-02-13T12:44:23.499Z"
   },
   {
    "duration": 20,
    "start_time": "2023-02-13T12:44:23.555Z"
   },
   {
    "duration": 17,
    "start_time": "2023-02-13T12:44:23.577Z"
   },
   {
    "duration": 19,
    "start_time": "2023-02-13T12:44:23.595Z"
   },
   {
    "duration": 36,
    "start_time": "2023-02-13T12:44:23.615Z"
   },
   {
    "duration": 20,
    "start_time": "2023-02-13T12:44:23.652Z"
   },
   {
    "duration": 38,
    "start_time": "2023-02-13T12:44:23.674Z"
   },
   {
    "duration": 19,
    "start_time": "2023-02-13T12:44:23.713Z"
   },
   {
    "duration": 41,
    "start_time": "2023-02-13T12:44:23.734Z"
   },
   {
    "duration": 25,
    "start_time": "2023-02-13T12:44:29.966Z"
   },
   {
    "duration": 17,
    "start_time": "2023-02-13T12:44:35.921Z"
   },
   {
    "duration": 19,
    "start_time": "2023-02-13T12:44:50.506Z"
   },
   {
    "duration": 2,
    "start_time": "2023-02-13T12:45:18.999Z"
   },
   {
    "duration": 52,
    "start_time": "2023-02-13T12:45:19.187Z"
   },
   {
    "duration": 15,
    "start_time": "2023-02-13T12:45:19.398Z"
   },
   {
    "duration": 14,
    "start_time": "2023-02-13T12:45:19.581Z"
   },
   {
    "duration": 3,
    "start_time": "2023-02-13T12:45:19.996Z"
   },
   {
    "duration": 3,
    "start_time": "2023-02-13T12:45:20.688Z"
   },
   {
    "duration": 4,
    "start_time": "2023-02-13T12:45:20.905Z"
   },
   {
    "duration": 2,
    "start_time": "2023-02-13T12:45:21.155Z"
   },
   {
    "duration": 2,
    "start_time": "2023-02-13T12:45:21.879Z"
   },
   {
    "duration": 19,
    "start_time": "2023-02-13T12:45:22.955Z"
   },
   {
    "duration": 16,
    "start_time": "2023-02-13T12:45:40.806Z"
   },
   {
    "duration": 7,
    "start_time": "2023-02-13T12:59:14.435Z"
   },
   {
    "duration": 14,
    "start_time": "2023-02-13T12:59:24.830Z"
   },
   {
    "duration": 34938,
    "start_time": "2023-02-13T13:02:55.624Z"
   },
   {
    "duration": 411,
    "start_time": "2023-02-13T13:03:51.680Z"
   },
   {
    "duration": 52,
    "start_time": "2023-02-13T13:03:52.093Z"
   },
   {
    "duration": 19,
    "start_time": "2023-02-13T13:03:52.147Z"
   },
   {
    "duration": 17,
    "start_time": "2023-02-13T13:03:52.167Z"
   },
   {
    "duration": 2,
    "start_time": "2023-02-13T13:03:52.186Z"
   },
   {
    "duration": 5,
    "start_time": "2023-02-13T13:03:52.190Z"
   },
   {
    "duration": 5,
    "start_time": "2023-02-13T13:03:52.196Z"
   },
   {
    "duration": 5,
    "start_time": "2023-02-13T13:03:52.203Z"
   },
   {
    "duration": 7,
    "start_time": "2023-02-13T13:03:52.209Z"
   },
   {
    "duration": 10,
    "start_time": "2023-02-13T13:03:52.218Z"
   },
   {
    "duration": 36129,
    "start_time": "2023-02-13T13:03:52.230Z"
   },
   {
    "duration": 1296,
    "start_time": "2023-02-13T13:04:33.614Z"
   },
   {
    "duration": 34455,
    "start_time": "2023-02-13T13:04:55.325Z"
   },
   {
    "duration": 34717,
    "start_time": "2023-02-13T13:06:35.592Z"
   },
   {
    "duration": 44,
    "start_time": "2023-02-13T17:44:43.640Z"
   },
   {
    "duration": 419,
    "start_time": "2023-02-13T17:45:13.412Z"
   },
   {
    "duration": 89,
    "start_time": "2023-02-13T17:45:13.832Z"
   },
   {
    "duration": 20,
    "start_time": "2023-02-13T17:45:13.923Z"
   },
   {
    "duration": 13,
    "start_time": "2023-02-13T17:45:13.944Z"
   },
   {
    "duration": 3,
    "start_time": "2023-02-13T17:45:13.959Z"
   },
   {
    "duration": 7,
    "start_time": "2023-02-13T17:45:13.963Z"
   },
   {
    "duration": 6,
    "start_time": "2023-02-13T17:45:13.972Z"
   },
   {
    "duration": 5,
    "start_time": "2023-02-13T17:45:13.979Z"
   },
   {
    "duration": 5,
    "start_time": "2023-02-13T17:45:13.985Z"
   },
   {
    "duration": 9,
    "start_time": "2023-02-13T17:45:13.992Z"
   },
   {
    "duration": 32315,
    "start_time": "2023-02-13T17:45:14.002Z"
   },
   {
    "duration": 32290,
    "start_time": "2023-02-13T17:47:32.738Z"
   },
   {
    "duration": 13,
    "start_time": "2023-02-13T18:09:47.547Z"
   },
   {
    "duration": 32333,
    "start_time": "2023-02-13T18:10:18.082Z"
   },
   {
    "duration": 67,
    "start_time": "2023-02-13T18:54:52.694Z"
   },
   {
    "duration": 9,
    "start_time": "2023-02-13T18:55:28.972Z"
   },
   {
    "duration": 12,
    "start_time": "2023-02-13T18:55:41.353Z"
   },
   {
    "duration": 12,
    "start_time": "2023-02-13T18:55:57.279Z"
   },
   {
    "duration": 12,
    "start_time": "2023-02-13T18:56:22.104Z"
   },
   {
    "duration": 13,
    "start_time": "2023-02-13T18:57:18.218Z"
   },
   {
    "duration": 43,
    "start_time": "2023-02-14T10:47:18.049Z"
   },
   {
    "duration": 409,
    "start_time": "2023-02-14T10:47:27.828Z"
   },
   {
    "duration": 194,
    "start_time": "2023-02-14T10:47:28.239Z"
   },
   {
    "duration": 18,
    "start_time": "2023-02-14T10:47:28.435Z"
   },
   {
    "duration": 13,
    "start_time": "2023-02-14T10:47:28.455Z"
   },
   {
    "duration": 3,
    "start_time": "2023-02-14T10:47:28.469Z"
   },
   {
    "duration": 7,
    "start_time": "2023-02-14T10:47:28.473Z"
   },
   {
    "duration": 7,
    "start_time": "2023-02-14T10:47:28.482Z"
   },
   {
    "duration": 8,
    "start_time": "2023-02-14T10:47:28.490Z"
   },
   {
    "duration": 11,
    "start_time": "2023-02-14T10:47:28.499Z"
   },
   {
    "duration": 7,
    "start_time": "2023-02-14T10:47:28.511Z"
   },
   {
    "duration": 27446,
    "start_time": "2023-02-14T10:47:28.520Z"
   },
   {
    "duration": 9,
    "start_time": "2023-02-14T11:04:04.697Z"
   },
   {
    "duration": 5,
    "start_time": "2023-02-14T11:04:53.328Z"
   },
   {
    "duration": 67,
    "start_time": "2023-02-14T11:06:07.469Z"
   },
   {
    "duration": 4,
    "start_time": "2023-02-14T11:06:31.987Z"
   },
   {
    "duration": 11,
    "start_time": "2023-02-14T11:06:39.632Z"
   },
   {
    "duration": 1507,
    "start_time": "2023-02-14T11:13:16.299Z"
   },
   {
    "duration": 7,
    "start_time": "2023-02-14T11:13:49.229Z"
   },
   {
    "duration": 9,
    "start_time": "2023-02-14T11:14:35.420Z"
   },
   {
    "duration": 9,
    "start_time": "2023-02-14T11:17:10.526Z"
   },
   {
    "duration": 8,
    "start_time": "2023-02-14T11:20:31.425Z"
   },
   {
    "duration": 358,
    "start_time": "2023-02-14T11:20:41.179Z"
   },
   {
    "duration": 51,
    "start_time": "2023-02-14T11:20:41.539Z"
   },
   {
    "duration": 18,
    "start_time": "2023-02-14T11:20:41.592Z"
   },
   {
    "duration": 13,
    "start_time": "2023-02-14T11:20:41.612Z"
   },
   {
    "duration": 3,
    "start_time": "2023-02-14T11:20:41.627Z"
   },
   {
    "duration": 6,
    "start_time": "2023-02-14T11:20:41.631Z"
   },
   {
    "duration": 3,
    "start_time": "2023-02-14T11:20:41.648Z"
   },
   {
    "duration": 5,
    "start_time": "2023-02-14T11:20:41.653Z"
   },
   {
    "duration": 9,
    "start_time": "2023-02-14T11:20:41.659Z"
   },
   {
    "duration": 12,
    "start_time": "2023-02-14T11:20:41.671Z"
   },
   {
    "duration": 4,
    "start_time": "2023-02-14T11:20:41.684Z"
   },
   {
    "duration": 1328,
    "start_time": "2023-02-14T11:20:41.689Z"
   },
   {
    "duration": 0,
    "start_time": "2023-02-14T11:20:43.018Z"
   },
   {
    "duration": 9,
    "start_time": "2023-02-14T11:25:17.332Z"
   },
   {
    "duration": 4,
    "start_time": "2023-02-14T11:25:22.375Z"
   },
   {
    "duration": 992,
    "start_time": "2023-02-14T11:26:22.948Z"
   },
   {
    "duration": 6,
    "start_time": "2023-02-14T11:26:25.624Z"
   },
   {
    "duration": 378,
    "start_time": "2023-02-14T11:26:40.150Z"
   },
   {
    "duration": 49,
    "start_time": "2023-02-14T11:26:40.530Z"
   },
   {
    "duration": 18,
    "start_time": "2023-02-14T11:26:40.581Z"
   },
   {
    "duration": 12,
    "start_time": "2023-02-14T11:26:40.601Z"
   },
   {
    "duration": 2,
    "start_time": "2023-02-14T11:26:40.615Z"
   },
   {
    "duration": 6,
    "start_time": "2023-02-14T11:26:40.618Z"
   },
   {
    "duration": 23,
    "start_time": "2023-02-14T11:26:40.625Z"
   },
   {
    "duration": 7,
    "start_time": "2023-02-14T11:26:40.649Z"
   },
   {
    "duration": 11,
    "start_time": "2023-02-14T11:26:40.657Z"
   },
   {
    "duration": 12,
    "start_time": "2023-02-14T11:26:40.670Z"
   },
   {
    "duration": 909,
    "start_time": "2023-02-14T11:26:40.684Z"
   },
   {
    "duration": 0,
    "start_time": "2023-02-14T11:26:41.595Z"
   },
   {
    "duration": 0,
    "start_time": "2023-02-14T11:26:41.597Z"
   },
   {
    "duration": 0,
    "start_time": "2023-02-14T11:26:41.598Z"
   },
   {
    "duration": 9,
    "start_time": "2023-02-14T11:28:13.572Z"
   },
   {
    "duration": 3,
    "start_time": "2023-02-14T11:28:22.974Z"
   },
   {
    "duration": 2,
    "start_time": "2023-02-14T11:30:11.580Z"
   },
   {
    "duration": 55,
    "start_time": "2023-02-14T11:30:12.003Z"
   },
   {
    "duration": 12,
    "start_time": "2023-02-14T11:30:12.662Z"
   },
   {
    "duration": 12,
    "start_time": "2023-02-14T11:30:13.407Z"
   },
   {
    "duration": 2,
    "start_time": "2023-02-14T11:30:15.014Z"
   },
   {
    "duration": 3,
    "start_time": "2023-02-14T11:30:16.859Z"
   },
   {
    "duration": 2,
    "start_time": "2023-02-14T11:30:17.816Z"
   },
   {
    "duration": 2,
    "start_time": "2023-02-14T11:30:18.773Z"
   },
   {
    "duration": 5,
    "start_time": "2023-02-14T11:30:25.883Z"
   },
   {
    "duration": 7,
    "start_time": "2023-02-14T11:30:28.349Z"
   },
   {
    "duration": 4,
    "start_time": "2023-02-14T11:30:31.006Z"
   },
   {
    "duration": 1602,
    "start_time": "2023-02-14T11:41:29.338Z"
   },
   {
    "duration": 7,
    "start_time": "2023-02-14T11:41:52.520Z"
   },
   {
    "duration": 366,
    "start_time": "2023-02-14T11:44:40.678Z"
   },
   {
    "duration": 52,
    "start_time": "2023-02-14T11:44:41.046Z"
   },
   {
    "duration": 19,
    "start_time": "2023-02-14T11:44:41.099Z"
   },
   {
    "duration": 13,
    "start_time": "2023-02-14T11:44:41.120Z"
   },
   {
    "duration": 2,
    "start_time": "2023-02-14T11:44:41.135Z"
   },
   {
    "duration": 5,
    "start_time": "2023-02-14T11:44:41.139Z"
   },
   {
    "duration": 6,
    "start_time": "2023-02-14T11:44:41.146Z"
   },
   {
    "duration": 5,
    "start_time": "2023-02-14T11:44:41.154Z"
   },
   {
    "duration": 11,
    "start_time": "2023-02-14T11:44:41.160Z"
   },
   {
    "duration": 9,
    "start_time": "2023-02-14T11:44:41.172Z"
   },
   {
    "duration": 4,
    "start_time": "2023-02-14T11:44:41.183Z"
   },
   {
    "duration": 1121,
    "start_time": "2023-02-14T11:44:41.188Z"
   },
   {
    "duration": 0,
    "start_time": "2023-02-14T11:44:42.311Z"
   },
   {
    "duration": 0,
    "start_time": "2023-02-14T11:44:42.312Z"
   },
   {
    "duration": 0,
    "start_time": "2023-02-14T11:44:42.314Z"
   },
   {
    "duration": 0,
    "start_time": "2023-02-14T11:44:42.315Z"
   },
   {
    "duration": 950,
    "start_time": "2023-02-14T11:45:21.669Z"
   },
   {
    "duration": 3,
    "start_time": "2023-02-14T11:45:31.727Z"
   },
   {
    "duration": 48,
    "start_time": "2023-02-14T11:45:32.152Z"
   },
   {
    "duration": 13,
    "start_time": "2023-02-14T11:45:32.587Z"
   },
   {
    "duration": 14,
    "start_time": "2023-02-14T11:45:33.243Z"
   },
   {
    "duration": 2,
    "start_time": "2023-02-14T11:45:34.570Z"
   },
   {
    "duration": 3,
    "start_time": "2023-02-14T11:45:36.328Z"
   },
   {
    "duration": 3,
    "start_time": "2023-02-14T11:45:37.026Z"
   },
   {
    "duration": 2,
    "start_time": "2023-02-14T11:45:37.820Z"
   },
   {
    "duration": 5,
    "start_time": "2023-02-14T11:45:40.424Z"
   },
   {
    "duration": 8,
    "start_time": "2023-02-14T11:45:41.842Z"
   },
   {
    "duration": 3,
    "start_time": "2023-02-14T11:45:42.583Z"
   },
   {
    "duration": 886,
    "start_time": "2023-02-14T11:45:44.461Z"
   },
   {
    "duration": 4,
    "start_time": "2023-02-14T11:45:47.063Z"
   },
   {
    "duration": 915,
    "start_time": "2023-02-14T11:45:47.942Z"
   },
   {
    "duration": 950,
    "start_time": "2023-02-14T11:46:03.267Z"
   },
   {
    "duration": 0,
    "start_time": "2023-02-14T11:46:04.219Z"
   },
   {
    "duration": 921,
    "start_time": "2023-02-14T11:46:04.401Z"
   },
   {
    "duration": 357,
    "start_time": "2023-02-14T11:46:18.379Z"
   },
   {
    "duration": 50,
    "start_time": "2023-02-14T11:46:18.738Z"
   },
   {
    "duration": 19,
    "start_time": "2023-02-14T11:46:18.789Z"
   },
   {
    "duration": 13,
    "start_time": "2023-02-14T11:46:18.809Z"
   },
   {
    "duration": 2,
    "start_time": "2023-02-14T11:46:18.824Z"
   },
   {
    "duration": 5,
    "start_time": "2023-02-14T11:46:18.828Z"
   },
   {
    "duration": 7,
    "start_time": "2023-02-14T11:46:18.834Z"
   },
   {
    "duration": 6,
    "start_time": "2023-02-14T11:46:18.842Z"
   },
   {
    "duration": 7,
    "start_time": "2023-02-14T11:46:18.849Z"
   },
   {
    "duration": 4,
    "start_time": "2023-02-14T11:46:18.857Z"
   },
   {
    "duration": 6,
    "start_time": "2023-02-14T11:46:18.863Z"
   },
   {
    "duration": 988,
    "start_time": "2023-02-14T11:46:18.870Z"
   },
   {
    "duration": 0,
    "start_time": "2023-02-14T11:46:19.860Z"
   },
   {
    "duration": 0,
    "start_time": "2023-02-14T11:46:19.861Z"
   },
   {
    "duration": 0,
    "start_time": "2023-02-14T11:46:19.863Z"
   },
   {
    "duration": 0,
    "start_time": "2023-02-14T11:46:19.866Z"
   },
   {
    "duration": 6,
    "start_time": "2023-02-14T12:01:23.181Z"
   },
   {
    "duration": 4,
    "start_time": "2023-02-14T12:01:26.582Z"
   },
   {
    "duration": 1638,
    "start_time": "2023-02-14T12:27:29.257Z"
   },
   {
    "duration": 1978,
    "start_time": "2023-02-14T12:27:35.795Z"
   },
   {
    "duration": 395,
    "start_time": "2023-02-14T12:34:10.432Z"
   },
   {
    "duration": 52,
    "start_time": "2023-02-14T12:34:10.828Z"
   },
   {
    "duration": 21,
    "start_time": "2023-02-14T12:34:10.882Z"
   },
   {
    "duration": 13,
    "start_time": "2023-02-14T12:34:10.904Z"
   },
   {
    "duration": 2,
    "start_time": "2023-02-14T12:34:10.919Z"
   },
   {
    "duration": 6,
    "start_time": "2023-02-14T12:34:10.922Z"
   },
   {
    "duration": 6,
    "start_time": "2023-02-14T12:34:10.929Z"
   },
   {
    "duration": 13,
    "start_time": "2023-02-14T12:34:10.936Z"
   },
   {
    "duration": 7,
    "start_time": "2023-02-14T12:34:10.950Z"
   },
   {
    "duration": 15,
    "start_time": "2023-02-14T12:34:10.958Z"
   },
   {
    "duration": 7,
    "start_time": "2023-02-14T12:34:10.975Z"
   },
   {
    "duration": 27693,
    "start_time": "2023-02-14T12:34:10.983Z"
   },
   {
    "duration": 12,
    "start_time": "2023-02-14T12:34:38.678Z"
   },
   {
    "duration": 8,
    "start_time": "2023-02-14T12:34:38.693Z"
   },
   {
    "duration": 8,
    "start_time": "2023-02-14T12:34:38.702Z"
   },
   {
    "duration": 9,
    "start_time": "2023-02-14T12:34:38.711Z"
   },
   {
    "duration": 5,
    "start_time": "2023-02-14T12:34:38.722Z"
   },
   {
    "duration": 61,
    "start_time": "2023-02-14T12:34:38.747Z"
   },
   {
    "duration": 0,
    "start_time": "2023-02-14T12:34:38.810Z"
   },
   {
    "duration": 0,
    "start_time": "2023-02-14T12:34:38.814Z"
   },
   {
    "duration": 0,
    "start_time": "2023-02-14T12:34:38.816Z"
   },
   {
    "duration": 2,
    "start_time": "2023-02-14T12:34:47.347Z"
   },
   {
    "duration": 13,
    "start_time": "2023-02-14T12:34:49.171Z"
   },
   {
    "duration": 4,
    "start_time": "2023-02-14T12:34:49.931Z"
   },
   {
    "duration": 4,
    "start_time": "2023-02-14T12:34:51.639Z"
   },
   {
    "duration": 8,
    "start_time": "2023-02-14T12:35:06.571Z"
   },
   {
    "duration": 4,
    "start_time": "2023-02-14T12:35:17.845Z"
   },
   {
    "duration": 8,
    "start_time": "2023-02-14T12:35:20.513Z"
   },
   {
    "duration": 6,
    "start_time": "2023-02-14T12:35:27.790Z"
   },
   {
    "duration": 501,
    "start_time": "2023-02-14T12:36:12.937Z"
   },
   {
    "duration": 132,
    "start_time": "2023-02-14T12:36:17.956Z"
   },
   {
    "duration": 109,
    "start_time": "2023-02-14T12:37:24.331Z"
   },
   {
    "duration": 131,
    "start_time": "2023-02-14T12:38:21.906Z"
   },
   {
    "duration": 204,
    "start_time": "2023-02-14T12:38:34.203Z"
   },
   {
    "duration": 167,
    "start_time": "2023-02-14T12:41:37.338Z"
   },
   {
    "duration": 5,
    "start_time": "2023-02-14T12:56:53.227Z"
   },
   {
    "duration": 167,
    "start_time": "2023-02-14T12:56:54.769Z"
   },
   {
    "duration": 165,
    "start_time": "2023-02-14T13:00:03.967Z"
   },
   {
    "duration": 227,
    "start_time": "2023-02-14T13:00:15.814Z"
   },
   {
    "duration": 198,
    "start_time": "2023-02-14T13:00:23.544Z"
   },
   {
    "duration": 170,
    "start_time": "2023-02-14T13:00:28.357Z"
   },
   {
    "duration": 262,
    "start_time": "2023-02-14T13:01:50.109Z"
   },
   {
    "duration": 387,
    "start_time": "2023-02-14T13:02:02.935Z"
   },
   {
    "duration": 294,
    "start_time": "2023-02-14T13:02:23.701Z"
   },
   {
    "duration": 272,
    "start_time": "2023-02-14T13:04:42.468Z"
   },
   {
    "duration": 254,
    "start_time": "2023-02-14T13:04:49.200Z"
   },
   {
    "duration": 266,
    "start_time": "2023-02-14T13:06:24.783Z"
   },
   {
    "duration": 297,
    "start_time": "2023-02-14T13:08:23.915Z"
   },
   {
    "duration": 438,
    "start_time": "2023-02-14T13:08:35.592Z"
   },
   {
    "duration": 290,
    "start_time": "2023-02-14T13:08:42.772Z"
   },
   {
    "duration": 12,
    "start_time": "2023-02-15T05:18:17.215Z"
   },
   {
    "duration": 327,
    "start_time": "2023-02-15T05:18:27.931Z"
   },
   {
    "duration": 86,
    "start_time": "2023-02-15T08:48:38.493Z"
   },
   {
    "duration": 766,
    "start_time": "2023-02-15T08:48:47.159Z"
   },
   {
    "duration": 94,
    "start_time": "2023-02-15T08:48:47.927Z"
   },
   {
    "duration": 21,
    "start_time": "2023-02-15T08:48:48.023Z"
   },
   {
    "duration": 19,
    "start_time": "2023-02-15T08:48:48.047Z"
   },
   {
    "duration": 3,
    "start_time": "2023-02-15T08:48:48.068Z"
   },
   {
    "duration": 5,
    "start_time": "2023-02-15T08:48:48.074Z"
   },
   {
    "duration": 8,
    "start_time": "2023-02-15T08:48:48.081Z"
   },
   {
    "duration": 6,
    "start_time": "2023-02-15T08:48:48.091Z"
   },
   {
    "duration": 30,
    "start_time": "2023-02-15T08:48:48.099Z"
   },
   {
    "duration": 10,
    "start_time": "2023-02-15T08:48:48.132Z"
   },
   {
    "duration": 12,
    "start_time": "2023-02-15T08:48:48.144Z"
   },
   {
    "duration": 17,
    "start_time": "2023-02-15T08:48:48.157Z"
   },
   {
    "duration": 5,
    "start_time": "2023-02-15T08:48:48.175Z"
   },
   {
    "duration": 7,
    "start_time": "2023-02-15T08:48:48.182Z"
   },
   {
    "duration": 10,
    "start_time": "2023-02-15T08:48:48.190Z"
   },
   {
    "duration": 6,
    "start_time": "2023-02-15T08:48:48.226Z"
   },
   {
    "duration": 94,
    "start_time": "2023-02-15T08:48:48.234Z"
   },
   {
    "duration": 0,
    "start_time": "2023-02-15T08:48:48.330Z"
   },
   {
    "duration": 18,
    "start_time": "2023-02-15T08:50:42.723Z"
   },
   {
    "duration": 229,
    "start_time": "2023-02-15T08:50:43.887Z"
   },
   {
    "duration": 6,
    "start_time": "2023-02-15T08:50:51.902Z"
   },
   {
    "duration": 9,
    "start_time": "2023-02-15T08:50:52.321Z"
   },
   {
    "duration": 8,
    "start_time": "2023-02-15T08:50:52.554Z"
   },
   {
    "duration": 13,
    "start_time": "2023-02-15T08:50:53.338Z"
   },
   {
    "duration": 5,
    "start_time": "2023-02-15T08:50:53.814Z"
   },
   {
    "duration": 5,
    "start_time": "2023-02-15T08:50:54.773Z"
   },
   {
    "duration": 9,
    "start_time": "2023-02-15T08:50:55.387Z"
   },
   {
    "duration": 5,
    "start_time": "2023-02-15T08:50:55.807Z"
   },
   {
    "duration": 18,
    "start_time": "2023-02-15T08:50:57.011Z"
   },
   {
    "duration": 188,
    "start_time": "2023-02-15T08:50:58.897Z"
   },
   {
    "duration": 13,
    "start_time": "2023-02-15T08:51:46.864Z"
   },
   {
    "duration": 43,
    "start_time": "2023-02-15T08:55:13.904Z"
   },
   {
    "duration": 700,
    "start_time": "2023-02-15T08:56:40.281Z"
   },
   {
    "duration": 56,
    "start_time": "2023-02-15T08:56:40.983Z"
   },
   {
    "duration": 20,
    "start_time": "2023-02-15T08:56:41.040Z"
   },
   {
    "duration": 18,
    "start_time": "2023-02-15T08:56:41.062Z"
   },
   {
    "duration": 3,
    "start_time": "2023-02-15T08:56:41.082Z"
   },
   {
    "duration": 11,
    "start_time": "2023-02-15T08:56:41.086Z"
   },
   {
    "duration": 28,
    "start_time": "2023-02-15T08:56:41.099Z"
   },
   {
    "duration": 4,
    "start_time": "2023-02-15T08:56:41.129Z"
   },
   {
    "duration": 8,
    "start_time": "2023-02-15T08:56:41.135Z"
   },
   {
    "duration": 10,
    "start_time": "2023-02-15T08:56:41.145Z"
   },
   {
    "duration": 8,
    "start_time": "2023-02-15T08:56:41.156Z"
   },
   {
    "duration": 16,
    "start_time": "2023-02-15T08:56:41.166Z"
   },
   {
    "duration": 5,
    "start_time": "2023-02-15T08:56:41.184Z"
   },
   {
    "duration": 40,
    "start_time": "2023-02-15T08:56:41.191Z"
   },
   {
    "duration": 9,
    "start_time": "2023-02-15T08:56:41.234Z"
   },
   {
    "duration": 5,
    "start_time": "2023-02-15T08:56:41.244Z"
   },
   {
    "duration": 0,
    "start_time": "2023-02-15T09:06:02.834Z"
   },
   {
    "duration": 0,
    "start_time": "2023-02-15T09:06:02.835Z"
   },
   {
    "duration": 0,
    "start_time": "2023-02-15T09:06:02.836Z"
   },
   {
    "duration": 0,
    "start_time": "2023-02-15T09:06:02.837Z"
   },
   {
    "duration": 0,
    "start_time": "2023-02-15T09:06:02.839Z"
   },
   {
    "duration": 0,
    "start_time": "2023-02-15T09:06:02.840Z"
   },
   {
    "duration": 0,
    "start_time": "2023-02-15T09:06:02.841Z"
   },
   {
    "duration": 0,
    "start_time": "2023-02-15T09:06:02.842Z"
   },
   {
    "duration": 0,
    "start_time": "2023-02-15T09:06:02.844Z"
   },
   {
    "duration": 0,
    "start_time": "2023-02-15T09:06:02.844Z"
   },
   {
    "duration": 0,
    "start_time": "2023-02-15T09:06:02.845Z"
   },
   {
    "duration": 0,
    "start_time": "2023-02-15T09:06:02.846Z"
   },
   {
    "duration": 0,
    "start_time": "2023-02-15T09:06:02.848Z"
   },
   {
    "duration": 0,
    "start_time": "2023-02-15T09:06:02.848Z"
   },
   {
    "duration": 0,
    "start_time": "2023-02-15T09:06:02.849Z"
   },
   {
    "duration": 0,
    "start_time": "2023-02-15T09:06:02.850Z"
   },
   {
    "duration": 0,
    "start_time": "2023-02-15T09:06:02.852Z"
   },
   {
    "duration": 0,
    "start_time": "2023-02-15T09:06:02.853Z"
   },
   {
    "duration": 183,
    "start_time": "2023-02-15T09:43:40.076Z"
   },
   {
    "duration": 180194,
    "start_time": "2023-02-15T09:43:54.554Z"
   },
   {
    "duration": 537,
    "start_time": "2023-02-15T10:22:48.908Z"
   },
   {
    "duration": 315,
    "start_time": "2023-02-15T10:23:27.555Z"
   },
   {
    "duration": 269,
    "start_time": "2023-02-15T10:23:28.778Z"
   },
   {
    "duration": 308,
    "start_time": "2023-02-15T10:24:36.527Z"
   },
   {
    "duration": 269,
    "start_time": "2023-02-15T10:25:03.954Z"
   },
   {
    "duration": 276,
    "start_time": "2023-02-15T10:25:12.055Z"
   },
   {
    "duration": 74,
    "start_time": "2023-02-15T10:26:42.968Z"
   },
   {
    "duration": 46,
    "start_time": "2023-02-15T10:26:49.247Z"
   },
   {
    "duration": 67,
    "start_time": "2023-02-15T10:26:54.049Z"
   },
   {
    "duration": 611,
    "start_time": "2023-02-15T10:27:00.147Z"
   },
   {
    "duration": 555,
    "start_time": "2023-02-15T10:34:02.672Z"
   },
   {
    "duration": 11,
    "start_time": "2023-02-15T10:34:29.178Z"
   },
   {
    "duration": 1091,
    "start_time": "2023-02-15T10:34:35.472Z"
   },
   {
    "duration": 197,
    "start_time": "2023-02-15T10:35:45.155Z"
   },
   {
    "duration": 227,
    "start_time": "2023-02-15T10:36:21.061Z"
   },
   {
    "duration": 166,
    "start_time": "2023-02-15T10:36:29.282Z"
   },
   {
    "duration": 164,
    "start_time": "2023-02-15T10:36:45.461Z"
   },
   {
    "duration": 7,
    "start_time": "2023-02-15T10:41:33.143Z"
   },
   {
    "duration": 9,
    "start_time": "2023-02-15T10:41:53.058Z"
   },
   {
    "duration": 123,
    "start_time": "2023-02-15T10:42:06.679Z"
   },
   {
    "duration": 113,
    "start_time": "2023-02-15T10:42:31.376Z"
   },
   {
    "duration": 59,
    "start_time": "2023-02-15T10:42:36.523Z"
   },
   {
    "duration": 106,
    "start_time": "2023-02-15T10:42:48.403Z"
   },
   {
    "duration": 41,
    "start_time": "2023-02-15T10:43:14.255Z"
   },
   {
    "duration": 118,
    "start_time": "2023-02-15T10:43:21.955Z"
   },
   {
    "duration": 53,
    "start_time": "2023-02-15T10:44:25.206Z"
   },
   {
    "duration": 44,
    "start_time": "2023-02-15T10:45:06.165Z"
   },
   {
    "duration": 55,
    "start_time": "2023-02-15T10:45:30.480Z"
   },
   {
    "duration": 12,
    "start_time": "2023-02-15T11:24:30.690Z"
   },
   {
    "duration": 159,
    "start_time": "2023-02-15T11:25:10.351Z"
   },
   {
    "duration": 127,
    "start_time": "2023-02-15T11:25:55.372Z"
   },
   {
    "duration": 131,
    "start_time": "2023-02-15T11:26:08.687Z"
   },
   {
    "duration": 116,
    "start_time": "2023-02-15T11:26:39.147Z"
   },
   {
    "duration": 8,
    "start_time": "2023-02-15T11:30:48.976Z"
   },
   {
    "duration": 12,
    "start_time": "2023-02-15T11:31:00.252Z"
   },
   {
    "duration": 1510,
    "start_time": "2023-02-15T11:31:07.740Z"
   },
   {
    "duration": 94,
    "start_time": "2023-02-15T11:31:09.252Z"
   },
   {
    "duration": 15,
    "start_time": "2023-02-15T11:31:09.349Z"
   },
   {
    "duration": 20,
    "start_time": "2023-02-15T11:31:09.366Z"
   },
   {
    "duration": 3,
    "start_time": "2023-02-15T11:31:09.388Z"
   },
   {
    "duration": 4,
    "start_time": "2023-02-15T11:31:09.760Z"
   },
   {
    "duration": 4,
    "start_time": "2023-02-15T11:31:09.896Z"
   },
   {
    "duration": 3,
    "start_time": "2023-02-15T11:31:10.065Z"
   },
   {
    "duration": 7,
    "start_time": "2023-02-15T11:31:10.912Z"
   },
   {
    "duration": 9,
    "start_time": "2023-02-15T11:31:11.273Z"
   },
   {
    "duration": 8,
    "start_time": "2023-02-15T11:31:11.450Z"
   },
   {
    "duration": 17,
    "start_time": "2023-02-15T11:31:11.634Z"
   },
   {
    "duration": 6,
    "start_time": "2023-02-15T11:31:11.805Z"
   },
   {
    "duration": 7,
    "start_time": "2023-02-15T11:31:12.138Z"
   },
   {
    "duration": 9,
    "start_time": "2023-02-15T11:31:12.344Z"
   },
   {
    "duration": 5,
    "start_time": "2023-02-15T11:31:12.548Z"
   },
   {
    "duration": 2124,
    "start_time": "2023-02-15T11:32:32.961Z"
   },
   {
    "duration": 49,
    "start_time": "2023-02-15T11:32:35.087Z"
   },
   {
    "duration": 21,
    "start_time": "2023-02-15T11:32:35.138Z"
   },
   {
    "duration": 15,
    "start_time": "2023-02-15T11:32:35.161Z"
   },
   {
    "duration": 2,
    "start_time": "2023-02-15T11:32:35.179Z"
   },
   {
    "duration": 9,
    "start_time": "2023-02-15T11:32:35.183Z"
   },
   {
    "duration": 6,
    "start_time": "2023-02-15T11:32:35.194Z"
   },
   {
    "duration": 7,
    "start_time": "2023-02-15T11:32:35.202Z"
   },
   {
    "duration": 6,
    "start_time": "2023-02-15T11:32:35.227Z"
   },
   {
    "duration": 15,
    "start_time": "2023-02-15T11:32:35.234Z"
   },
   {
    "duration": 7,
    "start_time": "2023-02-15T11:32:35.251Z"
   },
   {
    "duration": 14,
    "start_time": "2023-02-15T11:32:35.260Z"
   },
   {
    "duration": 4,
    "start_time": "2023-02-15T11:32:35.276Z"
   },
   {
    "duration": 5,
    "start_time": "2023-02-15T11:32:35.283Z"
   },
   {
    "duration": 38,
    "start_time": "2023-02-15T11:32:35.290Z"
   },
   {
    "duration": 9,
    "start_time": "2023-02-15T11:32:35.329Z"
   },
   {
    "duration": 0,
    "start_time": "2023-02-15T11:35:36.347Z"
   },
   {
    "duration": 0,
    "start_time": "2023-02-15T11:35:36.348Z"
   },
   {
    "duration": 0,
    "start_time": "2023-02-15T11:35:36.349Z"
   },
   {
    "duration": 0,
    "start_time": "2023-02-15T11:35:36.351Z"
   },
   {
    "duration": 0,
    "start_time": "2023-02-15T11:35:36.352Z"
   },
   {
    "duration": 0,
    "start_time": "2023-02-15T11:35:36.353Z"
   },
   {
    "duration": 0,
    "start_time": "2023-02-15T11:35:36.354Z"
   },
   {
    "duration": 188,
    "start_time": "2023-02-15T11:38:50.744Z"
   },
   {
    "duration": 66,
    "start_time": "2023-02-15T11:38:55.156Z"
   },
   {
    "duration": 497,
    "start_time": "2023-02-15T11:38:59.590Z"
   },
   {
    "duration": 236,
    "start_time": "2023-02-15T11:40:47.443Z"
   },
   {
    "duration": 527,
    "start_time": "2023-02-15T11:41:02.715Z"
   },
   {
    "duration": 526,
    "start_time": "2023-02-15T11:41:39.092Z"
   },
   {
    "duration": 540,
    "start_time": "2023-02-15T11:41:46.919Z"
   },
   {
    "duration": 558,
    "start_time": "2023-02-15T11:42:01.575Z"
   },
   {
    "duration": 556,
    "start_time": "2023-02-15T11:42:11.460Z"
   },
   {
    "duration": 134,
    "start_time": "2023-02-15T11:44:04.173Z"
   },
   {
    "duration": 528,
    "start_time": "2023-02-15T11:45:55.416Z"
   },
   {
    "duration": 12,
    "start_time": "2023-02-15T11:48:08.545Z"
   },
   {
    "duration": 13,
    "start_time": "2023-02-15T11:48:40.365Z"
   },
   {
    "duration": 532,
    "start_time": "2023-02-15T11:48:58.705Z"
   },
   {
    "duration": 127,
    "start_time": "2023-02-15T11:50:54.681Z"
   },
   {
    "duration": 516,
    "start_time": "2023-02-15T11:53:15.268Z"
   },
   {
    "duration": 139,
    "start_time": "2023-02-15T11:55:37.297Z"
   },
   {
    "duration": 543,
    "start_time": "2023-02-15T11:55:43.252Z"
   },
   {
    "duration": 502,
    "start_time": "2023-02-15T12:02:31.641Z"
   },
   {
    "duration": 174,
    "start_time": "2023-02-15T12:13:52.065Z"
   },
   {
    "duration": 170,
    "start_time": "2023-02-15T12:14:50.202Z"
   },
   {
    "duration": 288,
    "start_time": "2023-02-15T12:16:13.277Z"
   },
   {
    "duration": 767,
    "start_time": "2023-02-15T12:16:20.275Z"
   },
   {
    "duration": 1830,
    "start_time": "2023-02-15T12:16:22.105Z"
   },
   {
    "duration": 697,
    "start_time": "2023-02-15T12:17:43.597Z"
   },
   {
    "duration": 16,
    "start_time": "2023-02-15T12:22:07.740Z"
   },
   {
    "duration": 712,
    "start_time": "2023-02-15T12:22:09.478Z"
   },
   {
    "duration": 11,
    "start_time": "2023-02-15T12:22:11.237Z"
   },
   {
    "duration": 53,
    "start_time": "2023-02-15T12:22:12.027Z"
   },
   {
    "duration": 5,
    "start_time": "2023-02-15T12:22:31.783Z"
   },
   {
    "duration": 1683,
    "start_time": "2023-02-15T12:23:51.130Z"
   },
   {
    "duration": 167,
    "start_time": "2023-02-15T12:25:25.368Z"
   },
   {
    "duration": 179,
    "start_time": "2023-02-15T12:26:40.342Z"
   },
   {
    "duration": 5,
    "start_time": "2023-02-15T12:27:44.279Z"
   },
   {
    "duration": 7,
    "start_time": "2023-02-15T12:27:45.498Z"
   },
   {
    "duration": 5,
    "start_time": "2023-02-15T12:27:46.087Z"
   },
   {
    "duration": 153,
    "start_time": "2023-02-15T12:27:52.895Z"
   },
   {
    "duration": 191,
    "start_time": "2023-02-15T12:28:24.746Z"
   },
   {
    "duration": 376,
    "start_time": "2023-02-15T12:30:35.774Z"
   },
   {
    "duration": 383,
    "start_time": "2023-02-15T12:32:01.012Z"
   },
   {
    "duration": 469,
    "start_time": "2023-02-15T12:34:00.026Z"
   },
   {
    "duration": 409,
    "start_time": "2023-02-15T12:38:06.022Z"
   },
   {
    "duration": 403,
    "start_time": "2023-02-15T12:43:42.203Z"
   },
   {
    "duration": 490,
    "start_time": "2023-02-15T12:44:27.381Z"
   },
   {
    "duration": 515,
    "start_time": "2023-02-15T12:45:47.316Z"
   },
   {
    "duration": 51,
    "start_time": "2023-02-16T09:04:50.521Z"
   },
   {
    "duration": 1335,
    "start_time": "2023-02-16T09:05:01.467Z"
   },
   {
    "duration": 190,
    "start_time": "2023-02-16T09:05:02.804Z"
   },
   {
    "duration": 17,
    "start_time": "2023-02-16T09:05:02.995Z"
   },
   {
    "duration": 16,
    "start_time": "2023-02-16T09:05:03.014Z"
   },
   {
    "duration": 3,
    "start_time": "2023-02-16T09:05:04.859Z"
   },
   {
    "duration": 4,
    "start_time": "2023-02-16T09:05:06.323Z"
   },
   {
    "duration": 4,
    "start_time": "2023-02-16T09:05:06.880Z"
   },
   {
    "duration": 3,
    "start_time": "2023-02-16T09:05:07.723Z"
   },
   {
    "duration": 6,
    "start_time": "2023-02-16T09:05:10.524Z"
   },
   {
    "duration": 11,
    "start_time": "2023-02-16T09:05:12.052Z"
   },
   {
    "duration": 9,
    "start_time": "2023-02-16T09:05:14.141Z"
   },
   {
    "duration": 9,
    "start_time": "2023-02-16T09:08:03.267Z"
   },
   {
    "duration": 15,
    "start_time": "2023-02-16T09:08:04.248Z"
   },
   {
    "duration": 6,
    "start_time": "2023-02-16T09:08:05.623Z"
   },
   {
    "duration": 7,
    "start_time": "2023-02-16T09:08:15.746Z"
   },
   {
    "duration": 8,
    "start_time": "2023-02-16T09:08:20.138Z"
   },
   {
    "duration": 4,
    "start_time": "2023-02-16T09:08:51.733Z"
   },
   {
    "duration": 184306,
    "start_time": "2023-02-16T09:11:57.552Z"
   },
   {
    "duration": 228,
    "start_time": "2023-02-16T09:15:01.860Z"
   },
   {
    "duration": 290,
    "start_time": "2023-02-16T09:15:02.090Z"
   },
   {
    "duration": 16,
    "start_time": "2023-02-16T09:15:02.381Z"
   },
   {
    "duration": 616,
    "start_time": "2023-02-16T09:15:02.399Z"
   },
   {
    "duration": 419,
    "start_time": "2023-02-16T09:15:03.017Z"
   },
   {
    "duration": 0,
    "start_time": "2023-02-16T09:15:03.438Z"
   },
   {
    "duration": 0,
    "start_time": "2023-02-16T09:15:03.439Z"
   },
   {
    "duration": 179,
    "start_time": "2023-02-16T09:16:40.765Z"
   },
   {
    "duration": 75,
    "start_time": "2023-02-16T09:19:55.960Z"
   },
   {
    "duration": 7,
    "start_time": "2023-02-16T09:20:31.814Z"
   },
   {
    "duration": 14,
    "start_time": "2023-02-16T09:43:42.686Z"
   },
   {
    "duration": 301,
    "start_time": "2023-02-16T09:45:24.694Z"
   },
   {
    "duration": 333,
    "start_time": "2023-02-16T09:46:31.603Z"
   },
   {
    "duration": 305,
    "start_time": "2023-02-16T09:46:33.132Z"
   },
   {
    "duration": 17,
    "start_time": "2023-02-16T09:46:36.121Z"
   },
   {
    "duration": 372,
    "start_time": "2023-02-16T09:46:44.330Z"
   },
   {
    "duration": 580,
    "start_time": "2023-02-16T09:47:20.689Z"
   },
   {
    "duration": 359,
    "start_time": "2023-02-16T09:47:33.553Z"
   },
   {
    "duration": 5,
    "start_time": "2023-02-16T09:49:04.879Z"
   },
   {
    "duration": 9,
    "start_time": "2023-02-16T09:49:06.086Z"
   },
   {
    "duration": 5,
    "start_time": "2023-02-16T09:49:07.233Z"
   },
   {
    "duration": 7,
    "start_time": "2023-02-16T09:49:08.030Z"
   },
   {
    "duration": 11215,
    "start_time": "2023-02-16T09:49:08.228Z"
   },
   {
    "duration": 401,
    "start_time": "2023-02-16T09:49:19.445Z"
   },
   {
    "duration": 0,
    "start_time": "2023-02-16T09:49:19.848Z"
   },
   {
    "duration": 0,
    "start_time": "2023-02-16T09:49:19.850Z"
   },
   {
    "duration": 0,
    "start_time": "2023-02-16T09:49:19.851Z"
   },
   {
    "duration": 66,
    "start_time": "2023-02-16T09:49:20.884Z"
   },
   {
    "duration": 73,
    "start_time": "2023-02-16T09:49:58.154Z"
   },
   {
    "duration": 131,
    "start_time": "2023-02-16T09:50:30.679Z"
   },
   {
    "duration": 8,
    "start_time": "2023-02-16T09:50:48.853Z"
   },
   {
    "duration": 9866,
    "start_time": "2023-02-16T09:50:50.854Z"
   },
   {
    "duration": 448,
    "start_time": "2023-02-16T09:51:00.722Z"
   },
   {
    "duration": 1,
    "start_time": "2023-02-16T09:51:01.172Z"
   },
   {
    "duration": 12052,
    "start_time": "2023-02-16T09:51:44.325Z"
   },
   {
    "duration": 343,
    "start_time": "2023-02-16T09:51:56.379Z"
   },
   {
    "duration": 0,
    "start_time": "2023-02-16T09:51:56.724Z"
   },
   {
    "duration": 1230,
    "start_time": "2023-02-16T09:52:15.660Z"
   },
   {
    "duration": 55,
    "start_time": "2023-02-16T09:52:16.893Z"
   },
   {
    "duration": 18,
    "start_time": "2023-02-16T09:52:16.950Z"
   },
   {
    "duration": 21,
    "start_time": "2023-02-16T09:52:16.970Z"
   },
   {
    "duration": 3,
    "start_time": "2023-02-16T09:52:16.994Z"
   },
   {
    "duration": 13,
    "start_time": "2023-02-16T09:52:16.998Z"
   },
   {
    "duration": 15,
    "start_time": "2023-02-16T09:52:17.014Z"
   },
   {
    "duration": 11,
    "start_time": "2023-02-16T09:52:17.031Z"
   },
   {
    "duration": 39,
    "start_time": "2023-02-16T09:52:17.044Z"
   },
   {
    "duration": 19,
    "start_time": "2023-02-16T09:52:17.084Z"
   },
   {
    "duration": 13,
    "start_time": "2023-02-16T09:52:17.104Z"
   },
   {
    "duration": 21,
    "start_time": "2023-02-16T09:52:17.119Z"
   },
   {
    "duration": 12,
    "start_time": "2023-02-16T09:52:17.141Z"
   },
   {
    "duration": 12,
    "start_time": "2023-02-16T09:52:17.155Z"
   },
   {
    "duration": 14,
    "start_time": "2023-02-16T09:52:17.169Z"
   },
   {
    "duration": 12,
    "start_time": "2023-02-16T09:52:17.184Z"
   },
   {
    "duration": 11,
    "start_time": "2023-02-16T09:52:17.198Z"
   },
   {
    "duration": 208,
    "start_time": "2023-02-16T09:52:17.210Z"
   },
   {
    "duration": 31,
    "start_time": "2023-02-16T09:52:17.420Z"
   },
   {
    "duration": 318,
    "start_time": "2023-02-16T09:52:17.453Z"
   },
   {
    "duration": 17,
    "start_time": "2023-02-16T09:52:17.773Z"
   },
   {
    "duration": 346,
    "start_time": "2023-02-16T09:52:17.792Z"
   },
   {
    "duration": 0,
    "start_time": "2023-02-16T09:52:18.140Z"
   },
   {
    "duration": 0,
    "start_time": "2023-02-16T09:52:18.142Z"
   },
   {
    "duration": 0,
    "start_time": "2023-02-16T09:52:18.143Z"
   },
   {
    "duration": 2668,
    "start_time": "2023-02-16T09:54:07.940Z"
   },
   {
    "duration": 0,
    "start_time": "2023-02-16T09:54:10.610Z"
   },
   {
    "duration": 0,
    "start_time": "2023-02-16T09:54:10.612Z"
   },
   {
    "duration": 0,
    "start_time": "2023-02-16T09:54:10.613Z"
   },
   {
    "duration": 0,
    "start_time": "2023-02-16T09:54:10.615Z"
   },
   {
    "duration": 367,
    "start_time": "2023-02-16T09:54:10.730Z"
   },
   {
    "duration": 302,
    "start_time": "2023-02-16T09:54:11.329Z"
   },
   {
    "duration": 18,
    "start_time": "2023-02-16T09:54:13.236Z"
   },
   {
    "duration": 211,
    "start_time": "2023-02-16T09:54:13.962Z"
   },
   {
    "duration": 81,
    "start_time": "2023-02-16T09:54:15.953Z"
   },
   {
    "duration": 613,
    "start_time": "2023-02-16T09:54:16.430Z"
   },
   {
    "duration": 729,
    "start_time": "2023-02-16T09:55:17.997Z"
   },
   {
    "duration": 325,
    "start_time": "2023-02-16T09:55:41.403Z"
   },
   {
    "duration": 415,
    "start_time": "2023-02-16T09:59:42.631Z"
   },
   {
    "duration": 89,
    "start_time": "2023-02-16T10:05:46.877Z"
   },
   {
    "duration": 3,
    "start_time": "2023-02-16T10:10:14.645Z"
   },
   {
    "duration": 346,
    "start_time": "2023-02-16T10:10:28.534Z"
   },
   {
    "duration": 8,
    "start_time": "2023-02-16T10:10:40.581Z"
   },
   {
    "duration": 324,
    "start_time": "2023-02-16T10:11:09.283Z"
   },
   {
    "duration": 268,
    "start_time": "2023-02-16T10:11:12.423Z"
   },
   {
    "duration": 5,
    "start_time": "2023-02-16T10:11:26.768Z"
   },
   {
    "duration": 9,
    "start_time": "2023-02-16T10:11:27.229Z"
   },
   {
    "duration": 5,
    "start_time": "2023-02-16T10:11:28.240Z"
   },
   {
    "duration": 7,
    "start_time": "2023-02-16T10:11:29.869Z"
   },
   {
    "duration": 7870,
    "start_time": "2023-02-16T10:11:30.755Z"
   },
   {
    "duration": 413,
    "start_time": "2023-02-16T10:11:38.627Z"
   },
   {
    "duration": 0,
    "start_time": "2023-02-16T10:11:39.042Z"
   },
   {
    "duration": 484,
    "start_time": "2023-02-16T10:12:21.039Z"
   },
   {
    "duration": 1222,
    "start_time": "2023-02-16T10:12:28.251Z"
   },
   {
    "duration": 56,
    "start_time": "2023-02-16T10:12:29.476Z"
   },
   {
    "duration": 18,
    "start_time": "2023-02-16T10:12:29.533Z"
   },
   {
    "duration": 31,
    "start_time": "2023-02-16T10:12:29.553Z"
   },
   {
    "duration": 2,
    "start_time": "2023-02-16T10:12:29.586Z"
   },
   {
    "duration": 17,
    "start_time": "2023-02-16T10:12:29.590Z"
   },
   {
    "duration": 25,
    "start_time": "2023-02-16T10:12:29.609Z"
   },
   {
    "duration": 13,
    "start_time": "2023-02-16T10:12:29.636Z"
   },
   {
    "duration": 18,
    "start_time": "2023-02-16T10:12:29.651Z"
   },
   {
    "duration": 16,
    "start_time": "2023-02-16T10:12:29.672Z"
   },
   {
    "duration": 28,
    "start_time": "2023-02-16T10:12:29.690Z"
   },
   {
    "duration": 10,
    "start_time": "2023-02-16T10:12:29.719Z"
   },
   {
    "duration": 16,
    "start_time": "2023-02-16T10:12:29.731Z"
   },
   {
    "duration": 24,
    "start_time": "2023-02-16T10:12:29.749Z"
   },
   {
    "duration": 36,
    "start_time": "2023-02-16T10:12:29.775Z"
   },
   {
    "duration": 20,
    "start_time": "2023-02-16T10:12:29.813Z"
   },
   {
    "duration": 218,
    "start_time": "2023-02-16T10:12:29.835Z"
   },
   {
    "duration": 19,
    "start_time": "2023-02-16T10:12:30.055Z"
   },
   {
    "duration": 349,
    "start_time": "2023-02-16T10:12:30.076Z"
   },
   {
    "duration": 24,
    "start_time": "2023-02-16T10:12:30.427Z"
   },
   {
    "duration": 418,
    "start_time": "2023-02-16T10:12:30.453Z"
   },
   {
    "duration": 0,
    "start_time": "2023-02-16T10:12:30.873Z"
   },
   {
    "duration": 0,
    "start_time": "2023-02-16T10:12:30.874Z"
   },
   {
    "duration": 0,
    "start_time": "2023-02-16T10:12:30.875Z"
   },
   {
    "duration": 427,
    "start_time": "2023-02-16T10:12:40.990Z"
   },
   {
    "duration": 291,
    "start_time": "2023-02-16T10:12:42.944Z"
   },
   {
    "duration": 3,
    "start_time": "2023-02-16T10:13:54.729Z"
   },
   {
    "duration": 308,
    "start_time": "2023-02-16T10:13:55.475Z"
   },
   {
    "duration": 17,
    "start_time": "2023-02-16T10:13:55.938Z"
   },
   {
    "duration": 310,
    "start_time": "2023-02-16T10:13:56.796Z"
   },
   {
    "duration": 1294,
    "start_time": "2023-02-16T10:14:04.623Z"
   },
   {
    "duration": 53,
    "start_time": "2023-02-16T10:14:05.919Z"
   },
   {
    "duration": 18,
    "start_time": "2023-02-16T10:14:05.974Z"
   },
   {
    "duration": 15,
    "start_time": "2023-02-16T10:14:05.994Z"
   },
   {
    "duration": 3,
    "start_time": "2023-02-16T10:14:06.012Z"
   },
   {
    "duration": 22,
    "start_time": "2023-02-16T10:14:06.016Z"
   },
   {
    "duration": 21,
    "start_time": "2023-02-16T10:14:06.040Z"
   },
   {
    "duration": 19,
    "start_time": "2023-02-16T10:14:06.063Z"
   },
   {
    "duration": 12,
    "start_time": "2023-02-16T10:14:06.083Z"
   },
   {
    "duration": 13,
    "start_time": "2023-02-16T10:14:06.097Z"
   },
   {
    "duration": 23,
    "start_time": "2023-02-16T10:14:06.111Z"
   },
   {
    "duration": 5,
    "start_time": "2023-02-16T10:14:06.136Z"
   },
   {
    "duration": 130,
    "start_time": "2023-02-16T10:14:06.143Z"
   },
   {
    "duration": 0,
    "start_time": "2023-02-16T10:14:06.276Z"
   },
   {
    "duration": 0,
    "start_time": "2023-02-16T10:14:06.277Z"
   },
   {
    "duration": 0,
    "start_time": "2023-02-16T10:14:06.279Z"
   },
   {
    "duration": 0,
    "start_time": "2023-02-16T10:14:06.280Z"
   },
   {
    "duration": 0,
    "start_time": "2023-02-16T10:14:06.281Z"
   },
   {
    "duration": 0,
    "start_time": "2023-02-16T10:14:06.283Z"
   },
   {
    "duration": 0,
    "start_time": "2023-02-16T10:14:06.284Z"
   },
   {
    "duration": 0,
    "start_time": "2023-02-16T10:14:06.286Z"
   },
   {
    "duration": 0,
    "start_time": "2023-02-16T10:14:06.287Z"
   },
   {
    "duration": 0,
    "start_time": "2023-02-16T10:14:06.288Z"
   },
   {
    "duration": 0,
    "start_time": "2023-02-16T10:14:06.289Z"
   },
   {
    "duration": 15,
    "start_time": "2023-02-16T10:14:27.831Z"
   },
   {
    "duration": 16,
    "start_time": "2023-02-16T10:14:28.840Z"
   },
   {
    "duration": 6,
    "start_time": "2023-02-16T10:14:31.001Z"
   },
   {
    "duration": 6,
    "start_time": "2023-02-16T10:15:07.927Z"
   },
   {
    "duration": 11,
    "start_time": "2023-02-16T10:15:08.943Z"
   },
   {
    "duration": 4,
    "start_time": "2023-02-16T10:15:09.594Z"
   },
   {
    "duration": 7,
    "start_time": "2023-02-16T10:15:12.143Z"
   },
   {
    "duration": 219,
    "start_time": "2023-02-16T10:15:13.081Z"
   },
   {
    "duration": 2,
    "start_time": "2023-02-16T10:15:15.024Z"
   },
   {
    "duration": 276,
    "start_time": "2023-02-16T10:15:15.794Z"
   },
   {
    "duration": 14,
    "start_time": "2023-02-16T10:15:17.027Z"
   },
   {
    "duration": 557,
    "start_time": "2023-02-16T10:15:17.695Z"
   },
   {
    "duration": 6,
    "start_time": "2023-02-16T10:17:12.560Z"
   },
   {
    "duration": 198,
    "start_time": "2023-02-16T10:17:13.560Z"
   },
   {
    "duration": 16,
    "start_time": "2023-02-16T10:17:15.238Z"
   },
   {
    "duration": 596,
    "start_time": "2023-02-16T10:17:15.852Z"
   },
   {
    "duration": 307,
    "start_time": "2023-02-16T10:29:53.527Z"
   },
   {
    "duration": 312,
    "start_time": "2023-02-16T10:31:28.143Z"
   },
   {
    "duration": 242,
    "start_time": "2023-02-16T10:32:04.227Z"
   },
   {
    "duration": 17,
    "start_time": "2023-02-16T10:32:50.290Z"
   },
   {
    "duration": 610,
    "start_time": "2023-02-16T10:32:51.137Z"
   },
   {
    "duration": 468,
    "start_time": "2023-02-16T10:33:44.282Z"
   },
   {
    "duration": 471,
    "start_time": "2023-02-16T10:33:55.354Z"
   },
   {
    "duration": 5,
    "start_time": "2023-02-16T10:34:46.831Z"
   },
   {
    "duration": 179,
    "start_time": "2023-02-16T10:34:48.363Z"
   },
   {
    "duration": 12,
    "start_time": "2023-02-16T10:34:53.761Z"
   },
   {
    "duration": 588,
    "start_time": "2023-02-16T10:34:55.054Z"
   },
   {
    "duration": 487,
    "start_time": "2023-02-16T10:35:34.443Z"
   },
   {
    "duration": 5,
    "start_time": "2023-02-16T10:35:48.784Z"
   },
   {
    "duration": 184,
    "start_time": "2023-02-16T10:35:49.861Z"
   },
   {
    "duration": 11,
    "start_time": "2023-02-16T10:35:50.467Z"
   },
   {
    "duration": 466,
    "start_time": "2023-02-16T10:35:51.245Z"
   },
   {
    "duration": 172,
    "start_time": "2023-02-16T10:36:03.695Z"
   },
   {
    "duration": 4,
    "start_time": "2023-02-16T10:36:05.431Z"
   },
   {
    "duration": 184,
    "start_time": "2023-02-16T10:36:06.594Z"
   },
   {
    "duration": 11,
    "start_time": "2023-02-16T10:36:07.594Z"
   },
   {
    "duration": 573,
    "start_time": "2023-02-16T10:36:08.300Z"
   },
   {
    "duration": 5,
    "start_time": "2023-02-16T10:37:31.388Z"
   },
   {
    "duration": 191,
    "start_time": "2023-02-16T10:37:31.678Z"
   },
   {
    "duration": 14,
    "start_time": "2023-02-16T10:37:32.595Z"
   },
   {
    "duration": 450,
    "start_time": "2023-02-16T10:37:33.203Z"
   },
   {
    "duration": 4,
    "start_time": "2023-02-16T10:37:45.543Z"
   },
   {
    "duration": 177,
    "start_time": "2023-02-16T10:37:46.255Z"
   },
   {
    "duration": 11,
    "start_time": "2023-02-16T10:37:47.231Z"
   },
   {
    "duration": 452,
    "start_time": "2023-02-16T10:37:48.270Z"
   },
   {
    "duration": 601,
    "start_time": "2023-02-16T10:37:55.239Z"
   },
   {
    "duration": 201,
    "start_time": "2023-02-16T10:43:00.169Z"
   },
   {
    "duration": 11,
    "start_time": "2023-02-16T10:43:11.630Z"
   },
   {
    "duration": 569,
    "start_time": "2023-02-16T10:43:12.378Z"
   },
   {
    "duration": 484,
    "start_time": "2023-02-16T10:43:41.877Z"
   },
   {
    "duration": 679,
    "start_time": "2023-02-16T10:43:55.330Z"
   },
   {
    "duration": 452,
    "start_time": "2023-02-16T10:44:22.334Z"
   },
   {
    "duration": 177,
    "start_time": "2023-02-16T10:44:58.545Z"
   },
   {
    "duration": 4,
    "start_time": "2023-02-16T10:44:59.975Z"
   },
   {
    "duration": 199,
    "start_time": "2023-02-16T10:45:00.642Z"
   },
   {
    "duration": 12,
    "start_time": "2023-02-16T10:45:02.046Z"
   },
   {
    "duration": 391,
    "start_time": "2023-02-16T10:45:02.631Z"
   },
   {
    "duration": 10,
    "start_time": "2023-02-16T10:46:45.487Z"
   },
   {
    "duration": 389,
    "start_time": "2023-02-16T10:46:47.836Z"
   },
   {
    "duration": 6,
    "start_time": "2023-02-16T10:47:41.252Z"
   },
   {
    "duration": 239,
    "start_time": "2023-02-16T10:47:42.418Z"
   },
   {
    "duration": 4,
    "start_time": "2023-02-16T10:47:43.680Z"
   },
   {
    "duration": 329,
    "start_time": "2023-02-16T10:47:45.752Z"
   },
   {
    "duration": 11,
    "start_time": "2023-02-16T10:47:46.991Z"
   },
   {
    "duration": 379,
    "start_time": "2023-02-16T10:47:47.739Z"
   },
   {
    "duration": 95,
    "start_time": "2023-02-16T10:47:49.977Z"
   },
   {
    "duration": 1254,
    "start_time": "2023-02-16T10:48:04.384Z"
   },
   {
    "duration": 56,
    "start_time": "2023-02-16T10:48:05.640Z"
   },
   {
    "duration": 18,
    "start_time": "2023-02-16T10:48:05.698Z"
   },
   {
    "duration": 18,
    "start_time": "2023-02-16T10:48:05.719Z"
   },
   {
    "duration": 7,
    "start_time": "2023-02-16T10:48:05.738Z"
   },
   {
    "duration": 32,
    "start_time": "2023-02-16T10:48:05.747Z"
   },
   {
    "duration": 17,
    "start_time": "2023-02-16T10:48:05.782Z"
   },
   {
    "duration": 18,
    "start_time": "2023-02-16T10:48:05.801Z"
   },
   {
    "duration": 21,
    "start_time": "2023-02-16T10:48:05.821Z"
   },
   {
    "duration": 22,
    "start_time": "2023-02-16T10:48:05.844Z"
   },
   {
    "duration": 22,
    "start_time": "2023-02-16T10:48:05.867Z"
   },
   {
    "duration": 20,
    "start_time": "2023-02-16T10:48:05.892Z"
   },
   {
    "duration": 37,
    "start_time": "2023-02-16T10:48:05.913Z"
   },
   {
    "duration": 16,
    "start_time": "2023-02-16T10:48:05.952Z"
   },
   {
    "duration": 24,
    "start_time": "2023-02-16T10:48:05.970Z"
   },
   {
    "duration": 34,
    "start_time": "2023-02-16T10:48:05.996Z"
   },
   {
    "duration": 213,
    "start_time": "2023-02-16T10:48:06.032Z"
   },
   {
    "duration": 6,
    "start_time": "2023-02-16T10:48:06.246Z"
   },
   {
    "duration": 222,
    "start_time": "2023-02-16T10:48:06.253Z"
   },
   {
    "duration": 13,
    "start_time": "2023-02-16T10:48:06.477Z"
   },
   {
    "duration": 421,
    "start_time": "2023-02-16T10:48:06.492Z"
   },
   {
    "duration": 74,
    "start_time": "2023-02-16T10:48:06.915Z"
   },
   {
    "duration": 0,
    "start_time": "2023-02-16T10:48:06.991Z"
   },
   {
    "duration": 0,
    "start_time": "2023-02-16T10:48:06.992Z"
   },
   {
    "duration": 186,
    "start_time": "2023-02-16T10:50:48.222Z"
   },
   {
    "duration": 315,
    "start_time": "2023-02-16T10:50:57.461Z"
   },
   {
    "duration": 124,
    "start_time": "2023-02-16T11:00:43.568Z"
   },
   {
    "duration": 302,
    "start_time": "2023-02-16T11:01:06.879Z"
   },
   {
    "duration": 20,
    "start_time": "2023-02-16T11:03:12.659Z"
   },
   {
    "duration": 18,
    "start_time": "2023-02-16T11:04:14.826Z"
   },
   {
    "duration": 334,
    "start_time": "2023-02-16T11:05:14.741Z"
   },
   {
    "duration": 5,
    "start_time": "2023-02-16T11:05:16.087Z"
   },
   {
    "duration": 23,
    "start_time": "2023-02-16T11:10:55.346Z"
   },
   {
    "duration": 19,
    "start_time": "2023-02-16T11:11:07.509Z"
   },
   {
    "duration": 16,
    "start_time": "2023-02-16T11:11:19.725Z"
   },
   {
    "duration": 4779,
    "start_time": "2023-02-16T11:13:28.735Z"
   },
   {
    "duration": 88,
    "start_time": "2023-02-16T11:14:49.159Z"
   },
   {
    "duration": 191,
    "start_time": "2023-02-16T11:14:54.678Z"
   },
   {
    "duration": 178,
    "start_time": "2023-02-16T11:15:23.159Z"
   },
   {
    "duration": 152,
    "start_time": "2023-02-16T11:15:30.073Z"
   },
   {
    "duration": 149,
    "start_time": "2023-02-16T11:16:33.572Z"
   },
   {
    "duration": 168,
    "start_time": "2023-02-16T11:16:34.659Z"
   },
   {
    "duration": 150,
    "start_time": "2023-02-16T11:17:01.842Z"
   },
   {
    "duration": 147,
    "start_time": "2023-02-16T11:17:19.880Z"
   },
   {
    "duration": 332,
    "start_time": "2023-02-16T11:18:01.821Z"
   },
   {
    "duration": 149,
    "start_time": "2023-02-16T11:18:59.433Z"
   },
   {
    "duration": 162,
    "start_time": "2023-02-16T11:19:40.388Z"
   },
   {
    "duration": 151,
    "start_time": "2023-02-16T11:19:47.146Z"
   },
   {
    "duration": 151,
    "start_time": "2023-02-16T11:25:53.226Z"
   },
   {
    "duration": 16,
    "start_time": "2023-02-16T11:26:32.725Z"
   },
   {
    "duration": 274,
    "start_time": "2023-02-16T11:26:33.588Z"
   },
   {
    "duration": 13,
    "start_time": "2023-02-16T11:26:34.261Z"
   },
   {
    "duration": 303,
    "start_time": "2023-02-16T11:26:35.234Z"
   },
   {
    "duration": 424,
    "start_time": "2023-02-16T11:27:10.675Z"
   },
   {
    "duration": 420,
    "start_time": "2023-02-16T11:28:25.112Z"
   },
   {
    "duration": 383,
    "start_time": "2023-02-16T11:29:51.968Z"
   },
   {
    "duration": 92,
    "start_time": "2023-02-16T11:35:06.132Z"
   },
   {
    "duration": 131,
    "start_time": "2023-02-16T11:35:21.119Z"
   },
   {
    "duration": 74,
    "start_time": "2023-02-16T11:37:27.719Z"
   },
   {
    "duration": 11,
    "start_time": "2023-02-16T11:37:46.711Z"
   },
   {
    "duration": 17,
    "start_time": "2023-02-16T11:38:05.649Z"
   },
   {
    "duration": 27,
    "start_time": "2023-02-16T11:38:38.927Z"
   },
   {
    "duration": 29,
    "start_time": "2023-02-16T11:41:42.523Z"
   },
   {
    "duration": 20,
    "start_time": "2023-02-16T11:41:49.944Z"
   },
   {
    "duration": 25,
    "start_time": "2023-02-16T11:44:01.649Z"
   },
   {
    "duration": 156,
    "start_time": "2023-02-16T11:54:02.431Z"
   },
   {
    "duration": 24,
    "start_time": "2023-02-16T11:54:10.577Z"
   },
   {
    "duration": 28,
    "start_time": "2023-02-16T11:57:33.554Z"
   },
   {
    "duration": 24,
    "start_time": "2023-02-16T11:57:57.692Z"
   },
   {
    "duration": 23,
    "start_time": "2023-02-16T11:58:35.712Z"
   },
   {
    "duration": 26,
    "start_time": "2023-02-16T11:59:17.181Z"
   },
   {
    "duration": 70,
    "start_time": "2023-02-16T12:00:06.156Z"
   },
   {
    "duration": 24,
    "start_time": "2023-02-16T12:01:30.445Z"
   },
   {
    "duration": 244,
    "start_time": "2023-02-16T12:09:03.415Z"
   },
   {
    "duration": 1398,
    "start_time": "2023-02-16T17:07:13.528Z"
   },
   {
    "duration": 120,
    "start_time": "2023-02-16T17:07:14.928Z"
   },
   {
    "duration": 34,
    "start_time": "2023-02-16T17:07:15.051Z"
   },
   {
    "duration": 18,
    "start_time": "2023-02-16T17:07:16.218Z"
   },
   {
    "duration": 3,
    "start_time": "2023-02-16T17:07:17.588Z"
   },
   {
    "duration": 4,
    "start_time": "2023-02-16T17:07:19.458Z"
   },
   {
    "duration": 5,
    "start_time": "2023-02-16T17:07:20.021Z"
   },
   {
    "duration": 3,
    "start_time": "2023-02-16T17:07:20.843Z"
   },
   {
    "duration": 9,
    "start_time": "2023-02-16T17:07:23.196Z"
   },
   {
    "duration": 12,
    "start_time": "2023-02-16T17:07:24.386Z"
   },
   {
    "duration": 25,
    "start_time": "2023-02-16T17:07:25.273Z"
   },
   {
    "duration": 8,
    "start_time": "2023-02-16T17:07:26.059Z"
   },
   {
    "duration": 11,
    "start_time": "2023-02-16T17:07:27.437Z"
   },
   {
    "duration": 8,
    "start_time": "2023-02-16T17:07:28.152Z"
   },
   {
    "duration": 6,
    "start_time": "2023-02-16T17:07:28.887Z"
   },
   {
    "duration": 9,
    "start_time": "2023-02-16T17:07:31.190Z"
   },
   {
    "duration": 204,
    "start_time": "2023-02-16T17:07:31.895Z"
   },
   {
    "duration": 118,
    "start_time": "2023-02-16T17:07:32.445Z"
   },
   {
    "duration": 297,
    "start_time": "2023-02-16T17:07:33.418Z"
   },
   {
    "duration": 13,
    "start_time": "2023-02-16T17:07:34.272Z"
   },
   {
    "duration": 420,
    "start_time": "2023-02-16T17:07:35.271Z"
   },
   {
    "duration": 35,
    "start_time": "2023-02-16T17:07:36.818Z"
   },
   {
    "duration": 26,
    "start_time": "2023-02-16T17:07:51.786Z"
   },
   {
    "duration": 38,
    "start_time": "2023-02-16T17:08:10.352Z"
   },
   {
    "duration": 26,
    "start_time": "2023-02-16T17:11:40.994Z"
   },
   {
    "duration": 26,
    "start_time": "2023-02-16T17:15:16.801Z"
   },
   {
    "duration": 36,
    "start_time": "2023-02-16T17:16:39.026Z"
   },
   {
    "duration": 27,
    "start_time": "2023-02-16T17:17:07.605Z"
   },
   {
    "duration": 27,
    "start_time": "2023-02-16T17:17:14.612Z"
   },
   {
    "duration": 21,
    "start_time": "2023-02-16T17:17:22.974Z"
   },
   {
    "duration": 14,
    "start_time": "2023-02-16T17:19:24.514Z"
   },
   {
    "duration": 17,
    "start_time": "2023-02-16T17:19:38.078Z"
   },
   {
    "duration": 14,
    "start_time": "2023-02-16T17:23:26.746Z"
   },
   {
    "duration": 12,
    "start_time": "2023-02-16T17:23:41.170Z"
   },
   {
    "duration": 14,
    "start_time": "2023-02-16T17:23:41.899Z"
   },
   {
    "duration": 1093,
    "start_time": "2023-02-16T17:23:48.458Z"
   },
   {
    "duration": 50,
    "start_time": "2023-02-16T17:23:49.553Z"
   },
   {
    "duration": 19,
    "start_time": "2023-02-16T17:23:49.605Z"
   },
   {
    "duration": 14,
    "start_time": "2023-02-16T17:23:49.626Z"
   },
   {
    "duration": 3,
    "start_time": "2023-02-16T17:23:49.642Z"
   },
   {
    "duration": 6,
    "start_time": "2023-02-16T17:23:49.647Z"
   },
   {
    "duration": 7,
    "start_time": "2023-02-16T17:23:49.655Z"
   },
   {
    "duration": 7,
    "start_time": "2023-02-16T17:23:49.663Z"
   },
   {
    "duration": 9,
    "start_time": "2023-02-16T17:23:49.672Z"
   },
   {
    "duration": 8,
    "start_time": "2023-02-16T17:23:49.685Z"
   },
   {
    "duration": 48,
    "start_time": "2023-02-16T17:23:49.695Z"
   },
   {
    "duration": 7,
    "start_time": "2023-02-16T17:23:49.745Z"
   },
   {
    "duration": 8,
    "start_time": "2023-02-16T17:23:49.754Z"
   },
   {
    "duration": 10,
    "start_time": "2023-02-16T17:23:49.765Z"
   },
   {
    "duration": 9,
    "start_time": "2023-02-16T17:23:49.777Z"
   },
   {
    "duration": 6,
    "start_time": "2023-02-16T17:23:49.788Z"
   },
   {
    "duration": 221,
    "start_time": "2023-02-16T17:23:49.796Z"
   },
   {
    "duration": 122,
    "start_time": "2023-02-16T17:23:50.018Z"
   },
   {
    "duration": 0,
    "start_time": "2023-02-16T17:23:50.142Z"
   },
   {
    "duration": 0,
    "start_time": "2023-02-16T17:23:50.144Z"
   },
   {
    "duration": 0,
    "start_time": "2023-02-16T17:23:50.145Z"
   },
   {
    "duration": 0,
    "start_time": "2023-02-16T17:23:50.146Z"
   },
   {
    "duration": 0,
    "start_time": "2023-02-16T17:23:50.148Z"
   },
   {
    "duration": 0,
    "start_time": "2023-02-16T17:23:50.149Z"
   },
   {
    "duration": 0,
    "start_time": "2023-02-16T17:23:50.150Z"
   },
   {
    "duration": 0,
    "start_time": "2023-02-16T17:23:50.151Z"
   },
   {
    "duration": 0,
    "start_time": "2023-02-16T17:23:50.152Z"
   },
   {
    "duration": 0,
    "start_time": "2023-02-16T17:23:50.153Z"
   },
   {
    "duration": 0,
    "start_time": "2023-02-16T17:23:50.154Z"
   },
   {
    "duration": 4,
    "start_time": "2023-02-16T17:24:03.342Z"
   },
   {
    "duration": 65,
    "start_time": "2023-02-16T17:24:03.496Z"
   },
   {
    "duration": 15,
    "start_time": "2023-02-16T17:24:03.663Z"
   },
   {
    "duration": 16,
    "start_time": "2023-02-16T17:24:03.830Z"
   },
   {
    "duration": 3,
    "start_time": "2023-02-16T17:24:04.215Z"
   },
   {
    "duration": 4,
    "start_time": "2023-02-16T17:24:04.920Z"
   },
   {
    "duration": 5,
    "start_time": "2023-02-16T17:24:05.076Z"
   },
   {
    "duration": 6,
    "start_time": "2023-02-16T17:24:05.483Z"
   },
   {
    "duration": 8,
    "start_time": "2023-02-16T17:24:06.115Z"
   },
   {
    "duration": 8,
    "start_time": "2023-02-16T17:24:06.465Z"
   },
   {
    "duration": 20,
    "start_time": "2023-02-16T17:24:06.642Z"
   },
   {
    "duration": 5,
    "start_time": "2023-02-16T17:24:06.817Z"
   },
   {
    "duration": 8,
    "start_time": "2023-02-16T17:24:07.142Z"
   },
   {
    "duration": 9,
    "start_time": "2023-02-16T17:24:07.316Z"
   },
   {
    "duration": 5,
    "start_time": "2023-02-16T17:24:07.502Z"
   },
   {
    "duration": 8,
    "start_time": "2023-02-16T17:24:08.111Z"
   },
   {
    "duration": 197,
    "start_time": "2023-02-16T17:24:08.121Z"
   },
   {
    "duration": 26,
    "start_time": "2023-02-16T17:24:08.328Z"
   },
   {
    "duration": 295,
    "start_time": "2023-02-16T17:24:08.437Z"
   },
   {
    "duration": 14,
    "start_time": "2023-02-16T17:24:08.833Z"
   },
   {
    "duration": 373,
    "start_time": "2023-02-16T17:24:09.340Z"
   },
   {
    "duration": 26,
    "start_time": "2023-02-16T17:24:09.759Z"
   },
   {
    "duration": 5,
    "start_time": "2023-02-16T17:24:10.436Z"
   },
   {
    "duration": 267,
    "start_time": "2023-02-16T17:24:10.616Z"
   },
   {
    "duration": 14,
    "start_time": "2023-02-16T17:24:10.886Z"
   },
   {
    "duration": 479,
    "start_time": "2023-02-16T17:24:10.995Z"
   },
   {
    "duration": 54,
    "start_time": "2023-02-16T17:24:11.477Z"
   },
   {
    "duration": 0,
    "start_time": "2023-02-16T17:24:11.532Z"
   },
   {
    "duration": 9,
    "start_time": "2023-02-16T17:24:11.540Z"
   },
   {
    "duration": 375,
    "start_time": "2023-02-16T17:24:58.730Z"
   },
   {
    "duration": 652,
    "start_time": "2023-02-16T17:25:15.933Z"
   },
   {
    "duration": 381,
    "start_time": "2023-02-16T17:25:37.485Z"
   },
   {
    "duration": 707,
    "start_time": "2023-02-16T17:28:37.730Z"
   },
   {
    "duration": 49,
    "start_time": "2023-02-16T18:49:28.164Z"
   },
   {
    "duration": 551,
    "start_time": "2023-02-16T18:50:02.639Z"
   },
   {
    "duration": 657,
    "start_time": "2023-02-16T18:50:40.558Z"
   },
   {
    "duration": 11,
    "start_time": "2023-02-16T18:52:30.720Z"
   },
   {
    "duration": 332,
    "start_time": "2023-02-16T18:52:31.223Z"
   },
   {
    "duration": 551,
    "start_time": "2023-02-16T18:54:25.602Z"
   },
   {
    "duration": 511,
    "start_time": "2023-02-16T18:55:15.585Z"
   },
   {
    "duration": 246,
    "start_time": "2023-02-16T18:55:56.039Z"
   },
   {
    "duration": 10,
    "start_time": "2023-02-16T19:00:04.638Z"
   },
   {
    "duration": 43,
    "start_time": "2023-02-16T19:00:50.455Z"
   },
   {
    "duration": 41,
    "start_time": "2023-02-16T19:01:01.185Z"
   },
   {
    "duration": 57,
    "start_time": "2023-02-16T19:01:06.111Z"
   },
   {
    "duration": 21,
    "start_time": "2023-02-16T19:01:16.825Z"
   },
   {
    "duration": 52,
    "start_time": "2023-02-16T19:04:23.485Z"
   },
   {
    "duration": 17,
    "start_time": "2023-02-16T19:05:23.690Z"
   },
   {
    "duration": 805,
    "start_time": "2023-02-16T19:06:49.191Z"
   },
   {
    "duration": 906,
    "start_time": "2023-02-16T19:07:12.468Z"
   },
   {
    "duration": 11,
    "start_time": "2023-02-16T19:07:53.093Z"
   },
   {
    "duration": 12,
    "start_time": "2023-02-16T19:09:35.696Z"
   },
   {
    "duration": 170,
    "start_time": "2023-02-16T19:09:41.428Z"
   },
   {
    "duration": 150,
    "start_time": "2023-02-16T19:11:14.631Z"
   },
   {
    "duration": 133,
    "start_time": "2023-02-16T19:12:42.689Z"
   },
   {
    "duration": 139,
    "start_time": "2023-02-16T19:13:12.784Z"
   },
   {
    "duration": 151,
    "start_time": "2023-02-16T19:13:36.519Z"
   },
   {
    "duration": 177,
    "start_time": "2023-02-16T19:13:50.340Z"
   },
   {
    "duration": 157,
    "start_time": "2023-02-16T19:25:14.281Z"
   },
   {
    "duration": 146,
    "start_time": "2023-02-16T19:25:17.507Z"
   },
   {
    "duration": 13,
    "start_time": "2023-02-16T19:31:52.659Z"
   },
   {
    "duration": 144,
    "start_time": "2023-02-16T19:31:57.855Z"
   },
   {
    "duration": 149,
    "start_time": "2023-02-16T19:32:15.751Z"
   },
   {
    "duration": 179,
    "start_time": "2023-02-16T19:35:47.560Z"
   },
   {
    "duration": 10,
    "start_time": "2023-02-16T19:38:15.897Z"
   },
   {
    "duration": 11,
    "start_time": "2023-02-16T19:39:13.464Z"
   },
   {
    "duration": 11,
    "start_time": "2023-02-16T19:39:50.098Z"
   },
   {
    "duration": 13,
    "start_time": "2023-02-16T19:40:47.070Z"
   },
   {
    "duration": 10,
    "start_time": "2023-02-16T19:42:32.981Z"
   },
   {
    "duration": 13,
    "start_time": "2023-02-16T19:43:30.030Z"
   },
   {
    "duration": 12,
    "start_time": "2023-02-16T19:44:04.472Z"
   },
   {
    "duration": 14,
    "start_time": "2023-02-16T19:44:16.279Z"
   },
   {
    "duration": 10,
    "start_time": "2023-02-16T19:44:33.157Z"
   },
   {
    "duration": 15,
    "start_time": "2023-02-16T19:45:07.839Z"
   },
   {
    "duration": 11,
    "start_time": "2023-02-16T19:45:30.265Z"
   },
   {
    "duration": 15,
    "start_time": "2023-02-16T19:46:45.687Z"
   },
   {
    "duration": 45,
    "start_time": "2023-02-16T19:47:09.280Z"
   },
   {
    "duration": 1576,
    "start_time": "2023-02-17T06:22:31.809Z"
   },
   {
    "duration": 214,
    "start_time": "2023-02-17T06:22:33.388Z"
   },
   {
    "duration": 27,
    "start_time": "2023-02-17T06:22:33.604Z"
   },
   {
    "duration": 19,
    "start_time": "2023-02-17T06:22:33.821Z"
   },
   {
    "duration": 3,
    "start_time": "2023-02-17T06:22:35.527Z"
   },
   {
    "duration": 3,
    "start_time": "2023-02-17T06:22:38.029Z"
   },
   {
    "duration": 3,
    "start_time": "2023-02-17T06:22:38.831Z"
   },
   {
    "duration": 3,
    "start_time": "2023-02-17T06:22:39.796Z"
   },
   {
    "duration": 6,
    "start_time": "2023-02-17T06:22:42.333Z"
   },
   {
    "duration": 8,
    "start_time": "2023-02-17T06:22:43.545Z"
   },
   {
    "duration": 16,
    "start_time": "2023-02-17T06:22:44.232Z"
   },
   {
    "duration": 5,
    "start_time": "2023-02-17T06:22:47.125Z"
   },
   {
    "duration": 6,
    "start_time": "2023-02-17T06:22:48.451Z"
   },
   {
    "duration": 11,
    "start_time": "2023-02-17T06:22:49.721Z"
   },
   {
    "duration": 6,
    "start_time": "2023-02-17T06:22:50.921Z"
   },
   {
    "duration": 7,
    "start_time": "2023-02-17T06:23:06.983Z"
   },
   {
    "duration": 227,
    "start_time": "2023-02-17T06:23:12.327Z"
   },
   {
    "duration": 136,
    "start_time": "2023-02-17T06:23:13.835Z"
   },
   {
    "duration": 329,
    "start_time": "2023-02-17T06:23:16.130Z"
   },
   {
    "duration": 18,
    "start_time": "2023-02-17T06:23:32.149Z"
   },
   {
    "duration": 294,
    "start_time": "2023-02-17T06:24:12.478Z"
   },
   {
    "duration": 13,
    "start_time": "2023-02-17T06:24:13.748Z"
   },
   {
    "duration": 367,
    "start_time": "2023-02-17T06:24:14.920Z"
   },
   {
    "duration": 21,
    "start_time": "2023-02-17T06:24:16.154Z"
   },
   {
    "duration": 4,
    "start_time": "2023-02-17T06:24:37.074Z"
   },
   {
    "duration": 173,
    "start_time": "2023-02-17T06:24:47.031Z"
   },
   {
    "duration": 11,
    "start_time": "2023-02-17T06:24:48.134Z"
   },
   {
    "duration": 435,
    "start_time": "2023-02-17T06:24:49.734Z"
   },
   {
    "duration": 269,
    "start_time": "2023-02-17T06:24:58.466Z"
   },
   {
    "duration": 190,
    "start_time": "2023-02-17T06:24:58.738Z"
   },
   {
    "duration": 189,
    "start_time": "2023-02-17T06:24:58.930Z"
   },
   {
    "duration": 29,
    "start_time": "2023-02-17T06:25:24.027Z"
   },
   {
    "duration": 15,
    "start_time": "2023-02-17T06:25:46.481Z"
   },
   {
    "duration": 15,
    "start_time": "2023-02-17T06:26:26.748Z"
   },
   {
    "duration": 17,
    "start_time": "2023-02-17T06:26:34.554Z"
   },
   {
    "duration": 318,
    "start_time": "2023-02-17T06:26:41.535Z"
   },
   {
    "duration": 390,
    "start_time": "2023-02-17T06:28:04.269Z"
   },
   {
    "duration": 28,
    "start_time": "2023-02-17T06:28:35.453Z"
   },
   {
    "duration": 35,
    "start_time": "2023-02-17T06:28:56.522Z"
   },
   {
    "duration": 25,
    "start_time": "2023-02-17T06:29:15.926Z"
   },
   {
    "duration": 19,
    "start_time": "2023-02-17T06:34:02.232Z"
   },
   {
    "duration": 392,
    "start_time": "2023-02-17T06:34:16.390Z"
   },
   {
    "duration": 343,
    "start_time": "2023-02-17T06:34:33.672Z"
   },
   {
    "duration": 337,
    "start_time": "2023-02-17T06:36:17.896Z"
   },
   {
    "duration": 339,
    "start_time": "2023-02-17T06:36:32.035Z"
   },
   {
    "duration": 335,
    "start_time": "2023-02-17T06:36:38.627Z"
   },
   {
    "duration": 644,
    "start_time": "2023-02-17T06:37:50.179Z"
   },
   {
    "duration": 350,
    "start_time": "2023-02-17T06:40:33.687Z"
   },
   {
    "duration": 24,
    "start_time": "2023-02-17T06:41:39.758Z"
   },
   {
    "duration": 412,
    "start_time": "2023-02-17T06:41:44.648Z"
   },
   {
    "duration": 1475,
    "start_time": "2023-02-17T06:42:46.333Z"
   },
   {
    "duration": 363,
    "start_time": "2023-02-17T06:42:55.257Z"
   },
   {
    "duration": 19,
    "start_time": "2023-02-17T06:44:45.848Z"
   },
   {
    "duration": 18,
    "start_time": "2023-02-17T06:45:37.503Z"
   },
   {
    "duration": 392,
    "start_time": "2023-02-17T06:45:46.099Z"
   },
   {
    "duration": 386,
    "start_time": "2023-02-17T06:47:15.385Z"
   },
   {
    "duration": 370,
    "start_time": "2023-02-17T06:56:01.018Z"
   },
   {
    "duration": 347,
    "start_time": "2023-02-17T06:56:59.073Z"
   },
   {
    "duration": 346,
    "start_time": "2023-02-17T06:57:16.631Z"
   },
   {
    "duration": 356,
    "start_time": "2023-02-17T06:58:06.822Z"
   },
   {
    "duration": 348,
    "start_time": "2023-02-17T06:58:23.946Z"
   },
   {
    "duration": 451,
    "start_time": "2023-02-17T07:15:18.106Z"
   },
   {
    "duration": 370,
    "start_time": "2023-02-17T07:16:49.383Z"
   },
   {
    "duration": 332,
    "start_time": "2023-02-17T07:18:58.626Z"
   },
   {
    "duration": 377,
    "start_time": "2023-02-17T07:20:09.746Z"
   },
   {
    "duration": 383,
    "start_time": "2023-02-17T07:24:14.834Z"
   },
   {
    "duration": 348,
    "start_time": "2023-02-17T07:25:01.767Z"
   },
   {
    "duration": 344,
    "start_time": "2023-02-17T07:31:02.533Z"
   },
   {
    "duration": 72,
    "start_time": "2023-02-17T19:10:54.315Z"
   },
   {
    "duration": 1308,
    "start_time": "2023-02-17T20:40:46.812Z"
   },
   {
    "duration": 104,
    "start_time": "2023-02-17T20:40:48.122Z"
   },
   {
    "duration": 18,
    "start_time": "2023-02-17T20:40:48.228Z"
   },
   {
    "duration": 15,
    "start_time": "2023-02-17T20:40:48.380Z"
   },
   {
    "duration": 2,
    "start_time": "2023-02-17T20:40:49.659Z"
   },
   {
    "duration": 3,
    "start_time": "2023-02-17T20:40:51.427Z"
   },
   {
    "duration": 3,
    "start_time": "2023-02-17T20:40:51.744Z"
   },
   {
    "duration": 3,
    "start_time": "2023-02-17T20:40:52.371Z"
   },
   {
    "duration": 6,
    "start_time": "2023-02-17T20:40:54.576Z"
   },
   {
    "duration": 8,
    "start_time": "2023-02-17T20:40:55.599Z"
   },
   {
    "duration": 14,
    "start_time": "2023-02-17T20:40:56.174Z"
   },
   {
    "duration": 6,
    "start_time": "2023-02-17T20:40:56.812Z"
   },
   {
    "duration": 6,
    "start_time": "2023-02-17T20:40:58.048Z"
   },
   {
    "duration": 7,
    "start_time": "2023-02-17T20:40:58.776Z"
   },
   {
    "duration": 6,
    "start_time": "2023-02-17T20:40:59.781Z"
   },
   {
    "duration": 6,
    "start_time": "2023-02-17T20:41:00.906Z"
   },
   {
    "duration": 168,
    "start_time": "2023-02-17T20:41:01.694Z"
   },
   {
    "duration": 117,
    "start_time": "2023-02-17T20:41:02.219Z"
   },
   {
    "duration": 285,
    "start_time": "2023-02-17T20:41:02.916Z"
   },
   {
    "duration": 12,
    "start_time": "2023-02-17T20:41:04.223Z"
   },
   {
    "duration": 315,
    "start_time": "2023-02-17T20:41:05.154Z"
   },
   {
    "duration": 20,
    "start_time": "2023-02-17T20:41:05.684Z"
   },
   {
    "duration": 5,
    "start_time": "2023-02-17T20:41:11.527Z"
   },
   {
    "duration": 156,
    "start_time": "2023-02-17T20:41:12.376Z"
   },
   {
    "duration": 12,
    "start_time": "2023-02-17T20:41:13.254Z"
   },
   {
    "duration": 320,
    "start_time": "2023-02-17T20:41:13.933Z"
   },
   {
    "duration": 308,
    "start_time": "2023-02-17T20:41:15.771Z"
   },
   {
    "duration": 142,
    "start_time": "2023-02-17T20:41:18.165Z"
   },
   {
    "duration": 144,
    "start_time": "2023-02-17T20:41:19.640Z"
   },
   {
    "duration": 347,
    "start_time": "2023-02-17T20:41:21.990Z"
   },
   {
    "duration": 273,
    "start_time": "2023-02-17T20:41:24.618Z"
   },
   {
    "duration": 292,
    "start_time": "2023-02-17T20:41:25.321Z"
   },
   {
    "duration": 277,
    "start_time": "2023-02-17T20:41:26.863Z"
   },
   {
    "duration": 297,
    "start_time": "2023-02-17T20:41:27.591Z"
   },
   {
    "duration": 286,
    "start_time": "2023-02-17T20:41:29.042Z"
   },
   {
    "duration": 301,
    "start_time": "2023-02-17T20:41:29.681Z"
   },
   {
    "duration": 10,
    "start_time": "2023-02-17T21:00:52.565Z"
   },
   {
    "duration": 5,
    "start_time": "2023-02-17T21:01:24.024Z"
   },
   {
    "duration": 2,
    "start_time": "2023-02-17T21:10:56.473Z"
   },
   {
    "duration": 5,
    "start_time": "2023-02-17T21:20:26.132Z"
   },
   {
    "duration": 4,
    "start_time": "2023-02-17T21:21:07.989Z"
   },
   {
    "duration": 4,
    "start_time": "2023-02-17T21:21:21.766Z"
   },
   {
    "duration": 5,
    "start_time": "2023-02-17T21:22:16.973Z"
   },
   {
    "duration": 0,
    "start_time": "2023-02-17T21:28:45.204Z"
   },
   {
    "duration": 0,
    "start_time": "2023-02-17T21:28:45.206Z"
   },
   {
    "duration": 667,
    "start_time": "2023-02-17T21:31:08.735Z"
   },
   {
    "duration": 10,
    "start_time": "2023-02-17T21:36:44.167Z"
   },
   {
    "duration": 12,
    "start_time": "2023-02-17T21:37:01.497Z"
   },
   {
    "duration": 12,
    "start_time": "2023-02-17T21:37:12.116Z"
   },
   {
    "duration": 691,
    "start_time": "2023-02-17T21:38:04.105Z"
   },
   {
    "duration": 6,
    "start_time": "2023-02-17T21:41:45.446Z"
   },
   {
    "duration": 9,
    "start_time": "2023-02-17T21:43:10.295Z"
   },
   {
    "duration": 8,
    "start_time": "2023-02-17T21:43:19.537Z"
   },
   {
    "duration": 5,
    "start_time": "2023-02-17T21:43:20.772Z"
   },
   {
    "duration": 5,
    "start_time": "2023-02-17T21:56:24.296Z"
   },
   {
    "duration": 11,
    "start_time": "2023-02-17T21:56:42.581Z"
   },
   {
    "duration": 8,
    "start_time": "2023-02-17T22:12:47.871Z"
   },
   {
    "duration": 87,
    "start_time": "2023-02-17T22:12:54.023Z"
   },
   {
    "duration": 79,
    "start_time": "2023-02-17T22:35:04.002Z"
   },
   {
    "duration": 145,
    "start_time": "2023-02-17T22:35:19.197Z"
   },
   {
    "duration": 142,
    "start_time": "2023-02-17T22:36:02.635Z"
   },
   {
    "duration": 151,
    "start_time": "2023-02-17T22:36:29.454Z"
   },
   {
    "duration": 187,
    "start_time": "2023-02-17T22:36:51.170Z"
   },
   {
    "duration": 119,
    "start_time": "2023-02-17T22:37:08.238Z"
   },
   {
    "duration": 152,
    "start_time": "2023-02-17T22:37:38.702Z"
   },
   {
    "duration": 4,
    "start_time": "2023-02-17T22:55:32.360Z"
   },
   {
    "duration": 5,
    "start_time": "2023-02-17T22:55:33.114Z"
   },
   {
    "duration": 6,
    "start_time": "2023-02-17T22:56:09.286Z"
   },
   {
    "duration": 204,
    "start_time": "2023-02-17T22:57:51.707Z"
   },
   {
    "duration": 176,
    "start_time": "2023-02-17T22:58:11.345Z"
   },
   {
    "duration": 179,
    "start_time": "2023-02-17T22:58:49.059Z"
   },
   {
    "duration": 16,
    "start_time": "2023-02-17T22:59:32.615Z"
   },
   {
    "duration": 62,
    "start_time": "2023-02-17T23:08:01.652Z"
   },
   {
    "duration": 25,
    "start_time": "2023-02-17T23:08:10.989Z"
   },
   {
    "duration": 19,
    "start_time": "2023-02-17T23:19:40.332Z"
   },
   {
    "duration": 54,
    "start_time": "2023-02-17T23:30:10.191Z"
   },
   {
    "duration": 225,
    "start_time": "2023-02-17T23:37:44.419Z"
   },
   {
    "duration": 296,
    "start_time": "2023-02-17T23:37:55.637Z"
   },
   {
    "duration": 121,
    "start_time": "2023-02-18T10:00:09.319Z"
   },
   {
    "duration": 86,
    "start_time": "2023-02-18T10:00:21.157Z"
   },
   {
    "duration": 42,
    "start_time": "2023-02-18T10:00:43.130Z"
   },
   {
    "duration": 1389,
    "start_time": "2023-02-18T10:01:03.314Z"
   },
   {
    "duration": 239,
    "start_time": "2023-02-18T10:01:04.710Z"
   },
   {
    "duration": 17,
    "start_time": "2023-02-18T10:01:04.951Z"
   },
   {
    "duration": 14,
    "start_time": "2023-02-18T10:01:04.970Z"
   },
   {
    "duration": 2,
    "start_time": "2023-02-18T10:01:04.985Z"
   },
   {
    "duration": 33,
    "start_time": "2023-02-18T10:01:04.989Z"
   },
   {
    "duration": 4,
    "start_time": "2023-02-18T10:01:05.116Z"
   },
   {
    "duration": 2,
    "start_time": "2023-02-18T10:01:05.285Z"
   },
   {
    "duration": 9,
    "start_time": "2023-02-18T10:01:06.416Z"
   },
   {
    "duration": 14,
    "start_time": "2023-02-18T10:01:06.807Z"
   },
   {
    "duration": 17,
    "start_time": "2023-02-18T10:01:07.236Z"
   },
   {
    "duration": 6,
    "start_time": "2023-02-18T10:01:07.471Z"
   },
   {
    "duration": 6,
    "start_time": "2023-02-18T10:01:07.653Z"
   },
   {
    "duration": 7,
    "start_time": "2023-02-18T10:01:08.363Z"
   },
   {
    "duration": 211,
    "start_time": "2023-02-18T10:01:08.629Z"
   },
   {
    "duration": 302,
    "start_time": "2023-02-18T10:01:09.251Z"
   },
   {
    "duration": 19,
    "start_time": "2023-02-18T10:01:10.877Z"
   },
   {
    "duration": 384,
    "start_time": "2023-02-18T10:01:11.170Z"
   },
   {
    "duration": 1431,
    "start_time": "2023-02-18T10:01:11.665Z"
   },
   {
    "duration": 0,
    "start_time": "2023-02-18T10:01:13.098Z"
   },
   {
    "duration": 9,
    "start_time": "2023-02-18T10:01:13.214Z"
   },
   {
    "duration": 9,
    "start_time": "2023-02-18T10:01:15.328Z"
   },
   {
    "duration": 19,
    "start_time": "2023-02-18T10:01:16.015Z"
   },
   {
    "duration": 4,
    "start_time": "2023-02-18T10:01:30.933Z"
   },
   {
    "duration": 186,
    "start_time": "2023-02-18T10:01:32.877Z"
   },
   {
    "duration": 12,
    "start_time": "2023-02-18T10:01:34.672Z"
   },
   {
    "duration": 380,
    "start_time": "2023-02-18T10:01:35.616Z"
   },
   {
    "duration": 358,
    "start_time": "2023-02-18T10:01:40.288Z"
   },
   {
    "duration": 172,
    "start_time": "2023-02-18T10:01:43.632Z"
   },
   {
    "duration": 33,
    "start_time": "2023-02-18T10:02:35.609Z"
   },
   {
    "duration": 19,
    "start_time": "2023-02-18T10:02:56.262Z"
   },
   {
    "duration": 18,
    "start_time": "2023-02-18T10:05:03.629Z"
   },
   {
    "duration": 21,
    "start_time": "2023-02-18T10:05:22.459Z"
   },
   {
    "duration": 1327,
    "start_time": "2023-02-18T15:26:59.458Z"
   },
   {
    "duration": 122,
    "start_time": "2023-02-18T15:27:00.787Z"
   },
   {
    "duration": 19,
    "start_time": "2023-02-18T15:27:00.910Z"
   },
   {
    "duration": 31,
    "start_time": "2023-02-18T15:27:00.931Z"
   },
   {
    "duration": 12,
    "start_time": "2023-02-18T15:27:00.963Z"
   },
   {
    "duration": 3,
    "start_time": "2023-02-18T15:27:01.070Z"
   },
   {
    "duration": 3,
    "start_time": "2023-02-18T15:27:01.602Z"
   },
   {
    "duration": 5,
    "start_time": "2023-02-18T15:27:03.776Z"
   },
   {
    "duration": 7,
    "start_time": "2023-02-18T15:27:04.697Z"
   },
   {
    "duration": 15,
    "start_time": "2023-02-18T15:27:05.155Z"
   },
   {
    "duration": 5,
    "start_time": "2023-02-18T15:27:06.532Z"
   },
   {
    "duration": 6,
    "start_time": "2023-02-18T15:27:07.032Z"
   },
   {
    "duration": 8,
    "start_time": "2023-02-18T15:27:08.348Z"
   },
   {
    "duration": 211,
    "start_time": "2023-02-18T15:27:09.827Z"
   },
   {
    "duration": 287,
    "start_time": "2023-02-18T15:27:15.284Z"
   },
   {
    "duration": 16,
    "start_time": "2023-02-18T15:27:18.555Z"
   },
   {
    "duration": 352,
    "start_time": "2023-02-18T15:27:19.758Z"
   },
   {
    "duration": 26,
    "start_time": "2023-02-18T15:27:20.527Z"
   },
   {
    "duration": 110,
    "start_time": "2023-02-18T15:28:53.661Z"
   },
   {
    "duration": 24,
    "start_time": "2023-02-18T15:46:38.915Z"
   },
   {
    "duration": 24,
    "start_time": "2023-02-18T15:47:23.556Z"
   },
   {
    "duration": 32,
    "start_time": "2023-02-18T15:47:49.124Z"
   },
   {
    "duration": 22,
    "start_time": "2023-02-18T15:51:32.966Z"
   },
   {
    "duration": 33,
    "start_time": "2023-02-18T15:54:12.408Z"
   },
   {
    "duration": 24,
    "start_time": "2023-02-18T15:54:50.896Z"
   },
   {
    "duration": 33,
    "start_time": "2023-02-18T15:55:48.926Z"
   },
   {
    "duration": 32,
    "start_time": "2023-02-18T17:54:49.413Z"
   },
   {
    "duration": 13,
    "start_time": "2023-02-18T18:08:45.598Z"
   },
   {
    "duration": 10,
    "start_time": "2023-02-18T18:08:51.166Z"
   },
   {
    "duration": 3,
    "start_time": "2023-02-18T18:08:59.991Z"
   },
   {
    "duration": 56,
    "start_time": "2023-02-18T18:09:00.179Z"
   },
   {
    "duration": 20,
    "start_time": "2023-02-18T18:09:00.379Z"
   },
   {
    "duration": 13,
    "start_time": "2023-02-18T18:09:00.540Z"
   },
   {
    "duration": 3,
    "start_time": "2023-02-18T18:09:01.136Z"
   },
   {
    "duration": 3,
    "start_time": "2023-02-18T18:09:01.334Z"
   },
   {
    "duration": 2,
    "start_time": "2023-02-18T18:09:01.509Z"
   },
   {
    "duration": 6,
    "start_time": "2023-02-18T18:09:02.437Z"
   },
   {
    "duration": 10,
    "start_time": "2023-02-18T18:09:02.795Z"
   },
   {
    "duration": 13,
    "start_time": "2023-02-18T18:09:02.966Z"
   },
   {
    "duration": 5,
    "start_time": "2023-02-18T18:09:03.328Z"
   },
   {
    "duration": 5,
    "start_time": "2023-02-18T18:09:03.524Z"
   },
   {
    "duration": 6,
    "start_time": "2023-02-18T18:09:05.177Z"
   },
   {
    "duration": 212,
    "start_time": "2023-02-18T18:09:05.940Z"
   },
   {
    "duration": 253,
    "start_time": "2023-02-18T18:09:07.364Z"
   },
   {
    "duration": 12,
    "start_time": "2023-02-18T18:09:09.399Z"
   },
   {
    "duration": 401,
    "start_time": "2023-02-18T18:09:10.369Z"
   },
   {
    "duration": 24,
    "start_time": "2023-02-18T18:09:11.096Z"
   },
   {
    "duration": 32,
    "start_time": "2023-02-18T18:09:29.306Z"
   },
   {
    "duration": 4,
    "start_time": "2023-02-18T18:09:30.978Z"
   },
   {
    "duration": 159,
    "start_time": "2023-02-18T18:09:31.620Z"
   },
   {
    "duration": 12,
    "start_time": "2023-02-18T18:09:33.129Z"
   },
   {
    "duration": 275,
    "start_time": "2023-02-18T18:09:34.072Z"
   },
   {
    "duration": 279,
    "start_time": "2023-02-18T18:11:00.966Z"
   },
   {
    "duration": 215,
    "start_time": "2023-02-18T18:11:47.101Z"
   },
   {
    "duration": 220,
    "start_time": "2023-02-18T18:12:01.790Z"
   },
   {
    "duration": 223,
    "start_time": "2023-02-18T18:12:26.731Z"
   },
   {
    "duration": 196,
    "start_time": "2023-02-18T18:12:58.672Z"
   },
   {
    "duration": 230,
    "start_time": "2023-02-18T18:13:09.773Z"
   },
   {
    "duration": 383,
    "start_time": "2023-02-18T18:13:16.559Z"
   },
   {
    "duration": 230,
    "start_time": "2023-02-18T18:13:26.018Z"
   },
   {
    "duration": 221,
    "start_time": "2023-02-18T18:13:49.128Z"
   },
   {
    "duration": 1183,
    "start_time": "2023-02-19T06:27:41.426Z"
   },
   {
    "duration": 54,
    "start_time": "2023-02-19T06:27:42.611Z"
   },
   {
    "duration": 18,
    "start_time": "2023-02-19T06:27:42.667Z"
   },
   {
    "duration": 14,
    "start_time": "2023-02-19T06:27:42.687Z"
   },
   {
    "duration": 4,
    "start_time": "2023-02-19T06:27:42.702Z"
   },
   {
    "duration": 5,
    "start_time": "2023-02-19T06:27:42.707Z"
   },
   {
    "duration": 7,
    "start_time": "2023-02-19T06:27:42.714Z"
   },
   {
    "duration": 7,
    "start_time": "2023-02-19T06:27:42.723Z"
   },
   {
    "duration": 8,
    "start_time": "2023-02-19T06:27:42.731Z"
   },
   {
    "duration": 16,
    "start_time": "2023-02-19T06:27:42.741Z"
   },
   {
    "duration": 35,
    "start_time": "2023-02-19T06:27:42.759Z"
   },
   {
    "duration": 8,
    "start_time": "2023-02-19T06:27:42.796Z"
   },
   {
    "duration": 9,
    "start_time": "2023-02-19T06:27:42.805Z"
   },
   {
    "duration": 227,
    "start_time": "2023-02-19T06:27:42.815Z"
   },
   {
    "duration": 300,
    "start_time": "2023-02-19T06:27:43.044Z"
   },
   {
    "duration": 13,
    "start_time": "2023-02-19T06:27:43.345Z"
   },
   {
    "duration": 424,
    "start_time": "2023-02-19T06:27:43.360Z"
   },
   {
    "duration": 33,
    "start_time": "2023-02-19T06:27:43.787Z"
   },
   {
    "duration": 4,
    "start_time": "2023-02-19T06:27:43.822Z"
   },
   {
    "duration": 234,
    "start_time": "2023-02-19T06:27:43.828Z"
   },
   {
    "duration": 12,
    "start_time": "2023-02-19T06:27:44.064Z"
   },
   {
    "duration": 267,
    "start_time": "2023-02-19T06:27:44.078Z"
   },
   {
    "duration": 326,
    "start_time": "2023-02-19T06:27:44.347Z"
   },
   {
    "duration": 173,
    "start_time": "2023-02-19T06:27:44.674Z"
   },
   {
    "duration": 182,
    "start_time": "2023-02-19T06:27:44.849Z"
   },
   {
    "duration": 393,
    "start_time": "2023-02-19T06:27:45.033Z"
   },
   {
    "duration": 351,
    "start_time": "2023-02-19T06:27:45.428Z"
   },
   {
    "duration": 417,
    "start_time": "2023-02-19T06:27:45.782Z"
   },
   {
    "duration": 362,
    "start_time": "2023-02-19T06:27:46.201Z"
   },
   {
    "duration": 351,
    "start_time": "2023-02-19T06:27:46.565Z"
   },
   {
    "duration": 357,
    "start_time": "2023-02-19T06:27:46.917Z"
   },
   {
    "duration": 364,
    "start_time": "2023-02-19T06:27:47.276Z"
   },
   {
    "duration": 6,
    "start_time": "2023-02-19T06:27:47.642Z"
   },
   {
    "duration": 177,
    "start_time": "2023-02-19T06:27:47.650Z"
   },
   {
    "duration": 13,
    "start_time": "2023-02-19T06:27:47.829Z"
   },
   {
    "duration": 9,
    "start_time": "2023-02-19T06:27:47.844Z"
   },
   {
    "duration": 6,
    "start_time": "2023-02-19T06:27:47.855Z"
   },
   {
    "duration": 428,
    "start_time": "2023-02-19T06:39:07.716Z"
   },
   {
    "duration": 221,
    "start_time": "2023-02-19T06:42:19.884Z"
   },
   {
    "duration": 199,
    "start_time": "2023-02-19T06:48:59.215Z"
   },
   {
    "duration": 175,
    "start_time": "2023-02-19T06:49:04.285Z"
   },
   {
    "duration": 1128,
    "start_time": "2023-02-19T06:52:08.194Z"
   },
   {
    "duration": 49,
    "start_time": "2023-02-19T06:52:09.324Z"
   },
   {
    "duration": 17,
    "start_time": "2023-02-19T06:52:09.374Z"
   },
   {
    "duration": 31,
    "start_time": "2023-02-19T06:52:09.396Z"
   },
   {
    "duration": 4,
    "start_time": "2023-02-19T06:52:09.428Z"
   },
   {
    "duration": 9,
    "start_time": "2023-02-19T06:52:09.434Z"
   },
   {
    "duration": 6,
    "start_time": "2023-02-19T06:52:09.444Z"
   },
   {
    "duration": 10,
    "start_time": "2023-02-19T06:52:09.452Z"
   },
   {
    "duration": 10,
    "start_time": "2023-02-19T06:52:09.463Z"
   },
   {
    "duration": 32,
    "start_time": "2023-02-19T06:52:09.475Z"
   },
   {
    "duration": 15,
    "start_time": "2023-02-19T06:52:09.509Z"
   },
   {
    "duration": 10,
    "start_time": "2023-02-19T06:52:09.525Z"
   },
   {
    "duration": 17,
    "start_time": "2023-02-19T06:52:09.536Z"
   },
   {
    "duration": 234,
    "start_time": "2023-02-19T06:52:09.555Z"
   },
   {
    "duration": 301,
    "start_time": "2023-02-19T06:52:09.794Z"
   },
   {
    "duration": 20,
    "start_time": "2023-02-19T06:52:10.102Z"
   },
   {
    "duration": 392,
    "start_time": "2023-02-19T06:52:10.124Z"
   },
   {
    "duration": 25,
    "start_time": "2023-02-19T06:52:10.517Z"
   },
   {
    "duration": 11,
    "start_time": "2023-02-19T06:52:10.543Z"
   },
   {
    "duration": 216,
    "start_time": "2023-02-19T06:52:10.555Z"
   },
   {
    "duration": 22,
    "start_time": "2023-02-19T06:52:10.773Z"
   },
   {
    "duration": 276,
    "start_time": "2023-02-19T06:52:10.796Z"
   },
   {
    "duration": 292,
    "start_time": "2023-02-19T06:52:11.074Z"
   },
   {
    "duration": 449,
    "start_time": "2023-02-19T06:52:11.368Z"
   },
   {
    "duration": 175,
    "start_time": "2023-02-19T06:52:11.818Z"
   },
   {
    "duration": 215,
    "start_time": "2023-02-19T06:52:11.998Z"
   },
   {
    "duration": 163,
    "start_time": "2023-02-19T06:52:12.215Z"
   },
   {
    "duration": 377,
    "start_time": "2023-02-19T06:52:12.381Z"
   },
   {
    "duration": 364,
    "start_time": "2023-02-19T06:52:12.759Z"
   },
   {
    "duration": 381,
    "start_time": "2023-02-19T06:52:13.125Z"
   },
   {
    "duration": 361,
    "start_time": "2023-02-19T06:52:13.508Z"
   },
   {
    "duration": 370,
    "start_time": "2023-02-19T06:52:13.870Z"
   },
   {
    "duration": 343,
    "start_time": "2023-02-19T06:52:14.242Z"
   },
   {
    "duration": 477,
    "start_time": "2023-02-19T06:52:14.587Z"
   },
   {
    "duration": 6,
    "start_time": "2023-02-19T06:52:15.066Z"
   },
   {
    "duration": 200,
    "start_time": "2023-02-19T06:52:15.074Z"
   },
   {
    "duration": 24,
    "start_time": "2023-02-19T06:52:15.277Z"
   },
   {
    "duration": 21,
    "start_time": "2023-02-19T06:52:15.303Z"
   },
   {
    "duration": 11,
    "start_time": "2023-02-19T06:52:15.326Z"
   },
   {
    "duration": 1380,
    "start_time": "2023-02-20T09:42:44.317Z"
   },
   {
    "duration": 101,
    "start_time": "2023-02-20T09:42:45.699Z"
   },
   {
    "duration": 25,
    "start_time": "2023-02-20T09:42:45.801Z"
   },
   {
    "duration": 19,
    "start_time": "2023-02-20T09:42:47.022Z"
   },
   {
    "duration": 3,
    "start_time": "2023-02-20T09:42:49.699Z"
   },
   {
    "duration": 3,
    "start_time": "2023-02-20T09:42:50.322Z"
   },
   {
    "duration": 3,
    "start_time": "2023-02-20T09:42:51.184Z"
   },
   {
    "duration": 2,
    "start_time": "2023-02-20T09:42:53.878Z"
   },
   {
    "duration": 6,
    "start_time": "2023-02-20T09:43:04.789Z"
   },
   {
    "duration": 7,
    "start_time": "2023-02-20T09:43:54.428Z"
   },
   {
    "duration": 102,
    "start_time": "2023-02-20T09:57:12.435Z"
   },
   {
    "duration": 9,
    "start_time": "2023-02-20T09:57:45.838Z"
   },
   {
    "duration": 9,
    "start_time": "2023-02-20T10:02:20.211Z"
   },
   {
    "duration": 9,
    "start_time": "2023-02-20T10:02:28.947Z"
   },
   {
    "duration": 43,
    "start_time": "2023-02-20T10:02:41.316Z"
   },
   {
    "duration": 8,
    "start_time": "2023-02-20T10:03:02.321Z"
   },
   {
    "duration": 9,
    "start_time": "2023-02-20T10:23:03.578Z"
   },
   {
    "duration": 9,
    "start_time": "2023-02-20T10:32:06.151Z"
   },
   {
    "duration": 9,
    "start_time": "2023-02-20T10:32:14.526Z"
   },
   {
    "duration": 9,
    "start_time": "2023-02-20T10:34:58.850Z"
   },
   {
    "duration": 9,
    "start_time": "2023-02-20T10:36:30.781Z"
   },
   {
    "duration": 9,
    "start_time": "2023-02-20T10:37:06.025Z"
   },
   {
    "duration": 10,
    "start_time": "2023-02-20T10:37:12.804Z"
   },
   {
    "duration": 9,
    "start_time": "2023-02-20T10:37:19.272Z"
   },
   {
    "duration": 9,
    "start_time": "2023-02-20T10:37:34.962Z"
   },
   {
    "duration": 9,
    "start_time": "2023-02-20T10:37:57.163Z"
   },
   {
    "duration": 68,
    "start_time": "2023-02-20T10:38:34.957Z"
   },
   {
    "duration": 12,
    "start_time": "2023-02-20T10:38:44.173Z"
   },
   {
    "duration": 10,
    "start_time": "2023-02-20T10:38:52.667Z"
   },
   {
    "duration": 10,
    "start_time": "2023-02-20T10:39:36.911Z"
   },
   {
    "duration": 10,
    "start_time": "2023-02-20T10:39:51.823Z"
   },
   {
    "duration": 10,
    "start_time": "2023-02-20T10:40:04.313Z"
   },
   {
    "duration": 3,
    "start_time": "2023-02-20T10:40:18.966Z"
   },
   {
    "duration": 51,
    "start_time": "2023-02-20T10:40:19.421Z"
   },
   {
    "duration": 15,
    "start_time": "2023-02-20T10:40:19.900Z"
   },
   {
    "duration": 16,
    "start_time": "2023-02-20T10:40:20.386Z"
   },
   {
    "duration": 3,
    "start_time": "2023-02-20T10:40:22.752Z"
   },
   {
    "duration": 3,
    "start_time": "2023-02-20T10:40:23.375Z"
   },
   {
    "duration": 5,
    "start_time": "2023-02-20T10:40:23.993Z"
   },
   {
    "duration": 6,
    "start_time": "2023-02-20T10:40:26.807Z"
   },
   {
    "duration": 14,
    "start_time": "2023-02-20T10:40:37.361Z"
   },
   {
    "duration": 9,
    "start_time": "2023-02-20T10:40:42.389Z"
   },
   {
    "duration": 9,
    "start_time": "2023-02-20T10:40:48.702Z"
   },
   {
    "duration": 10,
    "start_time": "2023-02-20T10:42:43.186Z"
   },
   {
    "duration": 12,
    "start_time": "2023-02-20T10:42:47.953Z"
   },
   {
    "duration": 12,
    "start_time": "2023-02-20T10:42:54.708Z"
   },
   {
    "duration": 9,
    "start_time": "2023-02-20T10:43:13.615Z"
   },
   {
    "duration": 11,
    "start_time": "2023-02-20T10:44:59.084Z"
   },
   {
    "duration": 9,
    "start_time": "2023-02-20T10:45:35.123Z"
   },
   {
    "duration": 9,
    "start_time": "2023-02-20T10:45:35.875Z"
   },
   {
    "duration": 10,
    "start_time": "2023-02-20T10:45:55.129Z"
   },
   {
    "duration": 11,
    "start_time": "2023-02-20T10:45:55.824Z"
   },
   {
    "duration": 3,
    "start_time": "2023-02-20T10:46:03.923Z"
   },
   {
    "duration": 10,
    "start_time": "2023-02-20T10:46:04.527Z"
   },
   {
    "duration": 11,
    "start_time": "2023-02-20T10:48:07.248Z"
   },
   {
    "duration": 9,
    "start_time": "2023-02-20T10:49:39.956Z"
   },
   {
    "duration": 3,
    "start_time": "2023-02-20T10:52:09.861Z"
   },
   {
    "duration": 9,
    "start_time": "2023-02-20T10:52:10.335Z"
   },
   {
    "duration": 9,
    "start_time": "2023-02-20T10:52:14.884Z"
   },
   {
    "duration": 8,
    "start_time": "2023-02-20T10:52:20.898Z"
   },
   {
    "duration": 8,
    "start_time": "2023-02-20T10:52:31.329Z"
   },
   {
    "duration": 9,
    "start_time": "2023-02-20T10:52:41.509Z"
   },
   {
    "duration": 9,
    "start_time": "2023-02-20T10:54:33.488Z"
   },
   {
    "duration": 9,
    "start_time": "2023-02-20T10:54:34.824Z"
   },
   {
    "duration": 8,
    "start_time": "2023-02-20T10:54:35.328Z"
   },
   {
    "duration": 2,
    "start_time": "2023-02-20T10:54:37.481Z"
   },
   {
    "duration": 11,
    "start_time": "2023-02-20T10:54:38.633Z"
   },
   {
    "duration": 9,
    "start_time": "2023-02-20T10:55:22.350Z"
   },
   {
    "duration": 2,
    "start_time": "2023-02-20T10:56:46.559Z"
   },
   {
    "duration": 8,
    "start_time": "2023-02-20T10:57:12.415Z"
   },
   {
    "duration": 10,
    "start_time": "2023-02-20T10:57:23.335Z"
   },
   {
    "duration": 9,
    "start_time": "2023-02-20T10:57:52.701Z"
   },
   {
    "duration": 9,
    "start_time": "2023-02-20T10:58:09.187Z"
   },
   {
    "duration": 9,
    "start_time": "2023-02-20T10:58:09.609Z"
   },
   {
    "duration": 3,
    "start_time": "2023-02-20T10:58:18.268Z"
   },
   {
    "duration": 51,
    "start_time": "2023-02-20T10:58:18.682Z"
   },
   {
    "duration": 16,
    "start_time": "2023-02-20T10:58:19.217Z"
   },
   {
    "duration": 13,
    "start_time": "2023-02-20T10:58:19.692Z"
   },
   {
    "duration": 4,
    "start_time": "2023-02-20T10:58:21.719Z"
   },
   {
    "duration": 3,
    "start_time": "2023-02-20T10:58:22.392Z"
   },
   {
    "duration": 7,
    "start_time": "2023-02-20T10:58:23.020Z"
   },
   {
    "duration": 2,
    "start_time": "2023-02-20T10:58:25.863Z"
   },
   {
    "duration": 5,
    "start_time": "2023-02-20T10:58:26.425Z"
   },
   {
    "duration": 12,
    "start_time": "2023-02-20T10:58:34.273Z"
   },
   {
    "duration": 10,
    "start_time": "2023-02-20T10:58:48.109Z"
   },
   {
    "duration": 8,
    "start_time": "2023-02-20T10:58:52.792Z"
   },
   {
    "duration": 2,
    "start_time": "2023-02-20T10:59:00.134Z"
   },
   {
    "duration": 9,
    "start_time": "2023-02-20T10:59:00.875Z"
   },
   {
    "duration": 8,
    "start_time": "2023-02-20T10:59:04.695Z"
   },
   {
    "duration": 9,
    "start_time": "2023-02-20T10:59:05.010Z"
   },
   {
    "duration": 10,
    "start_time": "2023-02-20T10:59:05.357Z"
   },
   {
    "duration": 3,
    "start_time": "2023-02-20T10:59:11.297Z"
   },
   {
    "duration": 48,
    "start_time": "2023-02-20T10:59:11.480Z"
   },
   {
    "duration": 14,
    "start_time": "2023-02-20T10:59:11.671Z"
   },
   {
    "duration": 14,
    "start_time": "2023-02-20T10:59:11.829Z"
   },
   {
    "duration": 4,
    "start_time": "2023-02-20T10:59:12.589Z"
   },
   {
    "duration": 3,
    "start_time": "2023-02-20T10:59:12.786Z"
   },
   {
    "duration": 5,
    "start_time": "2023-02-20T10:59:13.089Z"
   },
   {
    "duration": 3,
    "start_time": "2023-02-20T10:59:14.147Z"
   },
   {
    "duration": 7,
    "start_time": "2023-02-20T10:59:14.335Z"
   },
   {
    "duration": 7,
    "start_time": "2023-02-20T10:59:15.297Z"
   },
   {
    "duration": 16,
    "start_time": "2023-02-20T10:59:15.561Z"
   },
   {
    "duration": 2,
    "start_time": "2023-02-20T10:59:16.297Z"
   },
   {
    "duration": 7,
    "start_time": "2023-02-20T10:59:16.672Z"
   },
   {
    "duration": 214,
    "start_time": "2023-02-20T11:07:39.691Z"
   },
   {
    "duration": 211,
    "start_time": "2023-02-20T11:07:45.732Z"
   },
   {
    "duration": 220,
    "start_time": "2023-02-20T11:09:14.372Z"
   },
   {
    "duration": 5,
    "start_time": "2023-02-20T11:12:17.595Z"
   },
   {
    "duration": 188,
    "start_time": "2023-02-20T11:12:19.480Z"
   },
   {
    "duration": 12,
    "start_time": "2023-02-20T11:13:42.769Z"
   },
   {
    "duration": 5,
    "start_time": "2023-02-20T11:13:51.125Z"
   },
   {
    "duration": 181,
    "start_time": "2023-02-20T11:13:56.493Z"
   },
   {
    "duration": 10,
    "start_time": "2023-02-20T11:13:58.094Z"
   },
   {
    "duration": 230,
    "start_time": "2023-02-20T11:14:02.438Z"
   },
   {
    "duration": 223,
    "start_time": "2023-02-20T11:14:19.252Z"
   },
   {
    "duration": 390,
    "start_time": "2023-02-20T11:14:50.054Z"
   },
   {
    "duration": 375,
    "start_time": "2023-02-20T11:14:59.111Z"
   },
   {
    "duration": 280,
    "start_time": "2023-02-20T11:15:02.323Z"
   },
   {
    "duration": 10,
    "start_time": "2023-02-20T11:16:20.754Z"
   },
   {
    "duration": 22,
    "start_time": "2023-02-20T11:16:22.238Z"
   },
   {
    "duration": 5,
    "start_time": "2023-02-20T11:17:00.388Z"
   },
   {
    "duration": 188,
    "start_time": "2023-02-20T11:17:02.353Z"
   },
   {
    "duration": 253,
    "start_time": "2023-02-20T11:19:46.453Z"
   },
   {
    "duration": 233,
    "start_time": "2023-02-20T11:20:28.108Z"
   },
   {
    "duration": 269,
    "start_time": "2023-02-20T11:21:17.616Z"
   },
   {
    "duration": 225,
    "start_time": "2023-02-20T11:22:01.953Z"
   },
   {
    "duration": 224,
    "start_time": "2023-02-20T11:23:31.569Z"
   },
   {
    "duration": 330,
    "start_time": "2023-02-20T11:26:57.195Z"
   },
   {
    "duration": 172,
    "start_time": "2023-02-20T11:27:08.659Z"
   },
   {
    "duration": 148,
    "start_time": "2023-02-20T11:29:44.776Z"
   },
   {
    "duration": 152,
    "start_time": "2023-02-20T11:30:11.034Z"
   },
   {
    "duration": 718,
    "start_time": "2023-02-20T11:32:29.703Z"
   },
   {
    "duration": 701,
    "start_time": "2023-02-20T11:33:08.031Z"
   },
   {
    "duration": 191,
    "start_time": "2023-02-20T11:34:52.666Z"
   },
   {
    "duration": 7,
    "start_time": "2023-02-20T11:35:26.683Z"
   },
   {
    "duration": 243,
    "start_time": "2023-02-20T11:35:27.121Z"
   },
   {
    "duration": 221,
    "start_time": "2023-02-20T11:35:29.422Z"
   },
   {
    "duration": 418,
    "start_time": "2023-02-20T11:35:31.771Z"
   },
   {
    "duration": 159,
    "start_time": "2023-02-20T11:35:33.866Z"
   },
   {
    "duration": 185,
    "start_time": "2023-02-20T11:35:36.282Z"
   },
   {
    "duration": 735,
    "start_time": "2023-02-20T11:35:38.056Z"
   },
   {
    "duration": 166,
    "start_time": "2023-02-20T11:36:15.928Z"
   },
   {
    "duration": 905,
    "start_time": "2023-02-20T11:36:31.817Z"
   },
   {
    "duration": 870,
    "start_time": "2023-02-20T11:36:44.737Z"
   },
   {
    "duration": 158,
    "start_time": "2023-02-20T11:37:06.985Z"
   },
   {
    "duration": 149,
    "start_time": "2023-02-20T11:37:30.868Z"
   },
   {
    "duration": 714,
    "start_time": "2023-02-20T11:37:55.658Z"
   },
   {
    "duration": 152,
    "start_time": "2023-02-20T11:38:11.423Z"
   },
   {
    "duration": 5,
    "start_time": "2023-02-20T11:39:15.257Z"
   },
   {
    "duration": 46,
    "start_time": "2023-02-20T11:39:15.706Z"
   },
   {
    "duration": 16,
    "start_time": "2023-02-20T11:39:16.154Z"
   },
   {
    "duration": 14,
    "start_time": "2023-02-20T11:39:16.525Z"
   },
   {
    "duration": 3,
    "start_time": "2023-02-20T11:39:18.498Z"
   },
   {
    "duration": 4,
    "start_time": "2023-02-20T11:39:18.992Z"
   },
   {
    "duration": 6,
    "start_time": "2023-02-20T11:39:19.562Z"
   },
   {
    "duration": 2,
    "start_time": "2023-02-20T11:39:24.688Z"
   },
   {
    "duration": 11,
    "start_time": "2023-02-20T11:39:29.554Z"
   },
   {
    "duration": 3,
    "start_time": "2023-02-20T11:39:35.652Z"
   },
   {
    "duration": 7,
    "start_time": "2023-02-20T11:39:45.721Z"
   },
   {
    "duration": 6,
    "start_time": "2023-02-20T11:40:41.724Z"
   },
   {
    "duration": 9,
    "start_time": "2023-02-20T11:40:58.556Z"
   },
   {
    "duration": 9,
    "start_time": "2023-02-20T11:43:40.206Z"
   },
   {
    "duration": 3,
    "start_time": "2023-02-20T11:43:47.086Z"
   },
   {
    "duration": 46,
    "start_time": "2023-02-20T11:43:47.300Z"
   },
   {
    "duration": 15,
    "start_time": "2023-02-20T11:43:47.539Z"
   },
   {
    "duration": 15,
    "start_time": "2023-02-20T11:43:47.906Z"
   },
   {
    "duration": 3,
    "start_time": "2023-02-20T11:43:48.861Z"
   },
   {
    "duration": 4,
    "start_time": "2023-02-20T11:43:49.091Z"
   },
   {
    "duration": 6,
    "start_time": "2023-02-20T11:43:49.317Z"
   },
   {
    "duration": 2,
    "start_time": "2023-02-20T11:43:51.278Z"
   },
   {
    "duration": 6,
    "start_time": "2023-02-20T11:43:51.612Z"
   },
   {
    "duration": 10,
    "start_time": "2023-02-20T11:43:54.327Z"
   },
   {
    "duration": 16,
    "start_time": "2023-02-20T11:43:54.562Z"
   },
   {
    "duration": 2,
    "start_time": "2023-02-20T11:43:54.955Z"
   },
   {
    "duration": 4,
    "start_time": "2023-02-20T11:43:55.141Z"
   },
   {
    "duration": 6,
    "start_time": "2023-02-20T11:44:38.328Z"
   },
   {
    "duration": 208,
    "start_time": "2023-02-20T11:44:40.629Z"
   },
   {
    "duration": 344,
    "start_time": "2023-02-20T11:44:44.138Z"
   },
   {
    "duration": 9,
    "start_time": "2023-02-20T11:57:48.845Z"
   },
   {
    "duration": 9,
    "start_time": "2023-02-20T12:01:19.807Z"
   },
   {
    "duration": 8,
    "start_time": "2023-02-20T12:03:21.538Z"
   },
   {
    "duration": 8,
    "start_time": "2023-02-20T12:04:10.953Z"
   },
   {
    "duration": 9,
    "start_time": "2023-02-20T12:04:16.777Z"
   },
   {
    "duration": 3,
    "start_time": "2023-02-20T12:04:23.868Z"
   },
   {
    "duration": 51,
    "start_time": "2023-02-20T12:04:24.215Z"
   },
   {
    "duration": 16,
    "start_time": "2023-02-20T12:04:24.549Z"
   },
   {
    "duration": 15,
    "start_time": "2023-02-20T12:04:24.917Z"
   },
   {
    "duration": 4,
    "start_time": "2023-02-20T12:04:27.119Z"
   },
   {
    "duration": 3,
    "start_time": "2023-02-20T12:04:27.685Z"
   },
   {
    "duration": 5,
    "start_time": "2023-02-20T12:04:28.237Z"
   },
   {
    "duration": 3,
    "start_time": "2023-02-20T12:04:30.444Z"
   },
   {
    "duration": 19,
    "start_time": "2023-02-20T12:04:30.946Z"
   },
   {
    "duration": 6,
    "start_time": "2023-02-20T12:05:24.852Z"
   },
   {
    "duration": 5,
    "start_time": "2023-02-20T12:05:29.228Z"
   },
   {
    "duration": 7,
    "start_time": "2023-02-20T12:05:50.262Z"
   },
   {
    "duration": 19,
    "start_time": "2023-02-20T12:34:12.800Z"
   },
   {
    "duration": 1007,
    "start_time": "2023-02-20T12:51:21.367Z"
   },
   {
    "duration": 14,
    "start_time": "2023-02-20T12:52:08.260Z"
   },
   {
    "duration": 13,
    "start_time": "2023-02-20T12:54:39.554Z"
   },
   {
    "duration": 200,
    "start_time": "2023-02-20T12:54:53.149Z"
   },
   {
    "duration": 13,
    "start_time": "2023-02-20T12:55:15.614Z"
   },
   {
    "duration": 817,
    "start_time": "2023-02-20T12:56:18.212Z"
   },
   {
    "duration": 31,
    "start_time": "2023-02-20T13:02:49.564Z"
   },
   {
    "duration": 46,
    "start_time": "2023-02-20T18:24:09.369Z"
   },
   {
    "duration": 1306,
    "start_time": "2023-02-20T18:24:37.455Z"
   },
   {
    "duration": 92,
    "start_time": "2023-02-20T18:24:38.763Z"
   },
   {
    "duration": 22,
    "start_time": "2023-02-20T18:24:38.856Z"
   },
   {
    "duration": 18,
    "start_time": "2023-02-20T18:24:38.880Z"
   },
   {
    "duration": 4,
    "start_time": "2023-02-20T18:24:39.149Z"
   },
   {
    "duration": 3,
    "start_time": "2023-02-20T18:24:39.562Z"
   },
   {
    "duration": 5,
    "start_time": "2023-02-20T18:24:39.918Z"
   },
   {
    "duration": 3,
    "start_time": "2023-02-20T18:24:41.126Z"
   },
   {
    "duration": 7,
    "start_time": "2023-02-20T18:24:41.361Z"
   },
   {
    "duration": 9,
    "start_time": "2023-02-20T18:24:43.184Z"
   },
   {
    "duration": 16,
    "start_time": "2023-02-20T18:24:43.823Z"
   },
   {
    "duration": 4,
    "start_time": "2023-02-20T18:24:45.071Z"
   },
   {
    "duration": 6,
    "start_time": "2023-02-20T18:24:45.596Z"
   },
   {
    "duration": 7,
    "start_time": "2023-02-20T18:24:49.321Z"
   },
   {
    "duration": 238,
    "start_time": "2023-02-20T18:24:51.779Z"
   },
   {
    "duration": 282,
    "start_time": "2023-02-20T18:24:54.155Z"
   },
   {
    "duration": 12,
    "start_time": "2023-02-20T18:24:56.460Z"
   },
   {
    "duration": 365,
    "start_time": "2023-02-20T18:24:57.152Z"
   },
   {
    "duration": 87,
    "start_time": "2023-02-20T18:24:59.086Z"
   },
   {
    "duration": 30,
    "start_time": "2023-02-20T18:26:41.581Z"
   },
   {
    "duration": 38,
    "start_time": "2023-02-20T18:27:12.719Z"
   },
   {
    "duration": 31,
    "start_time": "2023-02-20T18:27:22.501Z"
   },
   {
    "duration": 29,
    "start_time": "2023-02-20T18:28:38.265Z"
   },
   {
    "duration": 36,
    "start_time": "2023-02-20T18:28:50.719Z"
   },
   {
    "duration": 26,
    "start_time": "2023-02-20T18:29:15.760Z"
   },
   {
    "duration": 15,
    "start_time": "2023-02-20T18:30:21.365Z"
   },
   {
    "duration": 27,
    "start_time": "2023-02-20T18:33:56.630Z"
   },
   {
    "duration": 10,
    "start_time": "2023-02-20T18:36:33.072Z"
   },
   {
    "duration": 1376,
    "start_time": "2023-02-20T18:36:39.792Z"
   },
   {
    "duration": 10,
    "start_time": "2023-02-20T18:39:43.439Z"
   },
   {
    "duration": 1425,
    "start_time": "2023-02-20T18:39:46.522Z"
   },
   {
    "duration": 9,
    "start_time": "2023-02-20T18:40:11.271Z"
   },
   {
    "duration": 1234,
    "start_time": "2023-02-20T18:40:12.722Z"
   },
   {
    "duration": 47,
    "start_time": "2023-02-20T18:42:35.128Z"
   },
   {
    "duration": 49,
    "start_time": "2023-02-20T18:45:44.530Z"
   },
   {
    "duration": 44,
    "start_time": "2023-02-20T18:45:52.589Z"
   },
   {
    "duration": 50,
    "start_time": "2023-02-20T18:46:04.737Z"
   },
   {
    "duration": 146,
    "start_time": "2023-02-20T18:46:10.908Z"
   },
   {
    "duration": 12,
    "start_time": "2023-02-20T18:49:02.156Z"
   },
   {
    "duration": 1333,
    "start_time": "2023-02-20T18:49:22.071Z"
   },
   {
    "duration": 1296,
    "start_time": "2023-02-20T18:49:43.970Z"
   },
   {
    "duration": 1445,
    "start_time": "2023-02-20T18:49:49.810Z"
   },
   {
    "duration": 1316,
    "start_time": "2023-02-20T18:51:26.145Z"
   },
   {
    "duration": 1316,
    "start_time": "2023-02-20T18:53:06.041Z"
   },
   {
    "duration": 8,
    "start_time": "2023-02-20T18:55:32.644Z"
   },
   {
    "duration": 8,
    "start_time": "2023-02-20T18:55:47.807Z"
   },
   {
    "duration": 10,
    "start_time": "2023-02-20T18:56:03.808Z"
   },
   {
    "duration": 10,
    "start_time": "2023-02-20T18:56:20.823Z"
   },
   {
    "duration": 52,
    "start_time": "2023-02-21T08:29:40.474Z"
   },
   {
    "duration": 2,
    "start_time": "2023-02-21T08:29:50.717Z"
   },
   {
    "duration": 7,
    "start_time": "2023-02-21T08:29:50.971Z"
   },
   {
    "duration": 6,
    "start_time": "2023-02-21T08:29:51.881Z"
   },
   {
    "duration": 7,
    "start_time": "2023-02-21T08:29:52.217Z"
   },
   {
    "duration": 6,
    "start_time": "2023-02-21T08:29:54.897Z"
   },
   {
    "duration": 9,
    "start_time": "2023-02-21T08:29:56.738Z"
   },
   {
    "duration": 1372,
    "start_time": "2023-02-21T08:30:06.945Z"
   },
   {
    "duration": 92,
    "start_time": "2023-02-21T08:30:08.319Z"
   },
   {
    "duration": 31,
    "start_time": "2023-02-21T08:30:09.725Z"
   },
   {
    "duration": 14,
    "start_time": "2023-02-21T08:30:10.662Z"
   },
   {
    "duration": 3,
    "start_time": "2023-02-21T08:30:12.996Z"
   },
   {
    "duration": 3,
    "start_time": "2023-02-21T08:30:13.596Z"
   },
   {
    "duration": 5,
    "start_time": "2023-02-21T08:30:14.039Z"
   },
   {
    "duration": 2,
    "start_time": "2023-02-21T08:30:16.393Z"
   },
   {
    "duration": 5,
    "start_time": "2023-02-21T08:30:16.913Z"
   },
   {
    "duration": 8,
    "start_time": "2023-02-21T08:30:18.871Z"
   },
   {
    "duration": 14,
    "start_time": "2023-02-21T08:30:19.695Z"
   },
   {
    "duration": 6,
    "start_time": "2023-02-21T08:30:21.813Z"
   },
   {
    "duration": 5,
    "start_time": "2023-02-21T08:31:20.748Z"
   },
   {
    "duration": 14,
    "start_time": "2023-02-21T08:32:10.052Z"
   },
   {
    "duration": 5,
    "start_time": "2023-02-21T08:33:43.924Z"
   },
   {
    "duration": 9,
    "start_time": "2023-02-21T08:33:58.662Z"
   },
   {
    "duration": 223,
    "start_time": "2023-02-21T08:33:59.389Z"
   },
   {
    "duration": 203,
    "start_time": "2023-02-21T08:34:51.987Z"
   },
   {
    "duration": 10,
    "start_time": "2023-02-21T08:36:00.299Z"
   },
   {
    "duration": 1351,
    "start_time": "2023-02-21T08:36:01.505Z"
   },
   {
    "duration": 10,
    "start_time": "2023-02-21T08:39:39.127Z"
   },
   {
    "duration": 1582,
    "start_time": "2023-02-21T08:39:41.174Z"
   },
   {
    "duration": 25,
    "start_time": "2023-02-21T08:39:42.758Z"
   },
   {
    "duration": 11,
    "start_time": "2023-02-21T08:41:03.638Z"
   },
   {
    "duration": 2261,
    "start_time": "2023-02-21T08:41:04.479Z"
   },
   {
    "duration": 34,
    "start_time": "2023-02-21T08:41:06.742Z"
   },
   {
    "duration": 2072,
    "start_time": "2023-02-21T08:41:38.929Z"
   },
   {
    "duration": 2168,
    "start_time": "2023-02-21T08:41:59.654Z"
   },
   {
    "duration": 70,
    "start_time": "2023-02-21T08:44:16.278Z"
   },
   {
    "duration": 11,
    "start_time": "2023-02-21T08:44:30.039Z"
   },
   {
    "duration": 12,
    "start_time": "2023-02-21T08:44:58.437Z"
   },
   {
    "duration": 353,
    "start_time": "2023-02-21T08:45:06.628Z"
   },
   {
    "duration": 264,
    "start_time": "2023-02-21T08:45:08.636Z"
   },
   {
    "duration": 11,
    "start_time": "2023-02-21T08:45:10.128Z"
   },
   {
    "duration": 337,
    "start_time": "2023-02-21T08:45:10.619Z"
   },
   {
    "duration": 12,
    "start_time": "2023-02-21T08:45:11.876Z"
   },
   {
    "duration": 2109,
    "start_time": "2023-02-21T08:45:12.385Z"
   },
   {
    "duration": 31,
    "start_time": "2023-02-21T08:45:14.495Z"
   },
   {
    "duration": 5,
    "start_time": "2023-02-21T08:45:14.527Z"
   },
   {
    "duration": 182,
    "start_time": "2023-02-21T08:45:15.994Z"
   },
   {
    "duration": 13,
    "start_time": "2023-02-21T08:45:17.278Z"
   },
   {
    "duration": 12,
    "start_time": "2023-02-21T08:45:18.210Z"
   },
   {
    "duration": 339,
    "start_time": "2023-02-21T08:45:21.613Z"
   },
   {
    "duration": 285,
    "start_time": "2023-02-21T08:45:24.070Z"
   },
   {
    "duration": 144,
    "start_time": "2023-02-21T08:45:25.635Z"
   },
   {
    "duration": 201,
    "start_time": "2023-02-21T08:45:26.971Z"
   },
   {
    "duration": 178,
    "start_time": "2023-02-21T08:45:28.235Z"
   },
   {
    "duration": 5,
    "start_time": "2023-02-21T08:45:29.943Z"
   },
   {
    "duration": 328,
    "start_time": "2023-02-21T08:46:12.919Z"
   },
   {
    "duration": 50,
    "start_time": "2023-02-21T09:10:35.658Z"
   },
   {
    "duration": 57,
    "start_time": "2023-02-21T09:11:11.669Z"
   },
   {
    "duration": 43,
    "start_time": "2023-02-21T09:11:29.349Z"
   },
   {
    "duration": 204,
    "start_time": "2023-02-21T09:11:55.302Z"
   },
   {
    "duration": 163,
    "start_time": "2023-02-21T10:29:42.215Z"
   },
   {
    "duration": 155,
    "start_time": "2023-02-21T10:30:13.172Z"
   },
   {
    "duration": 157,
    "start_time": "2023-02-21T10:33:11.297Z"
   },
   {
    "duration": 18,
    "start_time": "2023-02-21T10:36:51.168Z"
   },
   {
    "duration": 156,
    "start_time": "2023-02-21T10:37:07.442Z"
   },
   {
    "duration": 128,
    "start_time": "2023-02-21T10:37:21.141Z"
   },
   {
    "duration": 129,
    "start_time": "2023-02-21T10:42:00.763Z"
   },
   {
    "duration": 28,
    "start_time": "2023-02-21T10:43:43.721Z"
   },
   {
    "duration": 129,
    "start_time": "2023-02-21T10:46:28.737Z"
   },
   {
    "duration": 128,
    "start_time": "2023-02-21T10:47:13.345Z"
   },
   {
    "duration": 137,
    "start_time": "2023-02-21T10:48:17.821Z"
   },
   {
    "duration": 27,
    "start_time": "2023-02-21T10:50:58.094Z"
   },
   {
    "duration": 14,
    "start_time": "2023-02-21T10:51:16.688Z"
   },
   {
    "duration": 14,
    "start_time": "2023-02-21T10:53:48.200Z"
   },
   {
    "duration": 12,
    "start_time": "2023-02-21T10:56:40.984Z"
   },
   {
    "duration": 20,
    "start_time": "2023-02-21T12:13:54.187Z"
   },
   {
    "duration": 799,
    "start_time": "2023-02-21T12:36:19.268Z"
   },
   {
    "duration": 221,
    "start_time": "2023-02-21T12:37:40.037Z"
   },
   {
    "duration": 829,
    "start_time": "2023-02-21T12:38:04.933Z"
   },
   {
    "duration": 869,
    "start_time": "2023-02-21T12:38:31.380Z"
   },
   {
    "duration": 54,
    "start_time": "2023-02-22T09:21:21.829Z"
   },
   {
    "duration": 1362,
    "start_time": "2023-02-22T09:21:44.568Z"
   },
   {
    "duration": 104,
    "start_time": "2023-02-22T09:21:45.933Z"
   },
   {
    "duration": 22,
    "start_time": "2023-02-22T09:21:46.039Z"
   },
   {
    "duration": 15,
    "start_time": "2023-02-22T09:21:46.064Z"
   },
   {
    "duration": 4,
    "start_time": "2023-02-22T09:21:46.081Z"
   },
   {
    "duration": 4,
    "start_time": "2023-02-22T09:21:46.244Z"
   },
   {
    "duration": 6,
    "start_time": "2023-02-22T09:21:46.414Z"
   },
   {
    "duration": 3,
    "start_time": "2023-02-22T09:21:47.349Z"
   },
   {
    "duration": 6,
    "start_time": "2023-02-22T09:21:47.537Z"
   },
   {
    "duration": 9,
    "start_time": "2023-02-22T09:21:48.096Z"
   },
   {
    "duration": 19,
    "start_time": "2023-02-22T09:21:48.269Z"
   },
   {
    "duration": 6,
    "start_time": "2023-02-22T09:21:48.645Z"
   },
   {
    "duration": 7,
    "start_time": "2023-02-22T09:21:48.857Z"
   },
   {
    "duration": 8,
    "start_time": "2023-02-22T09:21:49.782Z"
   },
   {
    "duration": 247,
    "start_time": "2023-02-22T09:21:49.996Z"
   },
   {
    "duration": 308,
    "start_time": "2023-02-22T09:21:50.832Z"
   },
   {
    "duration": 15,
    "start_time": "2023-02-22T09:21:51.728Z"
   },
   {
    "duration": 379,
    "start_time": "2023-02-22T09:21:52.092Z"
   },
   {
    "duration": 13,
    "start_time": "2023-02-22T09:21:52.593Z"
   },
   {
    "duration": 2319,
    "start_time": "2023-02-22T09:21:52.875Z"
   },
   {
    "duration": 27,
    "start_time": "2023-02-22T09:21:55.196Z"
   },
   {
    "duration": 17,
    "start_time": "2023-02-22T09:21:55.225Z"
   },
   {
    "duration": 184,
    "start_time": "2023-02-22T09:21:55.358Z"
   },
   {
    "duration": 73,
    "start_time": "2023-02-22T09:21:56.428Z"
   },
   {
    "duration": 12,
    "start_time": "2023-02-22T09:21:56.743Z"
   },
   {
    "duration": 158,
    "start_time": "2023-02-22T09:22:08.276Z"
   },
   {
    "duration": 226,
    "start_time": "2023-02-22T09:22:09.028Z"
   },
   {
    "duration": 191,
    "start_time": "2023-02-22T09:22:09.793Z"
   },
   {
    "duration": 4,
    "start_time": "2023-02-22T09:22:10.174Z"
   },
   {
    "duration": 14,
    "start_time": "2023-02-22T09:22:11.494Z"
   },
   {
    "duration": 785,
    "start_time": "2023-02-22T09:22:12.540Z"
   },
   {
    "duration": 307,
    "start_time": "2023-02-22T09:22:14.502Z"
   },
   {
    "duration": 360,
    "start_time": "2023-02-22T09:22:15.354Z"
   },
   {
    "duration": 309,
    "start_time": "2023-02-22T09:22:16.134Z"
   },
   {
    "duration": 367,
    "start_time": "2023-02-22T09:22:16.746Z"
   },
   {
    "duration": 311,
    "start_time": "2023-02-22T09:22:17.229Z"
   },
   {
    "duration": 393,
    "start_time": "2023-02-22T09:22:17.542Z"
   },
   {
    "duration": 6,
    "start_time": "2023-02-22T09:22:18.044Z"
   },
   {
    "duration": 179,
    "start_time": "2023-02-22T09:22:18.186Z"
   },
   {
    "duration": 12,
    "start_time": "2023-02-22T09:22:19.452Z"
   },
   {
    "duration": 11,
    "start_time": "2023-02-22T09:22:20.644Z"
   },
   {
    "duration": 6,
    "start_time": "2023-02-22T09:22:21.053Z"
   },
   {
    "duration": 2371,
    "start_time": "2023-02-22T09:24:04.592Z"
   },
   {
    "duration": 25,
    "start_time": "2023-02-22T09:24:06.965Z"
   },
   {
    "duration": 4,
    "start_time": "2023-02-22T09:24:06.991Z"
   },
   {
    "duration": 198,
    "start_time": "2023-02-22T09:24:07.644Z"
   },
   {
    "duration": 14,
    "start_time": "2023-02-22T09:24:08.645Z"
   },
   {
    "duration": 13,
    "start_time": "2023-02-22T09:24:09.232Z"
   },
   {
    "duration": 241,
    "start_time": "2023-02-22T09:24:10.980Z"
   },
   {
    "duration": 336,
    "start_time": "2023-02-22T09:24:12.081Z"
   },
   {
    "duration": 187,
    "start_time": "2023-02-22T09:24:12.837Z"
   },
   {
    "duration": 235,
    "start_time": "2023-02-22T09:24:13.941Z"
   },
   {
    "duration": 328,
    "start_time": "2023-02-22T09:24:14.536Z"
   },
   {
    "duration": 3,
    "start_time": "2023-02-22T09:24:28.036Z"
   },
   {
    "duration": 47,
    "start_time": "2023-02-22T09:24:28.367Z"
   },
   {
    "duration": 15,
    "start_time": "2023-02-22T09:24:28.751Z"
   },
   {
    "duration": 17,
    "start_time": "2023-02-22T09:24:29.161Z"
   },
   {
    "duration": 4,
    "start_time": "2023-02-22T09:24:30.891Z"
   },
   {
    "duration": 4,
    "start_time": "2023-02-22T09:24:31.502Z"
   },
   {
    "duration": 6,
    "start_time": "2023-02-22T09:24:31.722Z"
   },
   {
    "duration": 3,
    "start_time": "2023-02-22T09:24:33.736Z"
   },
   {
    "duration": 5,
    "start_time": "2023-02-22T09:24:34.076Z"
   },
   {
    "duration": 9,
    "start_time": "2023-02-22T09:24:36.096Z"
   },
   {
    "duration": 16,
    "start_time": "2023-02-22T09:24:36.539Z"
   },
   {
    "duration": 7,
    "start_time": "2023-02-22T09:24:37.382Z"
   },
   {
    "duration": 6,
    "start_time": "2023-02-22T09:24:37.741Z"
   },
   {
    "duration": 8,
    "start_time": "2023-02-22T09:24:39.883Z"
   },
   {
    "duration": 245,
    "start_time": "2023-02-22T09:24:40.340Z"
   },
   {
    "duration": 286,
    "start_time": "2023-02-22T09:24:41.649Z"
   },
   {
    "duration": 14,
    "start_time": "2023-02-22T09:24:43.185Z"
   },
   {
    "duration": 385,
    "start_time": "2023-02-22T09:24:43.651Z"
   },
   {
    "duration": 16,
    "start_time": "2023-02-22T09:24:44.774Z"
   },
   {
    "duration": 2291,
    "start_time": "2023-02-22T09:24:45.243Z"
   },
   {
    "duration": 28,
    "start_time": "2023-02-22T09:24:47.540Z"
   },
   {
    "duration": 20,
    "start_time": "2023-02-22T09:24:47.570Z"
   },
   {
    "duration": 343,
    "start_time": "2023-02-22T09:24:48.495Z"
   },
   {
    "duration": 13,
    "start_time": "2023-02-22T09:24:50.008Z"
   },
   {
    "duration": 7,
    "start_time": "2023-02-22T09:25:04.548Z"
   },
   {
    "duration": 226,
    "start_time": "2023-02-22T09:25:05.432Z"
   },
   {
    "duration": 250,
    "start_time": "2023-02-22T09:25:08.636Z"
   },
   {
    "duration": 299,
    "start_time": "2023-02-22T09:25:10.884Z"
   },
   {
    "duration": 171,
    "start_time": "2023-02-22T09:25:12.139Z"
   },
   {
    "duration": 203,
    "start_time": "2023-02-22T09:25:13.396Z"
   },
   {
    "duration": 194,
    "start_time": "2023-02-22T09:25:14.637Z"
   },
   {
    "duration": 5,
    "start_time": "2023-02-22T09:25:15.600Z"
   },
   {
    "duration": 15,
    "start_time": "2023-02-22T09:25:17.458Z"
   },
   {
    "duration": 752,
    "start_time": "2023-02-22T09:25:18.632Z"
   },
   {
    "duration": 313,
    "start_time": "2023-02-22T09:25:22.090Z"
   },
   {
    "duration": 380,
    "start_time": "2023-02-22T09:25:23.228Z"
   },
   {
    "duration": 337,
    "start_time": "2023-02-22T09:25:24.436Z"
   },
   {
    "duration": 372,
    "start_time": "2023-02-22T09:25:25.449Z"
   },
   {
    "duration": 291,
    "start_time": "2023-02-22T09:25:26.566Z"
   },
   {
    "duration": 378,
    "start_time": "2023-02-22T09:25:27.051Z"
   },
   {
    "duration": 4,
    "start_time": "2023-02-22T09:25:28.650Z"
   },
   {
    "duration": 160,
    "start_time": "2023-02-22T09:25:36.400Z"
   },
   {
    "duration": 10,
    "start_time": "2023-02-22T09:28:11.085Z"
   },
   {
    "duration": 241,
    "start_time": "2023-02-22T09:28:18.942Z"
   },
   {
    "duration": 374,
    "start_time": "2023-02-22T09:29:04.086Z"
   },
   {
    "duration": 213,
    "start_time": "2023-02-22T09:29:20.129Z"
   },
   {
    "duration": 166,
    "start_time": "2023-02-22T09:29:41.950Z"
   },
   {
    "duration": 14,
    "start_time": "2023-02-22T09:29:45.645Z"
   },
   {
    "duration": 10,
    "start_time": "2023-02-22T09:29:51.645Z"
   },
   {
    "duration": 177,
    "start_time": "2023-02-22T09:32:15.446Z"
   },
   {
    "duration": 182,
    "start_time": "2023-02-22T09:32:26.842Z"
   },
   {
    "duration": 3,
    "start_time": "2023-02-22T09:34:31.435Z"
   },
   {
    "duration": 10,
    "start_time": "2023-02-22T09:39:18.142Z"
   },
   {
    "duration": 27,
    "start_time": "2023-02-22T09:41:01.406Z"
   },
   {
    "duration": 24,
    "start_time": "2023-02-22T09:41:13.354Z"
   },
   {
    "duration": 26,
    "start_time": "2023-02-22T09:41:34.191Z"
   },
   {
    "duration": 208,
    "start_time": "2023-02-22T09:42:12.055Z"
   },
   {
    "duration": 202,
    "start_time": "2023-02-22T09:42:44.738Z"
   },
   {
    "duration": 196,
    "start_time": "2023-02-22T09:44:20.456Z"
   },
   {
    "duration": 342,
    "start_time": "2023-02-22T09:44:25.960Z"
   },
   {
    "duration": 305,
    "start_time": "2023-02-22T09:44:44.528Z"
   },
   {
    "duration": 344,
    "start_time": "2023-02-22T09:44:50.641Z"
   },
   {
    "duration": 312,
    "start_time": "2023-02-22T09:45:09.344Z"
   },
   {
    "duration": 346,
    "start_time": "2023-02-22T09:45:35.053Z"
   },
   {
    "duration": 545,
    "start_time": "2023-02-22T09:45:45.063Z"
   },
   {
    "duration": 293,
    "start_time": "2023-02-22T09:47:02.520Z"
   },
   {
    "duration": 339,
    "start_time": "2023-02-22T09:47:58.970Z"
   },
   {
    "duration": 335,
    "start_time": "2023-02-22T09:48:10.855Z"
   },
   {
    "duration": 318,
    "start_time": "2023-02-22T09:48:25.104Z"
   },
   {
    "duration": 299,
    "start_time": "2023-02-22T09:48:50.819Z"
   },
   {
    "duration": 300,
    "start_time": "2023-02-22T09:49:02.800Z"
   },
   {
    "duration": 311,
    "start_time": "2023-02-22T09:49:21.488Z"
   },
   {
    "duration": 319,
    "start_time": "2023-02-22T09:49:29.572Z"
   },
   {
    "duration": 520,
    "start_time": "2023-02-22T09:49:40.328Z"
   },
   {
    "duration": 305,
    "start_time": "2023-02-22T09:49:47.203Z"
   },
   {
    "duration": 319,
    "start_time": "2023-02-22T09:49:58.180Z"
   },
   {
    "duration": 327,
    "start_time": "2023-02-22T09:50:34.273Z"
   },
   {
    "duration": 317,
    "start_time": "2023-02-22T09:50:41.652Z"
   },
   {
    "duration": 312,
    "start_time": "2023-02-22T09:50:48.345Z"
   },
   {
    "duration": 308,
    "start_time": "2023-02-22T09:51:18.607Z"
   },
   {
    "duration": 287,
    "start_time": "2023-02-22T09:51:36.754Z"
   },
   {
    "duration": 313,
    "start_time": "2023-02-22T10:00:20.169Z"
   },
   {
    "duration": 517,
    "start_time": "2023-02-22T10:01:15.768Z"
   },
   {
    "duration": 342,
    "start_time": "2023-02-22T10:01:26.818Z"
   },
   {
    "duration": 299,
    "start_time": "2023-02-22T10:01:33.411Z"
   },
   {
    "duration": 307,
    "start_time": "2023-02-22T10:01:50.628Z"
   },
   {
    "duration": 305,
    "start_time": "2023-02-22T10:01:58.036Z"
   },
   {
    "duration": 304,
    "start_time": "2023-02-22T10:02:08.014Z"
   },
   {
    "duration": 278,
    "start_time": "2023-02-22T10:02:16.612Z"
   },
   {
    "duration": 322,
    "start_time": "2023-02-22T10:02:22.988Z"
   },
   {
    "duration": 303,
    "start_time": "2023-02-22T10:02:33.501Z"
   },
   {
    "duration": 521,
    "start_time": "2023-02-22T10:02:45.970Z"
   },
   {
    "duration": 300,
    "start_time": "2023-02-22T10:02:51.268Z"
   },
   {
    "duration": 936,
    "start_time": "2023-02-22T10:07:21.541Z"
   },
   {
    "duration": 231,
    "start_time": "2023-02-22T10:08:58.119Z"
   },
   {
    "duration": 216,
    "start_time": "2023-02-22T10:09:16.859Z"
   },
   {
    "duration": 202,
    "start_time": "2023-02-22T10:10:46.715Z"
   },
   {
    "duration": 213,
    "start_time": "2023-02-22T10:21:05.459Z"
   },
   {
    "duration": 262,
    "start_time": "2023-02-22T10:22:36.587Z"
   },
   {
    "duration": 258,
    "start_time": "2023-02-22T10:22:46.218Z"
   },
   {
    "duration": 204,
    "start_time": "2023-02-22T10:22:57.376Z"
   },
   {
    "duration": 239,
    "start_time": "2023-02-22T10:23:09.295Z"
   },
   {
    "duration": 281,
    "start_time": "2023-02-22T10:23:20.239Z"
   },
   {
    "duration": 189,
    "start_time": "2023-02-22T10:24:38.690Z"
   },
   {
    "duration": 229,
    "start_time": "2023-02-22T10:25:21.820Z"
   },
   {
    "duration": 228,
    "start_time": "2023-02-22T10:25:47.153Z"
   },
   {
    "duration": 223,
    "start_time": "2023-02-22T10:26:26.750Z"
   },
   {
    "duration": 217,
    "start_time": "2023-02-22T10:26:59.757Z"
   },
   {
    "duration": 7,
    "start_time": "2023-02-22T10:27:18.679Z"
   },
   {
    "duration": 213,
    "start_time": "2023-02-22T10:27:19.428Z"
   },
   {
    "duration": 317,
    "start_time": "2023-02-22T10:28:20.490Z"
   },
   {
    "duration": 189,
    "start_time": "2023-02-22T10:34:31.203Z"
   },
   {
    "duration": 381,
    "start_time": "2023-02-22T10:34:40.854Z"
   },
   {
    "duration": 249,
    "start_time": "2023-02-22T10:35:19.633Z"
   },
   {
    "duration": 221,
    "start_time": "2023-02-22T10:36:47.169Z"
   },
   {
    "duration": 243,
    "start_time": "2023-02-22T10:36:57.232Z"
   },
   {
    "duration": 9,
    "start_time": "2023-02-22T11:02:58.994Z"
   },
   {
    "duration": 193,
    "start_time": "2023-02-22T11:05:07.660Z"
   },
   {
    "duration": 200,
    "start_time": "2023-02-22T11:05:22.974Z"
   },
   {
    "duration": 267,
    "start_time": "2023-02-22T11:06:00.765Z"
   },
   {
    "duration": 3,
    "start_time": "2023-02-22T11:09:48.052Z"
   },
   {
    "duration": 18,
    "start_time": "2023-02-22T11:29:00.785Z"
   },
   {
    "duration": 2270,
    "start_time": "2023-02-22T11:29:33.777Z"
   },
   {
    "duration": 133,
    "start_time": "2023-02-22T11:30:43.844Z"
   },
   {
    "duration": 150,
    "start_time": "2023-02-22T11:30:54.015Z"
   },
   {
    "duration": 17,
    "start_time": "2023-02-22T11:31:11.916Z"
   },
   {
    "duration": 1813,
    "start_time": "2023-02-22T11:32:10.908Z"
   },
   {
    "duration": 1571,
    "start_time": "2023-02-22T11:32:37.113Z"
   },
   {
    "duration": 21,
    "start_time": "2023-02-22T11:36:36.734Z"
   },
   {
    "duration": 1318,
    "start_time": "2023-02-22T11:37:53.143Z"
   },
   {
    "duration": 21,
    "start_time": "2023-02-22T11:45:26.382Z"
   },
   {
    "duration": 4,
    "start_time": "2023-02-22T11:45:29.517Z"
   },
   {
    "duration": 4,
    "start_time": "2023-02-22T11:45:30.214Z"
   },
   {
    "duration": 7,
    "start_time": "2023-02-22T11:45:33.263Z"
   },
   {
    "duration": 298,
    "start_time": "2023-02-22T11:49:31.889Z"
   },
   {
    "duration": 237,
    "start_time": "2023-02-22T11:49:44.919Z"
   },
   {
    "duration": 299,
    "start_time": "2023-02-22T11:51:15.027Z"
   },
   {
    "duration": 631,
    "start_time": "2023-02-22T11:51:47.037Z"
   },
   {
    "duration": 353,
    "start_time": "2023-02-22T11:52:25.830Z"
   },
   {
    "duration": 16,
    "start_time": "2023-02-22T11:54:05.733Z"
   },
   {
    "duration": 2366,
    "start_time": "2023-02-22T11:54:06.451Z"
   },
   {
    "duration": 17,
    "start_time": "2023-02-22T11:54:30.872Z"
   },
   {
    "duration": 55,
    "start_time": "2023-02-22T11:55:12.659Z"
   },
   {
    "duration": 14,
    "start_time": "2023-02-22T11:55:42.719Z"
   },
   {
    "duration": 2267,
    "start_time": "2023-02-22T11:55:44.352Z"
   },
   {
    "duration": 8,
    "start_time": "2023-02-22T11:55:52.013Z"
   },
   {
    "duration": 54,
    "start_time": "2023-02-22T11:58:57.611Z"
   },
   {
    "duration": 47,
    "start_time": "2023-02-22T11:59:40.181Z"
   },
   {
    "duration": 50,
    "start_time": "2023-02-22T11:59:58.231Z"
   },
   {
    "duration": 44,
    "start_time": "2023-02-22T12:00:25.313Z"
   },
   {
    "duration": 32,
    "start_time": "2023-02-22T12:00:39.861Z"
   },
   {
    "duration": 14,
    "start_time": "2023-02-22T12:00:51.730Z"
   },
   {
    "duration": 73,
    "start_time": "2023-02-22T12:01:07.271Z"
   },
   {
    "duration": 53,
    "start_time": "2023-02-22T12:01:54.309Z"
   },
   {
    "duration": 2344,
    "start_time": "2023-02-22T12:01:55.316Z"
   },
   {
    "duration": 51,
    "start_time": "2023-02-22T12:02:26.575Z"
   },
   {
    "duration": 2674,
    "start_time": "2023-02-22T12:02:27.860Z"
   },
   {
    "duration": 53,
    "start_time": "2023-02-22T12:02:52.479Z"
   },
   {
    "duration": 2318,
    "start_time": "2023-02-22T12:02:53.228Z"
   },
   {
    "duration": 16,
    "start_time": "2023-02-22T12:05:02.552Z"
   },
   {
    "duration": 4961,
    "start_time": "2023-02-22T12:05:03.660Z"
   },
   {
    "duration": 46,
    "start_time": "2023-02-22T12:05:08.623Z"
   },
   {
    "duration": 14,
    "start_time": "2023-02-22T12:06:58.628Z"
   },
   {
    "duration": 2326,
    "start_time": "2023-02-22T12:07:00.632Z"
   },
   {
    "duration": 53,
    "start_time": "2023-02-22T12:07:34.016Z"
   },
   {
    "duration": 2612,
    "start_time": "2023-02-22T12:07:35.074Z"
   },
   {
    "duration": 2293,
    "start_time": "2023-02-22T12:08:02.458Z"
   },
   {
    "duration": 15,
    "start_time": "2023-02-22T12:09:10.520Z"
   },
   {
    "duration": 1921,
    "start_time": "2023-02-22T12:09:11.519Z"
   },
   {
    "duration": 13,
    "start_time": "2023-02-22T12:46:08.782Z"
   },
   {
    "duration": 37,
    "start_time": "2023-02-22T12:49:27.522Z"
   },
   {
    "duration": 1827,
    "start_time": "2023-02-22T12:49:28.659Z"
   },
   {
    "duration": 16,
    "start_time": "2023-02-22T12:52:12.387Z"
   },
   {
    "duration": 352,
    "start_time": "2023-02-22T12:52:38.565Z"
   },
   {
    "duration": 333,
    "start_time": "2023-02-22T12:53:37.079Z"
   },
   {
    "duration": 58,
    "start_time": "2023-02-22T12:55:24.897Z"
   },
   {
    "duration": 346,
    "start_time": "2023-02-22T12:55:30.024Z"
   },
   {
    "duration": 370,
    "start_time": "2023-02-22T12:56:22.974Z"
   },
   {
    "duration": 304,
    "start_time": "2023-02-22T12:58:36.525Z"
   },
   {
    "duration": 177,
    "start_time": "2023-02-22T12:59:44.689Z"
   },
   {
    "duration": 317,
    "start_time": "2023-02-22T13:00:41.347Z"
   },
   {
    "duration": 50,
    "start_time": "2023-02-22T13:02:03.463Z"
   },
   {
    "duration": 301,
    "start_time": "2023-02-22T13:02:11.061Z"
   },
   {
    "duration": 310,
    "start_time": "2023-02-22T13:03:19.485Z"
   },
   {
    "duration": 450,
    "start_time": "2023-02-22T13:04:02.104Z"
   },
   {
    "duration": 492,
    "start_time": "2023-02-22T13:05:51.968Z"
   },
   {
    "duration": 490,
    "start_time": "2023-02-22T13:06:13.332Z"
   },
   {
    "duration": 490,
    "start_time": "2023-02-22T13:06:34.030Z"
   },
   {
    "duration": 516,
    "start_time": "2023-02-22T13:07:37.738Z"
   },
   {
    "duration": 50,
    "start_time": "2023-02-22T20:48:38.659Z"
   },
   {
    "duration": 11,
    "start_time": "2023-02-22T20:48:40.497Z"
   },
   {
    "duration": 1372,
    "start_time": "2023-02-22T20:48:54.930Z"
   },
   {
    "duration": 201,
    "start_time": "2023-02-22T20:48:56.304Z"
   },
   {
    "duration": 20,
    "start_time": "2023-02-22T20:48:56.507Z"
   },
   {
    "duration": 16,
    "start_time": "2023-02-22T20:48:56.529Z"
   },
   {
    "duration": 3,
    "start_time": "2023-02-22T20:48:56.547Z"
   },
   {
    "duration": 29,
    "start_time": "2023-02-22T20:48:56.552Z"
   },
   {
    "duration": 2,
    "start_time": "2023-02-22T20:48:57.220Z"
   },
   {
    "duration": 5,
    "start_time": "2023-02-22T20:48:57.397Z"
   },
   {
    "duration": 9,
    "start_time": "2023-02-22T20:48:57.757Z"
   },
   {
    "duration": 17,
    "start_time": "2023-02-22T20:48:58.148Z"
   },
   {
    "duration": 6,
    "start_time": "2023-02-22T20:48:58.542Z"
   },
   {
    "duration": 7,
    "start_time": "2023-02-22T20:48:58.731Z"
   },
   {
    "duration": 7,
    "start_time": "2023-02-22T20:48:59.728Z"
   },
   {
    "duration": 246,
    "start_time": "2023-02-22T20:48:59.924Z"
   },
   {
    "duration": 333,
    "start_time": "2023-02-22T20:49:00.505Z"
   },
   {
    "duration": 17,
    "start_time": "2023-02-22T20:49:01.146Z"
   },
   {
    "duration": 390,
    "start_time": "2023-02-22T20:49:01.543Z"
   },
   {
    "duration": 15,
    "start_time": "2023-02-22T20:49:01.976Z"
   },
   {
    "duration": 1894,
    "start_time": "2023-02-22T20:49:02.178Z"
   },
   {
    "duration": 27,
    "start_time": "2023-02-22T20:49:04.075Z"
   },
   {
    "duration": 5,
    "start_time": "2023-02-22T20:49:04.104Z"
   },
   {
    "duration": 267,
    "start_time": "2023-02-22T20:49:04.629Z"
   },
   {
    "duration": 7,
    "start_time": "2023-02-22T20:49:05.710Z"
   },
   {
    "duration": 262,
    "start_time": "2023-02-22T20:49:06.255Z"
   },
   {
    "duration": 224,
    "start_time": "2023-02-22T20:49:08.558Z"
   },
   {
    "duration": 320,
    "start_time": "2023-02-22T20:49:10.512Z"
   },
   {
    "duration": 169,
    "start_time": "2023-02-22T20:49:11.792Z"
   },
   {
    "duration": 179,
    "start_time": "2023-02-22T20:49:14.813Z"
   },
   {
    "duration": 190,
    "start_time": "2023-02-22T20:49:17.328Z"
   },
   {
    "duration": 8,
    "start_time": "2023-02-22T20:49:20.563Z"
   },
   {
    "duration": 186,
    "start_time": "2023-02-22T20:49:52.175Z"
   },
   {
    "duration": 177,
    "start_time": "2023-02-22T20:50:54.331Z"
   },
   {
    "duration": 653,
    "start_time": "2023-02-22T20:51:39.971Z"
   },
   {
    "duration": 496,
    "start_time": "2023-02-22T20:56:05.533Z"
   },
   {
    "duration": 458,
    "start_time": "2023-02-22T20:56:29.569Z"
   },
   {
    "duration": 458,
    "start_time": "2023-02-22T20:56:31.533Z"
   },
   {
    "duration": 484,
    "start_time": "2023-02-22T20:57:36.403Z"
   },
   {
    "duration": 464,
    "start_time": "2023-02-22T20:58:03.611Z"
   },
   {
    "duration": 582,
    "start_time": "2023-02-22T20:58:31.314Z"
   },
   {
    "duration": 452,
    "start_time": "2023-02-22T20:58:51.826Z"
   },
   {
    "duration": 3,
    "start_time": "2023-02-22T20:59:15.530Z"
   },
   {
    "duration": 50,
    "start_time": "2023-02-22T20:59:15.711Z"
   },
   {
    "duration": 15,
    "start_time": "2023-02-22T20:59:15.920Z"
   },
   {
    "duration": 14,
    "start_time": "2023-02-22T20:59:16.085Z"
   },
   {
    "duration": 3,
    "start_time": "2023-02-22T20:59:16.829Z"
   },
   {
    "duration": 3,
    "start_time": "2023-02-22T20:59:17.003Z"
   },
   {
    "duration": 3,
    "start_time": "2023-02-22T20:59:18.048Z"
   },
   {
    "duration": 7,
    "start_time": "2023-02-22T20:59:18.204Z"
   },
   {
    "duration": 10,
    "start_time": "2023-02-22T20:59:18.553Z"
   },
   {
    "duration": 16,
    "start_time": "2023-02-22T20:59:19.290Z"
   },
   {
    "duration": 5,
    "start_time": "2023-02-22T20:59:19.662Z"
   },
   {
    "duration": 5,
    "start_time": "2023-02-22T20:59:19.811Z"
   },
   {
    "duration": 7,
    "start_time": "2023-02-22T20:59:21.248Z"
   },
   {
    "duration": 233,
    "start_time": "2023-02-22T20:59:21.445Z"
   },
   {
    "duration": 288,
    "start_time": "2023-02-22T20:59:22.241Z"
   },
   {
    "duration": 13,
    "start_time": "2023-02-22T20:59:22.906Z"
   },
   {
    "duration": 383,
    "start_time": "2023-02-22T20:59:23.086Z"
   },
   {
    "duration": 11,
    "start_time": "2023-02-22T20:59:23.471Z"
   },
   {
    "duration": 1884,
    "start_time": "2023-02-22T20:59:23.628Z"
   },
   {
    "duration": 25,
    "start_time": "2023-02-22T20:59:25.514Z"
   },
   {
    "duration": 5,
    "start_time": "2023-02-22T20:59:25.541Z"
   },
   {
    "duration": 183,
    "start_time": "2023-02-22T20:59:25.548Z"
   },
   {
    "duration": 7,
    "start_time": "2023-02-22T20:59:25.842Z"
   },
   {
    "duration": 220,
    "start_time": "2023-02-22T20:59:26.070Z"
   },
   {
    "duration": 219,
    "start_time": "2023-02-22T20:59:26.847Z"
   },
   {
    "duration": 286,
    "start_time": "2023-02-22T20:59:27.463Z"
   },
   {
    "duration": 157,
    "start_time": "2023-02-22T20:59:27.870Z"
   },
   {
    "duration": 176,
    "start_time": "2023-02-22T20:59:28.287Z"
   },
   {
    "duration": 182,
    "start_time": "2023-02-22T20:59:28.829Z"
   },
   {
    "duration": 5,
    "start_time": "2023-02-22T20:59:29.087Z"
   },
   {
    "duration": 467,
    "start_time": "2023-02-22T20:59:29.733Z"
   },
   {
    "duration": 575,
    "start_time": "2023-02-22T20:59:30.586Z"
   },
   {
    "duration": 297,
    "start_time": "2023-02-22T21:05:21.600Z"
   },
   {
    "duration": 294,
    "start_time": "2023-02-22T21:05:40.080Z"
   },
   {
    "duration": 290,
    "start_time": "2023-02-22T21:05:44.318Z"
   },
   {
    "duration": 219,
    "start_time": "2023-02-22T21:09:05.542Z"
   },
   {
    "duration": 188,
    "start_time": "2023-02-22T21:09:27.169Z"
   },
   {
    "duration": 195,
    "start_time": "2023-02-22T21:11:20.525Z"
   },
   {
    "duration": 197,
    "start_time": "2023-02-22T21:14:17.441Z"
   },
   {
    "duration": 327,
    "start_time": "2023-02-22T21:14:27.113Z"
   },
   {
    "duration": 189,
    "start_time": "2023-02-22T21:14:35.985Z"
   },
   {
    "duration": 187,
    "start_time": "2023-02-22T21:14:40.008Z"
   },
   {
    "duration": 184,
    "start_time": "2023-02-22T21:14:46.619Z"
   },
   {
    "duration": 188,
    "start_time": "2023-02-22T21:15:04.832Z"
   },
   {
    "duration": 213,
    "start_time": "2023-02-22T21:15:14.820Z"
   },
   {
    "duration": 215,
    "start_time": "2023-02-22T21:16:31.804Z"
   },
   {
    "duration": 177,
    "start_time": "2023-02-22T21:16:59.566Z"
   },
   {
    "duration": 179,
    "start_time": "2023-02-22T21:18:14.594Z"
   },
   {
    "duration": 192,
    "start_time": "2023-02-22T21:18:41.125Z"
   },
   {
    "duration": 212,
    "start_time": "2023-02-22T21:19:43.422Z"
   },
   {
    "duration": 155,
    "start_time": "2023-02-22T21:30:16.654Z"
   },
   {
    "duration": 162,
    "start_time": "2023-02-22T21:30:37.752Z"
   },
   {
    "duration": 67,
    "start_time": "2023-02-22T21:33:36.654Z"
   },
   {
    "duration": 11,
    "start_time": "2023-02-22T21:33:42.769Z"
   },
   {
    "duration": 10,
    "start_time": "2023-02-22T21:33:44.314Z"
   },
   {
    "duration": 6,
    "start_time": "2023-02-22T21:33:45.035Z"
   },
   {
    "duration": 1440,
    "start_time": "2023-02-23T07:08:01.563Z"
   },
   {
    "duration": 103,
    "start_time": "2023-02-23T07:08:03.005Z"
   },
   {
    "duration": 25,
    "start_time": "2023-02-23T07:08:03.110Z"
   },
   {
    "duration": 20,
    "start_time": "2023-02-23T07:08:03.138Z"
   },
   {
    "duration": 4,
    "start_time": "2023-02-23T07:08:03.160Z"
   },
   {
    "duration": 8,
    "start_time": "2023-02-23T07:08:03.165Z"
   },
   {
    "duration": 4,
    "start_time": "2023-02-23T07:08:03.175Z"
   },
   {
    "duration": 13,
    "start_time": "2023-02-23T07:08:03.181Z"
   },
   {
    "duration": 43,
    "start_time": "2023-02-23T07:08:03.197Z"
   },
   {
    "duration": 16,
    "start_time": "2023-02-23T07:08:03.244Z"
   },
   {
    "duration": 11,
    "start_time": "2023-02-23T07:08:03.262Z"
   },
   {
    "duration": 8,
    "start_time": "2023-02-23T07:08:03.275Z"
   },
   {
    "duration": 11,
    "start_time": "2023-02-23T07:08:03.285Z"
   },
   {
    "duration": 287,
    "start_time": "2023-02-23T07:08:03.298Z"
   },
   {
    "duration": 303,
    "start_time": "2023-02-23T07:08:03.587Z"
   },
   {
    "duration": 11,
    "start_time": "2023-02-23T07:08:03.892Z"
   },
   {
    "duration": 347,
    "start_time": "2023-02-23T07:08:03.904Z"
   },
   {
    "duration": 11,
    "start_time": "2023-02-23T07:08:04.252Z"
   },
   {
    "duration": 1659,
    "start_time": "2023-02-23T07:08:04.265Z"
   },
   {
    "duration": 37,
    "start_time": "2023-02-23T07:08:05.925Z"
   },
   {
    "duration": 5,
    "start_time": "2023-02-23T07:08:05.964Z"
   },
   {
    "duration": 261,
    "start_time": "2023-02-23T07:08:05.971Z"
   },
   {
    "duration": 6,
    "start_time": "2023-02-23T07:08:06.236Z"
   },
   {
    "duration": 208,
    "start_time": "2023-02-23T07:08:06.244Z"
   },
   {
    "duration": 214,
    "start_time": "2023-02-23T07:08:06.454Z"
   },
   {
    "duration": 268,
    "start_time": "2023-02-23T07:08:06.670Z"
   },
   {
    "duration": 152,
    "start_time": "2023-02-23T07:08:06.940Z"
   },
   {
    "duration": 192,
    "start_time": "2023-02-23T07:08:07.095Z"
   },
   {
    "duration": 169,
    "start_time": "2023-02-23T07:08:07.289Z"
   },
   {
    "duration": 4,
    "start_time": "2023-02-23T07:08:07.459Z"
   },
   {
    "duration": 416,
    "start_time": "2023-02-23T07:08:07.465Z"
   },
   {
    "duration": 514,
    "start_time": "2023-02-23T07:08:07.883Z"
   },
   {
    "duration": 277,
    "start_time": "2023-02-23T07:08:08.398Z"
   },
   {
    "duration": 192,
    "start_time": "2023-02-23T07:08:08.677Z"
   },
   {
    "duration": 197,
    "start_time": "2023-02-23T07:08:08.871Z"
   },
   {
    "duration": 185,
    "start_time": "2023-02-23T07:08:09.070Z"
   },
   {
    "duration": 198,
    "start_time": "2023-02-23T07:08:09.257Z"
   },
   {
    "duration": 171,
    "start_time": "2023-02-23T07:08:09.456Z"
   },
   {
    "duration": 194,
    "start_time": "2023-02-23T07:08:09.628Z"
   },
   {
    "duration": 13,
    "start_time": "2023-02-23T07:08:09.825Z"
   },
   {
    "duration": 175,
    "start_time": "2023-02-23T07:08:09.839Z"
   },
   {
    "duration": 11,
    "start_time": "2023-02-23T07:08:10.016Z"
   },
   {
    "duration": 9,
    "start_time": "2023-02-23T07:08:10.038Z"
   },
   {
    "duration": 26,
    "start_time": "2023-02-23T07:08:10.049Z"
   },
   {
    "duration": 601,
    "start_time": "2023-02-23T07:17:52.249Z"
   },
   {
    "duration": 12,
    "start_time": "2023-02-23T07:18:10.260Z"
   },
   {
    "duration": 433,
    "start_time": "2023-02-23T07:20:18.000Z"
   },
   {
    "duration": 1142,
    "start_time": "2023-02-23T07:27:34.934Z"
   },
   {
    "duration": 45,
    "start_time": "2023-02-23T07:27:36.078Z"
   },
   {
    "duration": 18,
    "start_time": "2023-02-23T07:27:36.125Z"
   },
   {
    "duration": 17,
    "start_time": "2023-02-23T07:27:36.144Z"
   },
   {
    "duration": 4,
    "start_time": "2023-02-23T07:27:36.162Z"
   },
   {
    "duration": 7,
    "start_time": "2023-02-23T07:27:36.167Z"
   },
   {
    "duration": 5,
    "start_time": "2023-02-23T07:27:36.175Z"
   },
   {
    "duration": 9,
    "start_time": "2023-02-23T07:27:36.181Z"
   },
   {
    "duration": 11,
    "start_time": "2023-02-23T07:27:36.192Z"
   },
   {
    "duration": 32,
    "start_time": "2023-02-23T07:27:36.205Z"
   },
   {
    "duration": 5,
    "start_time": "2023-02-23T07:27:36.239Z"
   },
   {
    "duration": 8,
    "start_time": "2023-02-23T07:27:36.246Z"
   },
   {
    "duration": 13,
    "start_time": "2023-02-23T07:27:36.255Z"
   },
   {
    "duration": 228,
    "start_time": "2023-02-23T07:27:36.269Z"
   },
   {
    "duration": 274,
    "start_time": "2023-02-23T07:27:36.498Z"
   },
   {
    "duration": 12,
    "start_time": "2023-02-23T07:27:36.774Z"
   },
   {
    "duration": 350,
    "start_time": "2023-02-23T07:27:36.788Z"
   },
   {
    "duration": 11,
    "start_time": "2023-02-23T07:27:37.139Z"
   },
   {
    "duration": 1625,
    "start_time": "2023-02-23T07:27:37.152Z"
   },
   {
    "duration": 25,
    "start_time": "2023-02-23T07:27:38.779Z"
   },
   {
    "duration": 4,
    "start_time": "2023-02-23T07:27:38.805Z"
   },
   {
    "duration": 255,
    "start_time": "2023-02-23T07:27:38.811Z"
   },
   {
    "duration": 6,
    "start_time": "2023-02-23T07:27:39.067Z"
   },
   {
    "duration": 204,
    "start_time": "2023-02-23T07:27:39.075Z"
   },
   {
    "duration": 424,
    "start_time": "2023-02-23T07:27:39.280Z"
   },
   {
    "duration": 208,
    "start_time": "2023-02-23T07:27:39.706Z"
   },
   {
    "duration": 269,
    "start_time": "2023-02-23T07:27:39.915Z"
   },
   {
    "duration": 144,
    "start_time": "2023-02-23T07:27:40.187Z"
   },
   {
    "duration": 162,
    "start_time": "2023-02-23T07:27:40.343Z"
   },
   {
    "duration": 245,
    "start_time": "2023-02-23T07:27:40.506Z"
   },
   {
    "duration": 4,
    "start_time": "2023-02-23T07:27:40.752Z"
   },
   {
    "duration": 403,
    "start_time": "2023-02-23T07:27:40.758Z"
   },
   {
    "duration": 406,
    "start_time": "2023-02-23T07:27:41.163Z"
   },
   {
    "duration": 278,
    "start_time": "2023-02-23T07:27:41.571Z"
   },
   {
    "duration": 175,
    "start_time": "2023-02-23T07:27:41.851Z"
   },
   {
    "duration": 200,
    "start_time": "2023-02-23T07:27:42.028Z"
   },
   {
    "duration": 193,
    "start_time": "2023-02-23T07:27:42.230Z"
   },
   {
    "duration": 244,
    "start_time": "2023-02-23T07:27:42.425Z"
   },
   {
    "duration": 268,
    "start_time": "2023-02-23T07:27:42.671Z"
   },
   {
    "duration": 195,
    "start_time": "2023-02-23T07:27:42.942Z"
   },
   {
    "duration": 4,
    "start_time": "2023-02-23T07:27:43.139Z"
   },
   {
    "duration": 166,
    "start_time": "2023-02-23T07:27:43.145Z"
   },
   {
    "duration": 10,
    "start_time": "2023-02-23T07:27:43.313Z"
   },
   {
    "duration": 16,
    "start_time": "2023-02-23T07:27:43.325Z"
   },
   {
    "duration": 4,
    "start_time": "2023-02-23T07:27:43.343Z"
   },
   {
    "duration": 45,
    "start_time": "2023-02-23T08:39:28.847Z"
   },
   {
    "duration": 7,
    "start_time": "2023-02-23T09:07:13.834Z"
   },
   {
    "duration": 1253,
    "start_time": "2023-02-23T09:07:28.153Z"
   },
   {
    "duration": 184,
    "start_time": "2023-02-23T09:07:29.408Z"
   },
   {
    "duration": 17,
    "start_time": "2023-02-23T09:07:29.594Z"
   },
   {
    "duration": 12,
    "start_time": "2023-02-23T09:07:29.613Z"
   },
   {
    "duration": 3,
    "start_time": "2023-02-23T09:07:29.627Z"
   },
   {
    "duration": 5,
    "start_time": "2023-02-23T09:07:29.632Z"
   },
   {
    "duration": 2,
    "start_time": "2023-02-23T09:07:30.635Z"
   },
   {
    "duration": 5,
    "start_time": "2023-02-23T09:07:30.823Z"
   },
   {
    "duration": 8,
    "start_time": "2023-02-23T09:07:31.770Z"
   },
   {
    "duration": 16,
    "start_time": "2023-02-23T09:07:33.244Z"
   },
   {
    "duration": 6,
    "start_time": "2023-02-23T09:07:34.208Z"
   },
   {
    "duration": 6,
    "start_time": "2023-02-23T09:07:34.621Z"
   },
   {
    "duration": 8,
    "start_time": "2023-02-23T09:07:36.354Z"
   },
   {
    "duration": 248,
    "start_time": "2023-02-23T09:07:36.721Z"
   },
   {
    "duration": 281,
    "start_time": "2023-02-23T09:07:38.627Z"
   },
   {
    "duration": 16,
    "start_time": "2023-02-23T09:07:40.236Z"
   },
   {
    "duration": 363,
    "start_time": "2023-02-23T09:07:40.862Z"
   },
   {
    "duration": 12,
    "start_time": "2023-02-23T09:07:43.128Z"
   },
   {
    "duration": 1734,
    "start_time": "2023-02-23T09:07:43.748Z"
   },
   {
    "duration": 31,
    "start_time": "2023-02-23T09:07:45.484Z"
   },
   {
    "duration": 4,
    "start_time": "2023-02-23T09:07:46.877Z"
   },
   {
    "duration": 237,
    "start_time": "2023-02-23T09:07:49.028Z"
   },
   {
    "duration": 6,
    "start_time": "2023-02-23T09:07:49.627Z"
   },
   {
    "duration": 218,
    "start_time": "2023-02-23T09:07:49.898Z"
   },
   {
    "duration": 12,
    "start_time": "2023-02-23T09:07:51.368Z"
   },
   {
    "duration": 430,
    "start_time": "2023-02-23T09:07:51.668Z"
   },
   {
    "duration": 210,
    "start_time": "2023-02-23T09:07:52.240Z"
   },
   {
    "duration": 262,
    "start_time": "2023-02-23T09:07:53.177Z"
   },
   {
    "duration": 151,
    "start_time": "2023-02-23T09:07:53.768Z"
   },
   {
    "duration": 164,
    "start_time": "2023-02-23T09:07:54.684Z"
   },
   {
    "duration": 241,
    "start_time": "2023-02-23T09:07:58.083Z"
   },
   {
    "duration": 4,
    "start_time": "2023-02-23T09:07:58.532Z"
   },
   {
    "duration": 419,
    "start_time": "2023-02-23T09:08:00.044Z"
   },
   {
    "duration": 409,
    "start_time": "2023-02-23T09:08:00.716Z"
   },
   {
    "duration": 265,
    "start_time": "2023-02-23T09:08:02.987Z"
   },
   {
    "duration": 163,
    "start_time": "2023-02-23T09:08:05.560Z"
   },
   {
    "duration": 172,
    "start_time": "2023-02-23T09:08:07.366Z"
   },
   {
    "duration": 168,
    "start_time": "2023-02-23T09:08:08.520Z"
   },
   {
    "duration": 177,
    "start_time": "2023-02-23T09:08:09.583Z"
   },
   {
    "duration": 251,
    "start_time": "2023-02-23T09:08:10.551Z"
   },
   {
    "duration": 182,
    "start_time": "2023-02-23T09:08:10.997Z"
   },
   {
    "duration": 4,
    "start_time": "2023-02-23T09:08:12.104Z"
   },
   {
    "duration": 156,
    "start_time": "2023-02-23T09:08:12.365Z"
   },
   {
    "duration": 11,
    "start_time": "2023-02-23T09:08:14.152Z"
   },
   {
    "duration": 12,
    "start_time": "2023-02-23T09:08:15.493Z"
   },
   {
    "duration": 5,
    "start_time": "2023-02-23T09:08:16.051Z"
   },
   {
    "duration": 4,
    "start_time": "2023-02-23T09:09:48.290Z"
   },
   {
    "duration": 70,
    "start_time": "2023-02-23T09:10:32.279Z"
   },
   {
    "duration": 13,
    "start_time": "2023-02-23T09:11:04.587Z"
   },
   {
    "duration": 15,
    "start_time": "2023-02-23T09:13:20.640Z"
   },
   {
    "duration": 4,
    "start_time": "2023-02-23T09:14:00.427Z"
   },
   {
    "duration": 220,
    "start_time": "2023-02-23T09:17:16.561Z"
   },
   {
    "duration": 157,
    "start_time": "2023-02-23T09:22:19.184Z"
   },
   {
    "duration": 168,
    "start_time": "2023-02-23T09:31:23.735Z"
   },
   {
    "duration": 157,
    "start_time": "2023-02-23T09:34:28.903Z"
   },
   {
    "duration": 146,
    "start_time": "2023-02-23T09:35:30.476Z"
   },
   {
    "duration": 143,
    "start_time": "2023-02-23T09:37:14.711Z"
   },
   {
    "duration": 147,
    "start_time": "2023-02-23T09:37:20.416Z"
   },
   {
    "duration": 150,
    "start_time": "2023-02-23T09:37:27.072Z"
   },
   {
    "duration": 129,
    "start_time": "2023-02-23T09:38:32.814Z"
   },
   {
    "duration": 138,
    "start_time": "2023-02-23T09:39:06.910Z"
   },
   {
    "duration": 15,
    "start_time": "2023-02-23T09:39:19.010Z"
   },
   {
    "duration": 134,
    "start_time": "2023-02-23T09:39:31.544Z"
   },
   {
    "duration": 218,
    "start_time": "2023-02-23T09:39:40.844Z"
   },
   {
    "duration": 136,
    "start_time": "2023-02-23T09:44:14.050Z"
   },
   {
    "duration": 170,
    "start_time": "2023-02-23T09:44:16.694Z"
   },
   {
    "duration": 135,
    "start_time": "2023-02-23T09:44:18.790Z"
   },
   {
    "duration": 124,
    "start_time": "2023-02-23T09:44:20.267Z"
   },
   {
    "duration": 145,
    "start_time": "2023-02-23T09:44:21.691Z"
   },
   {
    "duration": 161,
    "start_time": "2023-02-23T09:44:32.651Z"
   },
   {
    "duration": 6,
    "start_time": "2023-02-23T09:45:06.400Z"
   },
   {
    "duration": 4,
    "start_time": "2023-02-23T09:45:34.779Z"
   },
   {
    "duration": 6,
    "start_time": "2023-02-23T09:45:56.235Z"
   },
   {
    "duration": 178,
    "start_time": "2023-02-23T09:45:57.705Z"
   },
   {
    "duration": 165,
    "start_time": "2023-02-23T09:46:20.757Z"
   },
   {
    "duration": 153,
    "start_time": "2023-02-23T10:17:32.916Z"
   },
   {
    "duration": 1511,
    "start_time": "2023-02-23T14:07:37.483Z"
   },
   {
    "duration": 201,
    "start_time": "2023-02-23T14:07:38.997Z"
   },
   {
    "duration": 21,
    "start_time": "2023-02-23T14:07:39.200Z"
   },
   {
    "duration": 21,
    "start_time": "2023-02-23T14:07:39.223Z"
   },
   {
    "duration": 18,
    "start_time": "2023-02-23T14:07:39.246Z"
   },
   {
    "duration": 8,
    "start_time": "2023-02-23T14:07:39.266Z"
   },
   {
    "duration": 13,
    "start_time": "2023-02-23T14:07:39.275Z"
   },
   {
    "duration": 12,
    "start_time": "2023-02-23T14:07:39.290Z"
   },
   {
    "duration": 34,
    "start_time": "2023-02-23T14:07:39.306Z"
   },
   {
    "duration": 48,
    "start_time": "2023-02-23T14:07:39.344Z"
   },
   {
    "duration": 9,
    "start_time": "2023-02-23T14:07:39.394Z"
   },
   {
    "duration": 16,
    "start_time": "2023-02-23T14:07:39.405Z"
   },
   {
    "duration": 14,
    "start_time": "2023-02-23T14:07:39.424Z"
   },
   {
    "duration": 261,
    "start_time": "2023-02-23T14:07:39.441Z"
   },
   {
    "duration": 336,
    "start_time": "2023-02-23T14:07:39.704Z"
   },
   {
    "duration": 13,
    "start_time": "2023-02-23T14:07:40.041Z"
   },
   {
    "duration": 410,
    "start_time": "2023-02-23T14:07:40.056Z"
   },
   {
    "duration": 18,
    "start_time": "2023-02-23T14:07:40.467Z"
   },
   {
    "duration": 1905,
    "start_time": "2023-02-23T14:07:40.489Z"
   },
   {
    "duration": 28,
    "start_time": "2023-02-23T14:07:42.395Z"
   },
   {
    "duration": 5,
    "start_time": "2023-02-23T14:07:42.436Z"
   },
   {
    "duration": 318,
    "start_time": "2023-02-23T14:07:42.443Z"
   },
   {
    "duration": 7,
    "start_time": "2023-02-23T14:07:42.763Z"
   },
   {
    "duration": 247,
    "start_time": "2023-02-23T14:07:42.772Z"
   },
   {
    "duration": 3,
    "start_time": "2023-02-23T14:07:43.021Z"
   },
   {
    "duration": 634,
    "start_time": "2023-02-23T14:07:43.027Z"
   },
   {
    "duration": 263,
    "start_time": "2023-02-23T14:07:43.663Z"
   },
   {
    "duration": 323,
    "start_time": "2023-02-23T14:07:43.932Z"
   },
   {
    "duration": 217,
    "start_time": "2023-02-23T14:07:44.257Z"
   },
   {
    "duration": 204,
    "start_time": "2023-02-23T14:07:44.476Z"
   },
   {
    "duration": 353,
    "start_time": "2023-02-23T14:07:44.683Z"
   },
   {
    "duration": 4,
    "start_time": "2023-02-23T14:07:45.039Z"
   },
   {
    "duration": 548,
    "start_time": "2023-02-23T14:07:45.045Z"
   },
   {
    "duration": 492,
    "start_time": "2023-02-23T14:07:45.596Z"
   },
   {
    "duration": 299,
    "start_time": "2023-02-23T14:07:46.090Z"
   },
   {
    "duration": 177,
    "start_time": "2023-02-23T14:07:46.391Z"
   },
   {
    "duration": 176,
    "start_time": "2023-02-23T14:07:46.570Z"
   },
   {
    "duration": 173,
    "start_time": "2023-02-23T14:07:46.748Z"
   },
   {
    "duration": 167,
    "start_time": "2023-02-23T14:07:46.923Z"
   },
   {
    "duration": 153,
    "start_time": "2023-02-23T14:07:47.091Z"
   },
   {
    "duration": 273,
    "start_time": "2023-02-23T14:07:47.246Z"
   },
   {
    "duration": 4,
    "start_time": "2023-02-23T14:07:47.521Z"
   },
   {
    "duration": 186,
    "start_time": "2023-02-23T14:07:47.537Z"
   },
   {
    "duration": 19,
    "start_time": "2023-02-23T14:07:47.725Z"
   },
   {
    "duration": 44,
    "start_time": "2023-02-23T14:07:47.746Z"
   },
   {
    "duration": 20,
    "start_time": "2023-02-23T14:07:47.792Z"
   },
   {
    "duration": 124,
    "start_time": "2023-02-23T14:09:25.040Z"
   },
   {
    "duration": 3,
    "start_time": "2023-02-23T14:09:46.404Z"
   },
   {
    "duration": 196,
    "start_time": "2023-02-23T14:12:21.751Z"
   },
   {
    "duration": 1420,
    "start_time": "2023-11-02T12:17:59.318Z"
   },
   {
    "duration": 99,
    "start_time": "2023-11-02T12:18:00.740Z"
   },
   {
    "duration": 25,
    "start_time": "2023-11-02T12:18:00.840Z"
   },
   {
    "duration": 48,
    "start_time": "2023-11-02T12:18:00.867Z"
   },
   {
    "duration": 3,
    "start_time": "2023-11-02T12:18:02.725Z"
   },
   {
    "duration": 4,
    "start_time": "2023-11-02T12:18:03.455Z"
   },
   {
    "duration": 3,
    "start_time": "2023-11-02T12:18:06.494Z"
   },
   {
    "duration": 104,
    "start_time": "2023-11-02T12:19:38.356Z"
   },
   {
    "duration": 2,
    "start_time": "2023-11-02T12:20:28.690Z"
   },
   {
    "duration": 7,
    "start_time": "2023-11-02T12:35:12.045Z"
   },
   {
    "duration": 6,
    "start_time": "2023-11-02T12:35:12.827Z"
   },
   {
    "duration": 29,
    "start_time": "2023-11-02T12:35:37.219Z"
   },
   {
    "duration": 22,
    "start_time": "2023-11-02T12:40:35.715Z"
   },
   {
    "duration": 22,
    "start_time": "2023-11-02T12:40:44.760Z"
   },
   {
    "duration": 8,
    "start_time": "2023-11-02T12:43:34.033Z"
   },
   {
    "duration": 10,
    "start_time": "2023-11-02T12:53:33.069Z"
   },
   {
    "duration": 236,
    "start_time": "2023-11-02T12:53:35.660Z"
   },
   {
    "duration": 11,
    "start_time": "2023-11-02T12:53:36.953Z"
   },
   {
    "duration": 285,
    "start_time": "2023-11-02T12:53:48.405Z"
   },
   {
    "duration": 1328,
    "start_time": "2023-11-17T13:15:28.735Z"
   },
   {
    "duration": 206,
    "start_time": "2023-11-17T13:15:30.065Z"
   },
   {
    "duration": 17,
    "start_time": "2023-11-17T13:15:30.273Z"
   },
   {
    "duration": 33,
    "start_time": "2023-11-17T13:15:30.292Z"
   },
   {
    "duration": 4,
    "start_time": "2023-11-17T13:15:32.187Z"
   },
   {
    "duration": 4,
    "start_time": "2023-11-17T13:15:32.912Z"
   },
   {
    "duration": 120,
    "start_time": "2023-11-17T13:15:34.616Z"
   },
   {
    "duration": 5,
    "start_time": "2023-11-17T13:15:36.276Z"
   },
   {
    "duration": 8,
    "start_time": "2023-11-17T13:15:37.124Z"
   },
   {
    "duration": 16,
    "start_time": "2023-11-17T13:15:37.858Z"
   },
   {
    "duration": 5,
    "start_time": "2023-11-17T13:15:38.257Z"
   },
   {
    "duration": 7,
    "start_time": "2023-11-17T13:15:39.613Z"
   },
   {
    "duration": 245,
    "start_time": "2023-11-17T13:15:40.014Z"
   },
   {
    "duration": 302,
    "start_time": "2023-11-17T13:15:41.360Z"
   },
   {
    "duration": 14,
    "start_time": "2023-11-17T13:15:44.612Z"
   },
   {
    "duration": 370,
    "start_time": "2023-11-17T13:15:45.063Z"
   },
   {
    "duration": 12,
    "start_time": "2023-11-17T13:15:45.569Z"
   },
   {
    "duration": 1788,
    "start_time": "2023-11-17T13:15:46.057Z"
   },
   {
    "duration": 27,
    "start_time": "2023-11-17T13:15:47.846Z"
   },
   {
    "duration": 4,
    "start_time": "2023-11-17T13:15:48.719Z"
   },
   {
    "duration": 265,
    "start_time": "2023-11-17T13:15:49.759Z"
   },
   {
    "duration": 6,
    "start_time": "2023-11-17T13:15:50.777Z"
   },
   {
    "duration": 211,
    "start_time": "2023-11-17T13:15:51.480Z"
   },
   {
    "duration": 1458,
    "start_time": "2023-11-18T15:12:45.873Z"
   },
   {
    "duration": 95,
    "start_time": "2023-11-18T15:12:47.332Z"
   },
   {
    "duration": 17,
    "start_time": "2023-11-18T15:12:47.429Z"
   },
   {
    "duration": 14,
    "start_time": "2023-11-18T15:12:47.448Z"
   },
   {
    "duration": 3,
    "start_time": "2023-11-18T15:12:48.327Z"
   },
   {
    "duration": 3,
    "start_time": "2023-11-18T15:12:48.826Z"
   },
   {
    "duration": 105,
    "start_time": "2023-11-18T15:12:50.046Z"
   },
   {
    "duration": 1406,
    "start_time": "2023-11-24T12:12:58.459Z"
   },
   {
    "duration": 97,
    "start_time": "2023-11-24T12:12:59.867Z"
   },
   {
    "duration": 25,
    "start_time": "2023-11-24T12:12:59.966Z"
   },
   {
    "duration": 66,
    "start_time": "2023-11-24T12:12:59.993Z"
   },
   {
    "duration": 4,
    "start_time": "2023-11-24T12:13:01.906Z"
   },
   {
    "duration": 4,
    "start_time": "2023-11-24T12:13:02.528Z"
   },
   {
    "duration": 122,
    "start_time": "2023-11-24T12:13:05.137Z"
   },
   {
    "duration": 14,
    "start_time": "2023-11-24T12:13:13.934Z"
   },
   {
    "duration": 5,
    "start_time": "2023-11-24T12:13:23.416Z"
   },
   {
    "duration": 6,
    "start_time": "2023-11-24T12:13:23.886Z"
   },
   {
    "duration": 9,
    "start_time": "2023-11-24T12:13:24.557Z"
   },
   {
    "duration": 18,
    "start_time": "2023-11-24T12:18:31.966Z"
   },
   {
    "duration": 8,
    "start_time": "2023-11-24T12:18:37.385Z"
   },
   {
    "duration": 239,
    "start_time": "2023-11-24T12:18:37.883Z"
   },
   {
    "duration": 16,
    "start_time": "2023-11-24T12:18:39.046Z"
   },
   {
    "duration": 5,
    "start_time": "2023-11-24T12:18:42.495Z"
   },
   {
    "duration": 4,
    "start_time": "2023-11-24T12:18:43.111Z"
   },
   {
    "duration": 14,
    "start_time": "2023-11-24T12:18:43.678Z"
   },
   {
    "duration": 16,
    "start_time": "2023-11-24T12:18:44.788Z"
   },
   {
    "duration": 7,
    "start_time": "2023-11-24T12:18:45.158Z"
   },
   {
    "duration": 8,
    "start_time": "2023-11-24T12:18:46.168Z"
   },
   {
    "duration": 245,
    "start_time": "2023-11-24T12:18:46.475Z"
   },
   {
    "duration": 344,
    "start_time": "2023-11-24T12:18:47.177Z"
   },
   {
    "duration": 20,
    "start_time": "2023-11-24T12:18:48.990Z"
   },
   {
    "duration": 391,
    "start_time": "2023-11-24T12:18:49.721Z"
   },
   {
    "duration": 14,
    "start_time": "2023-11-24T12:18:50.874Z"
   },
   {
    "duration": 2014,
    "start_time": "2023-11-24T12:18:51.572Z"
   },
   {
    "duration": 311,
    "start_time": "2023-11-24T12:19:12.923Z"
   },
   {
    "duration": 315,
    "start_time": "2023-11-24T12:19:58.631Z"
   },
   {
    "duration": 311,
    "start_time": "2023-11-24T12:20:04.361Z"
   },
   {
    "duration": 316,
    "start_time": "2023-11-24T12:20:11.168Z"
   },
   {
    "duration": 304,
    "start_time": "2023-11-24T12:20:21.452Z"
   },
   {
    "duration": 19,
    "start_time": "2023-11-24T12:21:28.620Z"
   },
   {
    "duration": 466,
    "start_time": "2023-11-24T12:21:28.937Z"
   },
   {
    "duration": 82,
    "start_time": "2023-11-24T12:37:21.567Z"
   },
   {
    "duration": 275,
    "start_time": "2023-11-24T12:37:40.634Z"
   },
   {
    "duration": 285,
    "start_time": "2023-11-24T12:38:03.259Z"
   },
   {
    "duration": 404,
    "start_time": "2023-11-24T12:38:35.624Z"
   },
   {
    "duration": 12,
    "start_time": "2023-11-24T12:39:49.376Z"
   },
   {
    "duration": 1923,
    "start_time": "2023-11-24T12:39:50.284Z"
   },
   {
    "duration": 27,
    "start_time": "2023-11-24T12:39:57.184Z"
   },
   {
    "duration": 25,
    "start_time": "2023-11-24T12:40:32.336Z"
   },
   {
    "duration": 5,
    "start_time": "2023-11-24T12:40:33.887Z"
   },
   {
    "duration": 182,
    "start_time": "2023-11-24T12:40:34.344Z"
   },
   {
    "duration": 604,
    "start_time": "2023-11-24T12:40:35.404Z"
   },
   {
    "duration": 292,
    "start_time": "2023-11-24T12:40:38.825Z"
   },
   {
    "duration": 10,
    "start_time": "2023-11-24T12:46:40.926Z"
   },
   {
    "duration": 493,
    "start_time": "2023-11-24T12:46:48.593Z"
   },
   {
    "duration": 292,
    "start_time": "2023-11-24T12:46:49.585Z"
   },
   {
    "duration": 11,
    "start_time": "2023-11-24T12:46:51.851Z"
   },
   {
    "duration": 14,
    "start_time": "2023-11-24T12:46:53.695Z"
   },
   {
    "duration": 13,
    "start_time": "2023-11-24T12:47:08.131Z"
   },
   {
    "duration": 9,
    "start_time": "2023-11-24T12:47:08.972Z"
   },
   {
    "duration": 452,
    "start_time": "2023-11-24T12:47:12.411Z"
   },
   {
    "duration": 557,
    "start_time": "2023-11-24T12:47:14.059Z"
   },
   {
    "duration": 77,
    "start_time": "2023-11-24T12:48:45.774Z"
   },
   {
    "duration": 48,
    "start_time": "2023-11-24T12:48:52.831Z"
   },
   {
    "duration": 12,
    "start_time": "2023-11-24T12:48:58.922Z"
   },
   {
    "duration": 13,
    "start_time": "2023-11-24T12:48:59.513Z"
   },
   {
    "duration": 10,
    "start_time": "2023-11-24T12:48:59.831Z"
   },
   {
    "duration": 53,
    "start_time": "2023-11-24T12:49:01.081Z"
   },
   {
    "duration": 460,
    "start_time": "2023-11-24T12:49:01.806Z"
   },
   {
    "duration": 292,
    "start_time": "2023-11-24T12:49:03.457Z"
   },
   {
    "duration": 136,
    "start_time": "2023-11-24T12:49:06.131Z"
   },
   {
    "duration": 152,
    "start_time": "2023-11-24T12:49:08.723Z"
   },
   {
    "duration": 143,
    "start_time": "2023-11-24T12:49:09.899Z"
   },
   {
    "duration": 9,
    "start_time": "2023-11-24T12:49:49.750Z"
   },
   {
    "duration": 465,
    "start_time": "2023-11-24T12:50:38.632Z"
   },
   {
    "duration": 297,
    "start_time": "2023-11-24T12:50:39.779Z"
   },
   {
    "duration": 9,
    "start_time": "2023-11-24T12:50:42.464Z"
   },
   {
    "duration": 12,
    "start_time": "2023-11-24T12:50:44.439Z"
   },
   {
    "duration": 65,
    "start_time": "2023-11-24T12:53:00.722Z"
   },
   {
    "duration": 1164,
    "start_time": "2023-11-24T12:53:29.057Z"
   },
   {
    "duration": 58,
    "start_time": "2023-11-24T12:53:30.224Z"
   },
   {
    "duration": 19,
    "start_time": "2023-11-24T12:53:30.284Z"
   },
   {
    "duration": 44,
    "start_time": "2023-11-24T12:53:30.304Z"
   },
   {
    "duration": 21,
    "start_time": "2023-11-24T12:53:30.351Z"
   },
   {
    "duration": 33,
    "start_time": "2023-11-24T12:53:30.374Z"
   },
   {
    "duration": 40,
    "start_time": "2023-11-24T12:53:30.409Z"
   },
   {
    "duration": 54,
    "start_time": "2023-11-24T12:53:30.451Z"
   },
   {
    "duration": 45,
    "start_time": "2023-11-24T12:53:30.507Z"
   },
   {
    "duration": 77,
    "start_time": "2023-11-24T12:53:30.553Z"
   },
   {
    "duration": 80,
    "start_time": "2023-11-24T12:53:30.632Z"
   },
   {
    "duration": 37,
    "start_time": "2023-11-24T12:53:30.714Z"
   },
   {
    "duration": 301,
    "start_time": "2023-11-24T12:53:30.753Z"
   },
   {
    "duration": 330,
    "start_time": "2023-11-24T12:53:31.058Z"
   },
   {
    "duration": 397,
    "start_time": "2023-11-24T12:53:31.390Z"
   },
   {
    "duration": 20,
    "start_time": "2023-11-24T12:53:31.788Z"
   },
   {
    "duration": 1868,
    "start_time": "2023-11-24T12:53:31.810Z"
   },
   {
    "duration": 33,
    "start_time": "2023-11-24T12:53:33.680Z"
   },
   {
    "duration": 5,
    "start_time": "2023-11-24T12:53:33.714Z"
   },
   {
    "duration": 281,
    "start_time": "2023-11-24T12:53:33.720Z"
   },
   {
    "duration": 476,
    "start_time": "2023-11-24T12:53:34.006Z"
   },
   {
    "duration": 310,
    "start_time": "2023-11-24T12:53:34.485Z"
   },
   {
    "duration": 116,
    "start_time": "2023-11-24T12:53:34.798Z"
   },
   {
    "duration": 0,
    "start_time": "2023-11-24T12:53:34.916Z"
   },
   {
    "duration": 0,
    "start_time": "2023-11-24T12:53:34.918Z"
   },
   {
    "duration": 0,
    "start_time": "2023-11-24T12:53:34.919Z"
   },
   {
    "duration": 0,
    "start_time": "2023-11-24T12:53:34.921Z"
   },
   {
    "duration": 0,
    "start_time": "2023-11-24T12:53:34.922Z"
   },
   {
    "duration": 0,
    "start_time": "2023-11-24T12:53:34.924Z"
   },
   {
    "duration": 0,
    "start_time": "2023-11-24T12:53:34.925Z"
   },
   {
    "duration": 0,
    "start_time": "2023-11-24T12:53:34.926Z"
   },
   {
    "duration": 0,
    "start_time": "2023-11-24T12:53:34.927Z"
   },
   {
    "duration": 0,
    "start_time": "2023-11-24T12:53:34.928Z"
   },
   {
    "duration": 0,
    "start_time": "2023-11-24T12:53:34.929Z"
   },
   {
    "duration": 0,
    "start_time": "2023-11-24T12:53:34.930Z"
   },
   {
    "duration": 0,
    "start_time": "2023-11-24T12:53:34.932Z"
   },
   {
    "duration": 0,
    "start_time": "2023-11-24T12:53:34.933Z"
   },
   {
    "duration": 0,
    "start_time": "2023-11-24T12:53:34.934Z"
   },
   {
    "duration": 0,
    "start_time": "2023-11-24T12:53:34.935Z"
   },
   {
    "duration": 0,
    "start_time": "2023-11-24T12:53:34.936Z"
   },
   {
    "duration": 3,
    "start_time": "2023-11-24T12:53:37.093Z"
   },
   {
    "duration": 54,
    "start_time": "2023-11-24T12:53:37.311Z"
   },
   {
    "duration": 14,
    "start_time": "2023-11-24T12:53:37.555Z"
   },
   {
    "duration": 15,
    "start_time": "2023-11-24T12:53:37.805Z"
   },
   {
    "duration": 3,
    "start_time": "2023-11-24T12:53:38.762Z"
   },
   {
    "duration": 3,
    "start_time": "2023-11-24T12:53:39.116Z"
   },
   {
    "duration": 5,
    "start_time": "2023-11-24T12:53:40.311Z"
   },
   {
    "duration": 6,
    "start_time": "2023-11-24T12:53:41.149Z"
   },
   {
    "duration": 10,
    "start_time": "2023-11-24T12:53:41.949Z"
   },
   {
    "duration": 17,
    "start_time": "2023-11-24T12:53:43.064Z"
   },
   {
    "duration": 6,
    "start_time": "2023-11-24T12:53:43.438Z"
   },
   {
    "duration": 8,
    "start_time": "2023-11-24T12:53:44.739Z"
   },
   {
    "duration": 233,
    "start_time": "2023-11-24T12:53:45.124Z"
   },
   {
    "duration": 299,
    "start_time": "2023-11-24T12:53:46.022Z"
   },
   {
    "duration": 464,
    "start_time": "2023-11-24T12:53:47.841Z"
   },
   {
    "duration": 13,
    "start_time": "2023-11-24T12:53:48.533Z"
   },
   {
    "duration": 1819,
    "start_time": "2023-11-24T12:53:49.396Z"
   },
   {
    "duration": 29,
    "start_time": "2023-11-24T12:53:51.218Z"
   },
   {
    "duration": 4,
    "start_time": "2023-11-24T12:53:52.890Z"
   },
   {
    "duration": 186,
    "start_time": "2023-11-24T12:53:53.411Z"
   },
   {
    "duration": 484,
    "start_time": "2023-11-24T12:53:55.064Z"
   },
   {
    "duration": 303,
    "start_time": "2023-11-24T12:53:57.387Z"
   },
   {
    "duration": 9,
    "start_time": "2023-11-24T12:54:00.132Z"
   },
   {
    "duration": 12,
    "start_time": "2023-11-24T12:54:11.026Z"
   },
   {
    "duration": 12,
    "start_time": "2023-11-24T12:54:12.152Z"
   },
   {
    "duration": 9,
    "start_time": "2023-11-24T12:54:12.857Z"
   },
   {
    "duration": 78,
    "start_time": "2023-11-24T12:54:15.093Z"
   },
   {
    "duration": 67,
    "start_time": "2023-11-24T12:55:00.564Z"
   },
   {
    "duration": 50,
    "start_time": "2023-11-24T12:55:21.937Z"
   },
   {
    "duration": 724,
    "start_time": "2023-11-24T12:55:33.325Z"
   },
   {
    "duration": 654,
    "start_time": "2023-11-24T12:55:55.329Z"
   },
   {
    "duration": 600,
    "start_time": "2023-11-24T13:02:05.615Z"
   },
   {
    "duration": 47,
    "start_time": "2023-11-26T11:00:55.222Z"
   },
   {
    "duration": 1354,
    "start_time": "2023-11-26T11:01:02.388Z"
   },
   {
    "duration": 182,
    "start_time": "2023-11-26T11:01:03.744Z"
   },
   {
    "duration": 18,
    "start_time": "2023-11-26T11:01:03.928Z"
   },
   {
    "duration": 17,
    "start_time": "2023-11-26T11:01:03.948Z"
   },
   {
    "duration": 3,
    "start_time": "2023-11-26T11:01:04.023Z"
   },
   {
    "duration": 3,
    "start_time": "2023-11-26T11:01:04.798Z"
   },
   {
    "duration": 5,
    "start_time": "2023-11-26T11:01:06.475Z"
   },
   {
    "duration": 6,
    "start_time": "2023-11-26T11:01:07.390Z"
   },
   {
    "duration": 9,
    "start_time": "2023-11-26T11:01:08.488Z"
   },
   {
    "duration": 16,
    "start_time": "2023-11-26T11:01:10.450Z"
   },
   {
    "duration": 6,
    "start_time": "2023-11-26T11:01:10.994Z"
   },
   {
    "duration": 7,
    "start_time": "2023-11-26T11:01:12.589Z"
   },
   {
    "duration": 231,
    "start_time": "2023-11-26T11:01:13.270Z"
   },
   {
    "duration": 5,
    "start_time": "2023-11-26T11:01:14.170Z"
   },
   {
    "duration": 2,
    "start_time": "2023-11-26T13:34:21.990Z"
   },
   {
    "duration": 51,
    "start_time": "2023-11-26T13:34:22.137Z"
   },
   {
    "duration": 13,
    "start_time": "2023-11-26T13:34:22.442Z"
   },
   {
    "duration": 16,
    "start_time": "2023-11-26T13:34:22.489Z"
   },
   {
    "duration": 3,
    "start_time": "2023-11-26T13:34:23.174Z"
   },
   {
    "duration": 3,
    "start_time": "2023-11-26T13:34:23.493Z"
   },
   {
    "duration": 5,
    "start_time": "2023-11-26T13:34:24.537Z"
   },
   {
    "duration": 5,
    "start_time": "2023-11-26T13:34:24.931Z"
   },
   {
    "duration": 8,
    "start_time": "2023-11-26T13:34:25.246Z"
   },
   {
    "duration": 14,
    "start_time": "2023-11-26T13:34:26.006Z"
   },
   {
    "duration": 6,
    "start_time": "2023-11-26T13:34:26.266Z"
   },
   {
    "duration": 7,
    "start_time": "2023-11-26T13:34:27.243Z"
   },
   {
    "duration": 205,
    "start_time": "2023-11-26T13:34:27.519Z"
   },
   {
    "duration": 292,
    "start_time": "2023-11-26T13:34:28.083Z"
   },
   {
    "duration": 361,
    "start_time": "2023-11-26T13:34:29.779Z"
   },
   {
    "duration": 12,
    "start_time": "2023-11-26T13:34:30.141Z"
   },
   {
    "duration": 1683,
    "start_time": "2023-11-26T13:34:30.629Z"
   },
   {
    "duration": 24,
    "start_time": "2023-11-26T13:34:32.314Z"
   },
   {
    "duration": 4,
    "start_time": "2023-11-26T13:34:33.562Z"
   },
   {
    "duration": 254,
    "start_time": "2023-11-26T13:34:34.030Z"
   },
   {
    "duration": 413,
    "start_time": "2023-11-26T13:34:35.050Z"
   },
   {
    "duration": 259,
    "start_time": "2023-11-26T13:34:36.673Z"
   },
   {
    "duration": 533,
    "start_time": "2023-11-26T13:34:41.140Z"
   },
   {
    "duration": 542,
    "start_time": "2023-11-26T13:34:52.301Z"
   },
   {
    "duration": 357,
    "start_time": "2023-11-26T14:50:22.756Z"
   },
   {
    "duration": 539,
    "start_time": "2023-11-26T15:18:52.902Z"
   },
   {
    "duration": 563,
    "start_time": "2023-11-26T15:18:54.819Z"
   },
   {
    "duration": 129,
    "start_time": "2023-11-26T15:21:41.565Z"
   },
   {
    "duration": 112,
    "start_time": "2023-11-26T15:49:54.686Z"
   },
   {
    "duration": 4,
    "start_time": "2023-11-26T15:50:09.787Z"
   },
   {
    "duration": 8,
    "start_time": "2023-11-26T15:50:45.177Z"
   },
   {
    "duration": 124,
    "start_time": "2023-11-26T15:51:01.236Z"
   },
   {
    "duration": 4,
    "start_time": "2023-11-26T15:53:32.958Z"
   },
   {
    "duration": 121,
    "start_time": "2023-11-26T15:53:34.168Z"
   },
   {
    "duration": 4,
    "start_time": "2023-11-26T15:54:11.026Z"
   },
   {
    "duration": 126,
    "start_time": "2023-11-26T15:54:11.946Z"
   },
   {
    "duration": 4,
    "start_time": "2023-11-26T15:54:33.657Z"
   },
   {
    "duration": 128,
    "start_time": "2023-11-26T15:54:40.058Z"
   },
   {
    "duration": 215,
    "start_time": "2023-11-26T15:56:10.126Z"
   },
   {
    "duration": 3,
    "start_time": "2023-11-26T15:59:57.827Z"
   },
   {
    "duration": 124,
    "start_time": "2023-11-26T15:59:58.758Z"
   },
   {
    "duration": 4,
    "start_time": "2023-11-26T16:06:48.867Z"
   },
   {
    "duration": 4,
    "start_time": "2023-11-26T16:07:28.651Z"
   },
   {
    "duration": 4,
    "start_time": "2023-11-26T16:07:39.438Z"
   },
   {
    "duration": 14,
    "start_time": "2023-11-26T16:10:48.618Z"
   },
   {
    "duration": 4,
    "start_time": "2023-11-26T16:11:04.403Z"
   },
   {
    "duration": 12,
    "start_time": "2023-11-26T16:11:04.867Z"
   },
   {
    "duration": 9,
    "start_time": "2023-11-26T16:12:03.466Z"
   },
   {
    "duration": 129,
    "start_time": "2023-11-26T16:12:17.442Z"
   },
   {
    "duration": 3,
    "start_time": "2023-11-26T16:12:21.119Z"
   },
   {
    "duration": 140,
    "start_time": "2023-11-26T16:12:21.747Z"
   },
   {
    "duration": 4,
    "start_time": "2023-11-26T16:25:50.786Z"
   },
   {
    "duration": 129,
    "start_time": "2023-11-26T16:27:24.559Z"
   },
   {
    "duration": 139,
    "start_time": "2023-11-26T16:27:48.862Z"
   },
   {
    "duration": 122,
    "start_time": "2023-11-26T16:29:06.224Z"
   },
   {
    "duration": 132,
    "start_time": "2023-11-26T16:29:06.747Z"
   },
   {
    "duration": 4,
    "start_time": "2023-11-26T16:43:04.575Z"
   },
   {
    "duration": 156,
    "start_time": "2023-11-26T16:43:05.281Z"
   },
   {
    "duration": 4,
    "start_time": "2023-11-26T16:51:19.084Z"
   },
   {
    "duration": 155,
    "start_time": "2023-11-26T16:51:22.647Z"
   },
   {
    "duration": 167,
    "start_time": "2023-11-26T16:53:30.070Z"
   },
   {
    "duration": 160,
    "start_time": "2023-11-26T16:54:10.033Z"
   },
   {
    "duration": 50,
    "start_time": "2023-11-27T09:50:50.179Z"
   },
   {
    "duration": 2058,
    "start_time": "2023-11-27T09:53:38.125Z"
   },
   {
    "duration": 95,
    "start_time": "2023-11-27T09:53:40.185Z"
   },
   {
    "duration": 18,
    "start_time": "2023-11-27T09:53:40.281Z"
   },
   {
    "duration": 14,
    "start_time": "2023-11-27T09:53:40.300Z"
   },
   {
    "duration": 8,
    "start_time": "2023-11-27T09:53:40.315Z"
   },
   {
    "duration": 13,
    "start_time": "2023-11-27T09:53:40.325Z"
   },
   {
    "duration": 6,
    "start_time": "2023-11-27T09:53:41.768Z"
   },
   {
    "duration": 5,
    "start_time": "2023-11-27T09:53:42.554Z"
   },
   {
    "duration": 9,
    "start_time": "2023-11-27T09:53:44.365Z"
   },
   {
    "duration": 17,
    "start_time": "2023-11-27T09:53:46.564Z"
   },
   {
    "duration": 6,
    "start_time": "2023-11-27T09:53:46.990Z"
   },
   {
    "duration": 7,
    "start_time": "2023-11-27T09:53:48.403Z"
   },
   {
    "duration": 225,
    "start_time": "2023-11-27T09:53:48.763Z"
   },
   {
    "duration": 275,
    "start_time": "2023-11-27T09:53:49.377Z"
   },
   {
    "duration": 367,
    "start_time": "2023-11-27T09:53:50.257Z"
   },
   {
    "duration": 11,
    "start_time": "2023-11-27T09:53:50.978Z"
   },
   {
    "duration": 1723,
    "start_time": "2023-11-27T09:53:50.990Z"
   },
   {
    "duration": 28,
    "start_time": "2023-11-27T09:53:52.715Z"
   },
   {
    "duration": 4,
    "start_time": "2023-11-27T09:53:52.744Z"
   },
   {
    "duration": 246,
    "start_time": "2023-11-27T09:53:52.932Z"
   },
   {
    "duration": 420,
    "start_time": "2023-11-27T09:53:53.562Z"
   },
   {
    "duration": 271,
    "start_time": "2023-11-27T09:53:54.128Z"
   },
   {
    "duration": 562,
    "start_time": "2023-11-27T09:53:55.547Z"
   },
   {
    "duration": 544,
    "start_time": "2023-11-27T09:53:56.559Z"
   },
   {
    "duration": 141,
    "start_time": "2023-11-27T09:53:57.456Z"
   },
   {
    "duration": 360,
    "start_time": "2023-11-27T09:53:57.742Z"
   },
   {
    "duration": 3,
    "start_time": "2023-11-27T09:53:58.929Z"
   },
   {
    "duration": 4,
    "start_time": "2023-11-27T09:54:02.977Z"
   },
   {
    "duration": 128,
    "start_time": "2023-11-27T09:54:04.189Z"
   },
   {
    "duration": 139,
    "start_time": "2023-11-27T09:54:04.861Z"
   },
   {
    "duration": 134,
    "start_time": "2023-11-27T09:54:07.151Z"
   },
   {
    "duration": 137,
    "start_time": "2023-11-27T09:54:07.843Z"
   },
   {
    "duration": 79,
    "start_time": "2023-11-27T09:54:08.738Z"
   },
   {
    "duration": 134,
    "start_time": "2023-11-27T09:54:10.067Z"
   },
   {
    "duration": 135,
    "start_time": "2023-11-27T09:54:10.873Z"
   },
   {
    "duration": 5,
    "start_time": "2023-11-27T09:54:13.635Z"
   },
   {
    "duration": 160,
    "start_time": "2023-11-27T09:54:15.166Z"
   },
   {
    "duration": 11,
    "start_time": "2023-11-27T09:54:21.554Z"
   },
   {
    "duration": 9,
    "start_time": "2023-11-27T09:54:26.933Z"
   },
   {
    "duration": 5,
    "start_time": "2023-11-27T09:54:29.026Z"
   },
   {
    "duration": 10,
    "start_time": "2023-11-27T11:01:38.346Z"
   },
   {
    "duration": 6,
    "start_time": "2023-11-27T11:01:39.295Z"
   },
   {
    "duration": 3,
    "start_time": "2023-11-27T11:02:16.074Z"
   },
   {
    "duration": 53,
    "start_time": "2023-11-27T11:02:16.510Z"
   },
   {
    "duration": 16,
    "start_time": "2023-11-27T11:02:16.980Z"
   },
   {
    "duration": 15,
    "start_time": "2023-11-27T11:02:17.560Z"
   },
   {
    "duration": 3,
    "start_time": "2023-11-27T11:02:19.288Z"
   },
   {
    "duration": 3,
    "start_time": "2023-11-27T11:02:19.816Z"
   },
   {
    "duration": 5,
    "start_time": "2023-11-27T11:02:21.667Z"
   },
   {
    "duration": 9,
    "start_time": "2023-11-27T11:02:25.528Z"
   },
   {
    "duration": 9,
    "start_time": "2023-11-27T11:02:26.762Z"
   },
   {
    "duration": 14,
    "start_time": "2023-11-27T11:02:28.735Z"
   },
   {
    "duration": 5,
    "start_time": "2023-11-27T11:02:29.403Z"
   },
   {
    "duration": 6,
    "start_time": "2023-11-27T11:02:31.438Z"
   },
   {
    "duration": 225,
    "start_time": "2023-11-27T11:02:32.322Z"
   },
   {
    "duration": 282,
    "start_time": "2023-11-27T11:02:41.605Z"
   },
   {
    "duration": 470,
    "start_time": "2023-11-27T11:02:43.213Z"
   },
   {
    "duration": 12,
    "start_time": "2023-11-27T11:02:44.097Z"
   },
   {
    "duration": 1766,
    "start_time": "2023-11-27T11:02:44.693Z"
   },
   {
    "duration": 26,
    "start_time": "2023-11-27T11:02:47.379Z"
   },
   {
    "duration": 4,
    "start_time": "2023-11-27T11:02:49.339Z"
   },
   {
    "duration": 169,
    "start_time": "2023-11-27T11:02:49.950Z"
   },
   {
    "duration": 420,
    "start_time": "2023-11-27T11:02:53.530Z"
   },
   {
    "duration": 373,
    "start_time": "2023-11-27T11:02:56.207Z"
   },
   {
    "duration": 577,
    "start_time": "2023-11-27T11:03:00.122Z"
   },
   {
    "duration": 570,
    "start_time": "2023-11-27T11:03:02.178Z"
   },
   {
    "duration": 78,
    "start_time": "2023-11-27T11:03:04.443Z"
   },
   {
    "duration": 284,
    "start_time": "2023-11-27T11:03:14.027Z"
   },
   {
    "duration": 3,
    "start_time": "2023-11-27T11:03:16.273Z"
   },
   {
    "duration": 4,
    "start_time": "2023-11-27T11:03:17.170Z"
   },
   {
    "duration": 136,
    "start_time": "2023-11-27T11:03:18.253Z"
   },
   {
    "duration": 152,
    "start_time": "2023-11-27T11:03:18.994Z"
   },
   {
    "duration": 138,
    "start_time": "2023-11-27T11:03:23.929Z"
   },
   {
    "duration": 154,
    "start_time": "2023-11-27T11:03:24.503Z"
   },
   {
    "duration": 79,
    "start_time": "2023-11-27T11:03:25.155Z"
   },
   {
    "duration": 127,
    "start_time": "2023-11-27T11:03:45.071Z"
   },
   {
    "duration": 145,
    "start_time": "2023-11-27T11:03:45.609Z"
   },
   {
    "duration": 4,
    "start_time": "2023-11-27T11:03:48.709Z"
   },
   {
    "duration": 277,
    "start_time": "2023-11-27T11:03:50.245Z"
   },
   {
    "duration": 12,
    "start_time": "2023-11-27T11:03:53.032Z"
   },
   {
    "duration": 8,
    "start_time": "2023-11-27T11:03:54.486Z"
   },
   {
    "duration": 5,
    "start_time": "2023-11-27T11:03:56.841Z"
   }
  ],
  "kernelspec": {
   "display_name": "Python 3 (ipykernel)",
   "language": "python",
   "name": "python3"
  },
  "language_info": {
   "codemirror_mode": {
    "name": "ipython",
    "version": 3
   },
   "file_extension": ".py",
   "mimetype": "text/x-python",
   "name": "python",
   "nbconvert_exporter": "python",
   "pygments_lexer": "ipython3",
   "version": "3.9.5"
  },
  "toc": {
   "base_numbering": 1,
   "nav_menu": {},
   "number_sections": true,
   "sideBar": true,
   "skip_h1_title": true,
   "title_cell": "Table of Contents",
   "title_sidebar": "Contents",
   "toc_cell": false,
   "toc_position": {},
   "toc_section_display": true,
   "toc_window_display": true
  }
 },
 "nbformat": 4,
 "nbformat_minor": 5
}
